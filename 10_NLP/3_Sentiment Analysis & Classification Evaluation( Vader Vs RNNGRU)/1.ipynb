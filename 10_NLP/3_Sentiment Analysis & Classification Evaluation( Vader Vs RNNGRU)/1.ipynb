{
  "cells": [
    {
      "cell_type": "markdown",
      "metadata": {},
      "source": [
        "# Part 1: Lexicon-Based Sentiment Analysis with VADER"
      ]
    },
    {
      "cell_type": "code",
      "execution_count": 1,
      "metadata": {
        "id": "K1nLNAS2-yUV"
      },
      "outputs": [
        {
          "data": {
            "text/plain": [
              "array([-1.,  0.,  1.])"
            ]
          },
          "execution_count": 1,
          "metadata": {},
          "output_type": "execute_result"
        }
      ],
      "source": [
        "import numpy as np\n",
        "import pandas as pd\n",
        "df = pd.read_csv(\"Twitter_Data.csv\")\n",
        "df.dropna(inplace=True)\n",
        "df.drop_duplicates(inplace=True)\n",
        "df.rename(columns={\"clean_text\": \"text\"}, inplace=True)\n",
        "df['category'].unique()"
      ]
    },
    {
      "cell_type": "code",
      "execution_count": 2,
      "metadata": {
        "id": "Zo0dfn0q-z1Y"
      },
      "outputs": [],
      "source": [
        "import re\n",
        "from nltk.stem.porter import PorterStemmer\n",
        "from gensim.parsing.preprocessing import remove_stopwords\n",
        "\n",
        "stemmer = PorterStemmer() # stemmer\n",
        "def stemming(text):\n",
        "    return \" \".join([stemmer.stem(word) for word in text.split()])\n",
        "\n",
        "def preprocess(text):\n",
        "    emojis = r\"[\\U0001F600-\\U0001F64F\\U0001F300-\\U0001F5FF\\U0001F680-\\U0001F6FF\\U0001F1E0-\\U0001F1FF]+\"  # regex for emojis\n",
        "    html = r'http\\S+|www\\S+' # regex for urls\n",
        "    mentions = r\"@\\w+\" # regex for mentions\n",
        "    hashtags = r\"#\" # regex for hashtags\n",
        "    text = text.lower() # convert to lowercase\n",
        "    text = re.sub(f'{emojis}|{html}|{mentions}|{hashtags}','',text) # remove emojis, urls, mentions and hashtags\n",
        "    text = remove_stopwords(text) # remove stopwords\n",
        "    text = stemming(text)\n",
        "    return text\n",
        "\n",
        "df[\"clean_text\"] = df[\"text\"].apply(preprocess)"
      ]
    },
    {
      "cell_type": "code",
      "execution_count": 3,
      "metadata": {
        "id": "4Fiw-n3h_A1s"
      },
      "outputs": [],
      "source": [
        "from tensorflow.keras.preprocessing.text import Tokenizer\n",
        "from tensorflow.keras.preprocessing.sequence import pad_sequences\n",
        "\n",
        "tokenizer = Tokenizer(num_words=5000)\n",
        "tokenizer.fit_on_texts(df['clean_text'])\n",
        "sequences = tokenizer.texts_to_sequences(df['clean_text'])\n",
        "padded_sequences = pad_sequences(sequences, padding='post')"
      ]
    },
    {
      "cell_type": "code",
      "execution_count": 4,
      "metadata": {},
      "outputs": [
        {
          "name": "stderr",
          "output_type": "stream",
          "text": [
            "[nltk_data] Downloading package vader_lexicon to\n",
            "[nltk_data]     C:\\Users\\ahmad\\AppData\\Roaming\\nltk_data...\n",
            "[nltk_data]   Package vader_lexicon is already up-to-date!\n"
          ]
        },
        {
          "data": {
            "application/vnd.microsoft.datawrangler.viewer.v0+json": {
              "columns": [
                {
                  "name": "index",
                  "rawType": "int64",
                  "type": "integer"
                },
                {
                  "name": "text",
                  "rawType": "object",
                  "type": "string"
                },
                {
                  "name": "category",
                  "rawType": "float64",
                  "type": "float"
                },
                {
                  "name": "clean_text",
                  "rawType": "object",
                  "type": "string"
                },
                {
                  "name": "predicted",
                  "rawType": "int64",
                  "type": "integer"
                }
              ],
              "conversionMethod": "pd.DataFrame",
              "ref": "1a6644d4-1905-481a-b53f-be95ac15bb3b",
              "rows": [
                [
                  "0",
                  "when modi promised “minimum government maximum governance” expected him begin the difficult job reforming the state why does take years get justice state should and not business and should exit psus and temples",
                  "-1.0",
                  "modi promis “minimum govern maximum governance” expect begin difficult job reform state year justic state busi exit psu templ",
                  "-1"
                ],
                [
                  "1",
                  "talk all the nonsense and continue all the drama will vote for modi ",
                  "0.0",
                  "talk nonsens continu drama vote modi",
                  "0"
                ],
                [
                  "2",
                  "what did just say vote for modi  welcome bjp told you rahul the main campaigner for modi think modi should just relax",
                  "1.0",
                  "vote modi welcom bjp told rahul main campaign modi think modi relax",
                  "1"
                ],
                [
                  "3",
                  "asking his supporters prefix chowkidar their names modi did great service now there confusion what read what not now crustal clear what will crass filthy nonsensical see how most abuses are coming from chowkidars",
                  "1.0",
                  "ask support prefix chowkidar name modi great servic confus read crustal clear crass filthi nonsens abus come chowkidar",
                  "1"
                ],
                [
                  "4",
                  "answer who among these the most powerful world leader today trump putin modi may ",
                  "1.0",
                  "answer power world leader today trump putin modi",
                  "0"
                ]
              ],
              "shape": {
                "columns": 4,
                "rows": 5
              }
            },
            "text/html": [
              "<div>\n",
              "<style scoped>\n",
              "    .dataframe tbody tr th:only-of-type {\n",
              "        vertical-align: middle;\n",
              "    }\n",
              "\n",
              "    .dataframe tbody tr th {\n",
              "        vertical-align: top;\n",
              "    }\n",
              "\n",
              "    .dataframe thead th {\n",
              "        text-align: right;\n",
              "    }\n",
              "</style>\n",
              "<table border=\"1\" class=\"dataframe\">\n",
              "  <thead>\n",
              "    <tr style=\"text-align: right;\">\n",
              "      <th></th>\n",
              "      <th>text</th>\n",
              "      <th>category</th>\n",
              "      <th>clean_text</th>\n",
              "      <th>predicted</th>\n",
              "    </tr>\n",
              "  </thead>\n",
              "  <tbody>\n",
              "    <tr>\n",
              "      <th>0</th>\n",
              "      <td>when modi promised “minimum government maximum...</td>\n",
              "      <td>-1.0</td>\n",
              "      <td>modi promis “minimum govern maximum governance...</td>\n",
              "      <td>-1</td>\n",
              "    </tr>\n",
              "    <tr>\n",
              "      <th>1</th>\n",
              "      <td>talk all the nonsense and continue all the dra...</td>\n",
              "      <td>0.0</td>\n",
              "      <td>talk nonsens continu drama vote modi</td>\n",
              "      <td>0</td>\n",
              "    </tr>\n",
              "    <tr>\n",
              "      <th>2</th>\n",
              "      <td>what did just say vote for modi  welcome bjp t...</td>\n",
              "      <td>1.0</td>\n",
              "      <td>vote modi welcom bjp told rahul main campaign ...</td>\n",
              "      <td>1</td>\n",
              "    </tr>\n",
              "    <tr>\n",
              "      <th>3</th>\n",
              "      <td>asking his supporters prefix chowkidar their n...</td>\n",
              "      <td>1.0</td>\n",
              "      <td>ask support prefix chowkidar name modi great s...</td>\n",
              "      <td>1</td>\n",
              "    </tr>\n",
              "    <tr>\n",
              "      <th>4</th>\n",
              "      <td>answer who among these the most powerful world...</td>\n",
              "      <td>1.0</td>\n",
              "      <td>answer power world leader today trump putin modi</td>\n",
              "      <td>0</td>\n",
              "    </tr>\n",
              "  </tbody>\n",
              "</table>\n",
              "</div>"
            ],
            "text/plain": [
              "                                                text  category  \\\n",
              "0  when modi promised “minimum government maximum...      -1.0   \n",
              "1  talk all the nonsense and continue all the dra...       0.0   \n",
              "2  what did just say vote for modi  welcome bjp t...       1.0   \n",
              "3  asking his supporters prefix chowkidar their n...       1.0   \n",
              "4  answer who among these the most powerful world...       1.0   \n",
              "\n",
              "                                          clean_text  predicted  \n",
              "0  modi promis “minimum govern maximum governance...         -1  \n",
              "1               talk nonsens continu drama vote modi          0  \n",
              "2  vote modi welcom bjp told rahul main campaign ...          1  \n",
              "3  ask support prefix chowkidar name modi great s...          1  \n",
              "4   answer power world leader today trump putin modi          0  "
            ]
          },
          "execution_count": 4,
          "metadata": {},
          "output_type": "execute_result"
        }
      ],
      "source": [
        "import nltk\n",
        "nltk.download('vader_lexicon')\n",
        "from nltk.sentiment import SentimentIntensityAnalyzer\n",
        "sia = SentimentIntensityAnalyzer()\n",
        "def get_sentiment(text):\n",
        "    score = sia.polarity_scores(text)[\"compound\"]\n",
        "    if score >= 0.05:\n",
        "        return 1\n",
        "    elif score <= -0.05:\n",
        "        return -1\n",
        "    else:\n",
        "        return 0\n",
        "df[\"predicted\"] = df[\"clean_text\"].apply(get_sentiment)\n",
        "df.head()"
      ]
    },
    {
      "cell_type": "code",
      "execution_count": 5,
      "metadata": {},
      "outputs": [
        {
          "name": "stdout",
          "output_type": "stream",
          "text": [
            "              precision    recall  f1-score   support\n",
            "\n",
            "        -1.0       0.42      0.56      0.48     35509\n",
            "         0.0       0.58      0.53      0.55     55211\n",
            "         1.0       0.67      0.61      0.63     72249\n",
            "\n",
            "    accuracy                           0.57    162969\n",
            "   macro avg       0.56      0.56      0.56    162969\n",
            "weighted avg       0.58      0.57      0.57    162969\n",
            "\n"
          ]
        }
      ],
      "source": [
        "from sklearn.metrics import classification_report\n",
        "print(classification_report(df[\"category\"], df[\"predicted\"]))"
      ]
    },
    {
      "cell_type": "markdown",
      "metadata": {},
      "source": [
        "# Baseline RNN Model"
      ]
    },
    {
      "cell_type": "code",
      "execution_count": 11,
      "metadata": {},
      "outputs": [
        {
          "name": "stderr",
          "output_type": "stream",
          "text": [
            "C:\\Users\\ahmad\\AppData\\Local\\Temp\\ipykernel_28384\\38674933.py:2: SettingWithCopyWarning: \n",
            "A value is trying to be set on a copy of a slice from a DataFrame\n",
            "\n",
            "See the caveats in the documentation: https://pandas.pydata.org/pandas-docs/stable/user_guide/indexing.html#returning-a-view-versus-a-copy\n",
            "  df[\"category_cat\"][df[\"category\"] == -1] = 0\n",
            "C:\\Users\\ahmad\\AppData\\Local\\Temp\\ipykernel_28384\\38674933.py:3: SettingWithCopyWarning: \n",
            "A value is trying to be set on a copy of a slice from a DataFrame\n",
            "\n",
            "See the caveats in the documentation: https://pandas.pydata.org/pandas-docs/stable/user_guide/indexing.html#returning-a-view-versus-a-copy\n",
            "  df[\"category_cat\"][df[\"category\"] == 0] = 1\n",
            "C:\\Users\\ahmad\\AppData\\Local\\Temp\\ipykernel_28384\\38674933.py:4: SettingWithCopyWarning: \n",
            "A value is trying to be set on a copy of a slice from a DataFrame\n",
            "\n",
            "See the caveats in the documentation: https://pandas.pydata.org/pandas-docs/stable/user_guide/indexing.html#returning-a-view-versus-a-copy\n",
            "  df[\"category_cat\"][df[\"category\"] == 1] = 2\n"
          ]
        }
      ],
      "source": [
        "df[\"category_cat\"] = df[\"category\"].copy()\n",
        "df[\"category_cat\"][df[\"category\"] == -1] = 0\n",
        "df[\"category_cat\"][df[\"category\"] == 0] = 1\n",
        "df[\"category_cat\"][df[\"category\"] == 1] = 2"
      ]
    },
    {
      "cell_type": "code",
      "execution_count": 12,
      "metadata": {
        "id": "INaxIjQU_DK4"
      },
      "outputs": [],
      "source": [
        "from sklearn.model_selection import train_test_split\n",
        "from sklearn.utils import compute_class_weight\n",
        "\n",
        "\n",
        "X_train, X_test, y_train, y_test = train_test_split(padded_sequences,\n",
        "                                                    df['category_cat'].astype(int),\n",
        "                                                    test_size=0.2,\n",
        "                                                    random_state=42,\n",
        "                                                    stratify=df['category_cat'])\n",
        "\n",
        "class_weights = compute_class_weight(\n",
        "    class_weight='balanced',\n",
        "    classes=np.unique(y_train),\n",
        "    y=y_train\n",
        ")\n",
        "y_train = y_train.to_numpy().reshape(-1,1)\n",
        "\n",
        "class_weights_dict = dict(zip(np.unique(y_train), class_weights))\n",
        "\n",
        "sample_weights = np.zeros(len(y_train))\n",
        "for i in range(len(y_train)):\n",
        "    sample_weights[i] = class_weights_dict[y_train[i][0]]"
      ]
    },
    {
      "cell_type": "code",
      "execution_count": 23,
      "metadata": {
        "id": "YnI0zazH_Ozv"
      },
      "outputs": [],
      "source": [
        "from tensorflow.keras.callbacks import EarlyStopping\n",
        "from tensorflow.keras.callbacks import ModelCheckpoint\n",
        "from tensorflow.keras.callbacks import ModelCheckpoint, ReduceLROnPlateau\n",
        "from tensorflow.keras.callbacks import TensorBoard\n",
        "\n",
        "# Monitor\n",
        "tensorboard_callback = TensorBoard(log_dir='./logs', histogram_freq=1)\n",
        "\n",
        "# Save best Model\n",
        "checkpoint_path = 'Weights/best_rnn_model.keras'\n",
        "checkpoint_callback = ModelCheckpoint(\n",
        "    filepath=checkpoint_path,\n",
        "    monitor='val_accuracy',\n",
        "    mode='max', \n",
        "    save_best_only=True,\n",
        "    verbose=0)\n",
        "\n",
        "# Reduce Learning Rate on Validation set accuracy reduction\n",
        "lr_reduce_callback = ReduceLROnPlateau(\n",
        "    monitor='val_accuracy',\n",
        "    factor=0.1,\n",
        "    patience=3,\n",
        "    min_delta=1e-3,\n",
        "    cooldown=2,\n",
        "    min_lr=1e-8,\n",
        "    verbose=0)\n",
        "\n",
        "# # Early Stopping\n",
        "# early_stopping_callback = EarlyStopping(\n",
        "#     monitor='loss',\n",
        "#     min_delta=1e-3,\n",
        "#     patience=5,\n",
        "#     verbose=0\n",
        "# )\n",
        "# keras tdqm\n",
        "from tqdm.keras import TqdmCallback"
      ]
    },
    {
      "cell_type": "code",
      "execution_count": 24,
      "metadata": {
        "colab": {
          "base_uri": "https://localhost:8080/"
        },
        "id": "bTKbLHob_SSw",
        "outputId": "c60b8519-1691-4eec-9972-d02bb458ee95"
      },
      "outputs": [
        {
          "data": {
            "application/vnd.jupyter.widget-view+json": {
              "model_id": "a9be80775eb846babe800e3372e3b2e7",
              "version_major": 2,
              "version_minor": 0
            },
            "text/plain": [
              "0epoch [00:00, ?epoch/s]"
            ]
          },
          "metadata": {},
          "output_type": "display_data"
        },
        {
          "data": {
            "application/vnd.jupyter.widget-view+json": {
              "model_id": "04dc5d96720f4fc3984a3d2844f2c362",
              "version_major": 2,
              "version_minor": 0
            },
            "text/plain": [
              "0batch [00:00, ?batch/s]"
            ]
          },
          "metadata": {},
          "output_type": "display_data"
        }
      ],
      "source": [
        "from tensorflow.keras.optimizers import Adam\n",
        "import tensorflow_addons as tfa\n",
        "from tensorflow.keras.models import Sequential\n",
        "from tensorflow.keras.layers import Embedding, SimpleRNN, Dense, SpatialDropout1D, Dropout\n",
        "from tensorflow.keras.regularizers import l2\n",
        "\n",
        "model = Sequential()\n",
        "model.add(Embedding(input_dim=5000, output_dim=100))\n",
        "model.add(SpatialDropout1D(0.2))\n",
        "model.add(SimpleRNN(128, dropout=0.3))\n",
        "model.add(Dense(256, activation='relu', kernel_regularizer=l2(0.01)))\n",
        "model.add(Dropout(0.3))\n",
        "model.add(Dense(3, activation='softmax'))\n",
        "\n",
        "optimizer = Adam(learning_rate=1e-3, clipvalue=1.0)\n",
        "model.compile(  loss='sparse_categorical_crossentropy',\n",
        "                optimizer=optimizer,\n",
        "                metrics=['accuracy'],\n",
        "                )\n",
        "\n",
        "history = None\n",
        "try:\n",
        "    history = model.fit(X_train, y_train,\n",
        "                epochs=25,\n",
        "                verbose=0,\n",
        "                batch_size=64,\n",
        "                validation_data=(X_test, y_test),\n",
        "                sample_weight=sample_weights,\n",
        "                callbacks=[ lr_reduce_callback,\n",
        "                            checkpoint_callback,\n",
        "                            tensorboard_callback,\n",
        "                            TqdmCallback(verbose=1),\n",
        "                            ])\n",
        "except KeyboardInterrupt:\n",
        "    print(\"Manually Interruptted\")\n",
        "    \n",
        "if history:\n",
        "    pd.DataFrame(history.history).to_csv(\"History/history_rnn.csv\")"
      ]
    },
    {
      "cell_type": "markdown",
      "metadata": {},
      "source": [
        "# LSTM Model"
      ]
    },
    {
      "cell_type": "code",
      "execution_count": 25,
      "metadata": {},
      "outputs": [
        {
          "data": {
            "application/vnd.jupyter.widget-view+json": {
              "model_id": "ba2b1204637a4dd4b114b2872d0c81d3",
              "version_major": 2,
              "version_minor": 0
            },
            "text/plain": [
              "0epoch [00:00, ?epoch/s]"
            ]
          },
          "metadata": {},
          "output_type": "display_data"
        },
        {
          "data": {
            "application/vnd.jupyter.widget-view+json": {
              "model_id": "165aaee27f9046edad99839e34840301",
              "version_major": 2,
              "version_minor": 0
            },
            "text/plain": [
              "0batch [00:00, ?batch/s]"
            ]
          },
          "metadata": {},
          "output_type": "display_data"
        },
        {
          "name": "stdout",
          "output_type": "stream",
          "text": [
            "WARNING:tensorflow:Callback method `on_train_batch_end` is slow compared to the batch time (batch time: 0.0198s vs `on_train_batch_end` time: 0.0479s). Check your callbacks.\n"
          ]
        }
      ],
      "source": [
        "from tensorflow.keras.layers import LSTM\n",
        "\n",
        "\n",
        "model = Sequential()\n",
        "model.add(Embedding(input_dim=5000, output_dim=100))\n",
        "model.add(SpatialDropout1D(0.2))\n",
        "model.add(LSTM(128, dropout=0.3))\n",
        "model.add(Dense(256, activation='relu', kernel_regularizer=l2(0.01)))\n",
        "model.add(Dropout(0.3))\n",
        "model.add(Dense(3, activation='softmax'))\n",
        "# Save best Model\n",
        "checkpoint_path = 'Weights/best_lstm_model.keras'\n",
        "checkpoint_callback = ModelCheckpoint(\n",
        "    filepath=checkpoint_path,\n",
        "    monitor='val_accuracy',\n",
        "    mode='max', \n",
        "    save_best_only=True,\n",
        "    verbose=0)\n",
        "\n",
        "optimizer = Adam(learning_rate=1e-3, clipvalue=1.0)\n",
        "model.compile(  loss='sparse_categorical_crossentropy',\n",
        "                optimizer=optimizer,\n",
        "                metrics=['accuracy'],\n",
        "                )\n",
        "\n",
        "history = None\n",
        "try:\n",
        "    history = model.fit(X_train, y_train,\n",
        "                epochs=25,\n",
        "                verbose=0,\n",
        "                batch_size=32,\n",
        "                validation_data=(X_test, y_test),\n",
        "                sample_weight=sample_weights,\n",
        "                callbacks=[ lr_reduce_callback,\n",
        "                            checkpoint_callback,\n",
        "                            tensorboard_callback,\n",
        "                            TqdmCallback(verbose=1),\n",
        "                            ] )\n",
        "except KeyboardInterrupt:\n",
        "    print(\"Manually Interruptted\")\n",
        "    \n",
        "    \n",
        "if history:\n",
        "    pd.DataFrame(history.history).to_csv(\"History/history_lstm.csv\")"
      ]
    },
    {
      "cell_type": "markdown",
      "metadata": {},
      "source": [
        "# GRU Model"
      ]
    },
    {
      "cell_type": "code",
      "execution_count": 26,
      "metadata": {},
      "outputs": [
        {
          "data": {
            "application/vnd.jupyter.widget-view+json": {
              "model_id": "3e50fe36ccd444259c49d3de96d01a2f",
              "version_major": 2,
              "version_minor": 0
            },
            "text/plain": [
              "0epoch [00:00, ?epoch/s]"
            ]
          },
          "metadata": {},
          "output_type": "display_data"
        },
        {
          "data": {
            "application/vnd.jupyter.widget-view+json": {
              "model_id": "abe3b1b63443449b9802bb40976bb198",
              "version_major": 2,
              "version_minor": 0
            },
            "text/plain": [
              "0batch [00:00, ?batch/s]"
            ]
          },
          "metadata": {},
          "output_type": "display_data"
        },
        {
          "name": "stdout",
          "output_type": "stream",
          "text": [
            "WARNING:tensorflow:Callback method `on_train_batch_end` is slow compared to the batch time (batch time: 0.0184s vs `on_train_batch_end` time: 0.0441s). Check your callbacks.\n"
          ]
        }
      ],
      "source": [
        "from tensorflow.keras.layers import GRU\n",
        "\n",
        "\n",
        "model = Sequential()\n",
        "model.add(Embedding(input_dim=5000, output_dim=100))\n",
        "model.add(SpatialDropout1D(0.2))\n",
        "model.add(GRU(128, dropout=0.3))\n",
        "model.add(Dense(256, activation='relu', kernel_regularizer=l2(0.01)))\n",
        "model.add(Dropout(0.3))\n",
        "model.add(Dense(3, activation='softmax'))\n",
        "# Save best Model\n",
        "checkpoint_path = 'Weights/best_gru_model.keras'\n",
        "checkpoint_callback = ModelCheckpoint(\n",
        "    filepath=checkpoint_path,\n",
        "    monitor='val_accuracy',\n",
        "    mode='max', \n",
        "    save_best_only=True,\n",
        "    verbose=0)\n",
        "\n",
        "optimizer = Adam(learning_rate=1e-3, clipvalue=1.0)\n",
        "model.compile(  loss='sparse_categorical_crossentropy',\n",
        "                optimizer=optimizer,\n",
        "                metrics=['accuracy'],\n",
        "                )\n",
        "\n",
        "history = None\n",
        "try:\n",
        "    history = model.fit(X_train, y_train,\n",
        "                epochs=25,\n",
        "                verbose=0,\n",
        "                batch_size=32,\n",
        "                validation_data=(X_test, y_test),\n",
        "                sample_weight=sample_weights,\n",
        "                callbacks=[ lr_reduce_callback,\n",
        "                            checkpoint_callback,\n",
        "                            tensorboard_callback,\n",
        "                            TqdmCallback(verbose=1),\n",
        "    \n",
        "                            ] )\n",
        "except KeyboardInterrupt:\n",
        "    print(\"Manually Interruptted\")\n",
        "    \n",
        "    \n",
        "if history:\n",
        "    pd.DataFrame(history.history).to_csv(\"History/history_gru.csv\")"
      ]
    },
    {
      "cell_type": "code",
      "execution_count": 27,
      "metadata": {},
      "outputs": [],
      "source": [
        "from tensorflow.keras.models import load_model\n",
        "model_gru = load_model('Weights/best_gru_model.keras')\n",
        "model_lstm = load_model('Weights/best_lstm_model.keras')\n",
        "model_rnn = load_model('Weights/best_rnn_model.keras')"
      ]
    },
    {
      "cell_type": "code",
      "execution_count": 32,
      "metadata": {},
      "outputs": [
        {
          "data": {
            "application/vnd.microsoft.datawrangler.viewer.v0+json": {
              "columns": [
                {
                  "name": "index",
                  "rawType": "object",
                  "type": "string"
                },
                {
                  "name": "loss",
                  "rawType": "float64",
                  "type": "float"
                },
                {
                  "name": "accuracy",
                  "rawType": "float64",
                  "type": "float"
                },
                {
                  "name": "f1",
                  "rawType": "float64",
                  "type": "float"
                }
              ],
              "conversionMethod": "pd.DataFrame",
              "ref": "777005a6-0c22-4a9b-a9b5-3f775940c5d6",
              "rows": [
                [
                  "GRU",
                  "1.0956189632415771",
                  "0.44333311915397644",
                  "0.20477283677691807"
                ],
                [
                  "LSTM",
                  "0.49910587072372437",
                  "0.824384868144989",
                  "0.8175035568026093"
                ],
                [
                  "RNN",
                  "0.5848585963249207",
                  "0.7960054278373718",
                  "0.7877163631680165"
                ]
              ],
              "shape": {
                "columns": 3,
                "rows": 3
              }
            },
            "text/html": [
              "<div>\n",
              "<style scoped>\n",
              "    .dataframe tbody tr th:only-of-type {\n",
              "        vertical-align: middle;\n",
              "    }\n",
              "\n",
              "    .dataframe tbody tr th {\n",
              "        vertical-align: top;\n",
              "    }\n",
              "\n",
              "    .dataframe thead th {\n",
              "        text-align: right;\n",
              "    }\n",
              "</style>\n",
              "<table border=\"1\" class=\"dataframe\">\n",
              "  <thead>\n",
              "    <tr style=\"text-align: right;\">\n",
              "      <th></th>\n",
              "      <th>loss</th>\n",
              "      <th>accuracy</th>\n",
              "      <th>f1</th>\n",
              "    </tr>\n",
              "  </thead>\n",
              "  <tbody>\n",
              "    <tr>\n",
              "      <th>GRU</th>\n",
              "      <td>1.095619</td>\n",
              "      <td>0.443333</td>\n",
              "      <td>0.204773</td>\n",
              "    </tr>\n",
              "    <tr>\n",
              "      <th>LSTM</th>\n",
              "      <td>0.499106</td>\n",
              "      <td>0.824385</td>\n",
              "      <td>0.817504</td>\n",
              "    </tr>\n",
              "    <tr>\n",
              "      <th>RNN</th>\n",
              "      <td>0.584859</td>\n",
              "      <td>0.796005</td>\n",
              "      <td>0.787716</td>\n",
              "    </tr>\n",
              "  </tbody>\n",
              "</table>\n",
              "</div>"
            ],
            "text/plain": [
              "          loss  accuracy        f1\n",
              "GRU   1.095619  0.443333  0.204773\n",
              "LSTM  0.499106  0.824385  0.817504\n",
              "RNN   0.584859  0.796005  0.787716"
            ]
          },
          "execution_count": 32,
          "metadata": {},
          "output_type": "execute_result"
        }
      ],
      "source": [
        "from sklearn.metrics import f1_score\n",
        "\n",
        "# comparison\n",
        "evals = []\n",
        "models = [model_gru, model_lstm, model_rnn]\n",
        "for model in models:\n",
        "    y_pred = model.predict(X_test)\n",
        "    y_pred = y_pred.argmax(axis=1)  # Convert softmax output to class indices\n",
        "\n",
        "    f1 = f1_score(y_test, y_pred, average='macro')  # Macro-averaged F1-score for 3 classes\n",
        "\n",
        "    loss, acc = model.evaluate(X_test, y_test, verbose=0)\n",
        "    evals.append([loss, acc, f1])\n",
        "\n",
        "evals = pd.DataFrame(evals, columns=['loss', 'accuracy', 'f1'])\n",
        "evals.index = ['GRU', 'LSTM', 'RNN']\n",
        "evals"
      ]
    },
    {
      "cell_type": "markdown",
      "metadata": {},
      "source": [
        "# GRU had small score cuz of dropout rate"
      ]
    },
    {
      "cell_type": "code",
      "execution_count": 33,
      "metadata": {},
      "outputs": [
        {
          "data": {
            "image/png": "[encoded data removed]",
            "text/plain": [
              "<Figure size 640x480 with 1 Axes>"
            ]
          },
          "metadata": {},
          "output_type": "display_data"
        }
      ],
      "source": [
        "history_gru = pd.read_csv(\"History/history_gru.csv\")\n",
        "history_lstm = pd.read_csv(\"History/history_lstm.csv\")\n",
        "history_rnn = pd.read_csv(\"History/history_rnn.csv\")\n",
        "# plotting\n",
        "import matplotlib.pyplot as plt\n",
        "plt.plot(history_gru['val_accuracy'])\n",
        "plt.plot(history_lstm['val_accuracy'])\n",
        "plt.plot(history_rnn['val_accuracy'])\n",
        "plt.title('Model Accuracy')\n",
        "plt.ylabel('Accuracy')\n",
        "plt.xlabel('Epoch')\n",
        "plt.legend(['GRU', 'LSTM', 'RNN'])\n",
        "plt.show()"
      ]
    },
    {
      "cell_type": "markdown",
      "metadata": {},
      "source": [
        "### Comparison of VADER vs. RNN/GRU/LSTM for Sentiment Analysis  \n",
        "\n",
        "| Feature                 | VADER                      | RNN/GRU/LSTM (Deep Learning) |\n",
        "|-------------------------|---------------------------|-----------------------------|\n",
        "| **Interpretability**    | ✅ **Highly interpretable** – Uses word lexicons with clear rules. | ❌ **Low interpretability** – Complex learned representations make it hard to explain. |\n",
        "| **Computational Requirements** | ✅ **Very low** – Rule-based, fast even on large datasets. | ❌ **High** – Requires significant compute power for training and inference. |\n",
        "| **Handling Context/Sarcasm** | ❌ **Poor** – Does not handle context, sarcasm, or nuanced language well. | ✅ **Better** – Can learn contextual relationships and detect subtle sentiment shifts. |\n",
        "| **Need for Labeled Data** | ❌ **No labeled data required** – Prebuilt lexicon-based approach. | ✅ **Requires labeled data** – Needs annotated datasets for supervised learning. |"
      ]
    },
    {
      "cell_type": "markdown",
      "metadata": {},
      "source": [
        "Why might LSTM-based models struggle with short texts (e.g., tweets) compared to VADER?\n",
        "\n",
        "- Becuase lstms need to carry context for long sequences, so words at the start might not get carried to the end\n",
        "- While Vader just add all the scores of each single word \n",
        "\n",
        "When would you prefer a lexicon-based approach over a neural network?\n",
        "- I think when I have small power or resources, as lexicon-based are memory based, while NNs need computation."
      ]
    },
    {
      "cell_type": "code",
      "execution_count": 35,
      "metadata": {},
      "outputs": [
        {
          "name": "stdout",
          "output_type": "stream",
          "text": [
            "1019/1019 [==============================] - 4s 4ms/step\n"
          ]
        },
        {
          "data": {
            "image/png": "[encoded data removed]",
            "text/plain": [
              "<Figure size 640x480 with 2 Axes>"
            ]
          },
          "metadata": {},
          "output_type": "display_data"
        },
        {
          "name": "stdout",
          "output_type": "stream",
          "text": [
            "1019/1019 [==============================] - 4s 4ms/step\n"
          ]
        },
        {
          "data": {
            "image/png": "[encoded data removed]",
            "text/plain": [
              "<Figure size 640x480 with 2 Axes>"
            ]
          },
          "metadata": {},
          "output_type": "display_data"
        },
        {
          "name": "stdout",
          "output_type": "stream",
          "text": [
            "1019/1019 [==============================] - 8s 8ms/step\n"
          ]
        },
        {
          "data": {
            "image/png": "[encoded data removed]",
            "text/plain": [
              "<Figure size 640x480 with 2 Axes>"
            ]
          },
          "metadata": {},
          "output_type": "display_data"
        }
      ],
      "source": [
        "from seaborn import heatmap\n",
        "from sklearn.metrics import confusion_matrix\n",
        "# Create heatmap for confusion matrix\n",
        "for model in models:\n",
        "    y_pred = model.predict(X_test)\n",
        "    y_pred = y_pred.argmax(axis=1)  # Convert softmax output to class indices\n",
        "    cm = confusion_matrix(y_test, y_pred)\n",
        "    heatmap(cm, annot=True, cmap='Blues', fmt='d')\n",
        "    plt.xlabel('Predicted')\n",
        "    plt.ylabel('Actual')\n",
        "    plt.show()"
      ]
    }
  ],
  "metadata": {
    "accelerator": "GPU",
    "colab": {
      "gpuType": "T4",
      "provenance": []
    },
    "kernelspec": {
      "display_name": "tf_gpu",
      "language": "python",
      "name": "python3"
    },
    "language_info": {
      "codemirror_mode": {
        "name": "ipython",
        "version": 3
      },
      "file_extension": ".py",
      "mimetype": "text/x-python",
      "name": "python",
      "nbconvert_exporter": "python",
      "pygments_lexer": "ipython3",
      "version": "3.8.19"
    }
  },
  "nbformat": 4,
  "nbformat_minor": 0
}
