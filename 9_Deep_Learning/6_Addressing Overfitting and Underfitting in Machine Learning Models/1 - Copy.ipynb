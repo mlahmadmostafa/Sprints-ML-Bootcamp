{
 "cells": [
  {
   "cell_type": "code",
   "execution_count": 1,
   "metadata": {},
   "outputs": [],
   "source": [
    "from tensorflow.keras import datasets\n",
    "import tensorflow as tf\n",
    "import optuna\n",
    "\n",
    "# loading CIFAR100 dataset\n",
    "(train_images, train_labels), (test_images, test_labels) = datasets.cifar100.load_data()\n",
    "def train_augment(image, label):\n",
    "    # standarize\n",
    "    image = tf.image.per_image_standardization(image)\n",
    "    image = tf.image.random_flip_left_right(image)\n",
    "    image = tf.image.random_flip_up_down(image)\n",
    "    image = tf.image.rot90(image, k=tf.random.uniform(shape=[], minval=0, maxval=4, dtype=tf.int32))\n",
    "    image = tf.image.random_crop(image, size=[32, 32, 3])\n",
    "    \n",
    "    return image, label  # Return both image and label\n",
    "\n",
    "def test_augment(image, label):\n",
    "    return image, label"
   ]
  },
  {
   "cell_type": "code",
   "execution_count": 2,
   "metadata": {},
   "outputs": [],
   "source": [
    "from sklearn.model_selection import train_test_split\n",
    "# splitting validation set and test set\n",
    "test_images, val_images, test_labels, val_labels = train_test_split(test_images, test_labels, test_size=0.5, random_state=42)"
   ]
  },
  {
   "cell_type": "code",
   "execution_count": 3,
   "metadata": {},
   "outputs": [],
   "source": [
    "train_ds = (\n",
    "    tf.data.Dataset.from_tensor_slices((train_images, train_labels))\n",
    "    .map(train_augment, num_parallel_calls=tf.data.AUTOTUNE)  # Now works correctly\n",
    "    .batch(32)\n",
    "    .prefetch(tf.data.AUTOTUNE)\n",
    ")\n",
    "val_ds = (\n",
    "    tf.data.Dataset.from_tensor_slices((val_images, val_labels))\n",
    "    .map(test_augment, num_parallel_calls=tf.data.AUTOTUNE)  # Ensure label is passed correctly\n",
    "    .batch(32)\n",
    "    .prefetch(tf.data.AUTOTUNE)\n",
    ")\n",
    "\n",
    "test_ds = (\n",
    "    tf.data.Dataset.from_tensor_slices((test_images, test_labels))\n",
    "    .map(test_augment, num_parallel_calls=tf.data.AUTOTUNE)\n",
    "    .batch(32)\n",
    "    .prefetch(tf.data.AUTOTUNE)\n",
    ")\n"
   ]
  },
  {
   "cell_type": "markdown",
   "metadata": {},
   "source": [
    "Finding best architecture complexity between 1, 2 and 3 conv layers"
   ]
  },
  {
   "cell_type": "code",
   "execution_count": 4,
   "metadata": {},
   "outputs": [],
   "source": [
    "def conv_block(k, filter_size = (3, 3), dropout=0, regularization=0):\n",
    "    block = [\n",
    "    tf.keras.layers.MaxPooling2D((2, 2)),\n",
    "    tf.keras.layers.Conv2D(k, filter_size, activation='relu', kernel_regularizer=tf.keras.regularizers.l2(regularization)),\n",
    "    ]\n",
    "    if dropout:\n",
    "        block.append(tf.keras.layers.Dropout(dropout))\n",
    "    return block\n",
    "\n",
    "def final_block(dropout = 0, regularization=0):\n",
    "    block = [\n",
    "        tf.keras.layers.Flatten(),\n",
    "        tf.keras.layers.Dense(64, activation='relu', kernel_regularizer=tf.keras.regularizers.l2(regularization)),\n",
    "    ]\n",
    "    if dropout:\n",
    "        block.append(tf.keras.layers.Dropout(dropout))\n",
    "    block.append(tf.keras.layers.Dense(100, activation='softmax'))\n",
    "    return block\n"
   ]
  },
  {
   "cell_type": "code",
   "execution_count": 5,
   "metadata": {},
   "outputs": [],
   "source": [
    "def create_model(num_layers,base = 5, kernels = (3, 3), regularization=0, dropout=0):\n",
    "    inputs = tf.keras.layers.Input(shape=(32, 32, 3))\n",
    "    x = tf.keras.layers.Conv2D(2**base, kernels, activation='relu')(inputs)\n",
    "    \n",
    "    for layer_number in range(num_layers):\n",
    "        for sub_layer in conv_block(2**(base+layer_number), kernels, dropout, regularization):\n",
    "            try :\n",
    "                x = sub_layer(x)\n",
    "            except ValueError:\n",
    "                pass\n",
    "            \n",
    "    for sub_layer in final_block():\n",
    "        x = sub_layer(x)\n",
    "    model = tf.keras.Model(inputs=inputs, outputs=x)\n",
    "        \n",
    "    return model"
   ]
  },
  {
   "cell_type": "code",
   "execution_count": 6,
   "metadata": {},
   "outputs": [],
   "source": [
    "model = create_model(3, kernels = (7,7), regularization=1, dropout=1, droplayer='conv')"
   ]
  },
  {
   "cell_type": "code",
   "execution_count": 7,
   "metadata": {},
   "outputs": [],
   "source": [
    "def objective(trial):\n",
    "    lr = trial.suggest_loguniform('learning_rate', 1e-5, 1e-2)\n",
    "    model = create_model(num_layers = trial.suggest_int('num_layers', 0, 3), \n",
    "                         base = trial.suggest_int('base', 4, 8),\n",
    "                         kernels = trial.suggest_categorical(\"kernel_size\", [(3, 3), (5, 5), (7, 7)]),\n",
    "                         regularization = trial.suggest_float('regularization', 0, 1e-3),\n",
    "                         dropout = trial.suggest_float('dropout', 0, 0.3),\n",
    "                         )\n",
    "                         \n",
    "                    \n",
    "\n",
    "    model.compile(optimizer=tf.keras.optimizers.Adam(learning_rate=lr), loss='sparse_categorical_crossentropy', metrics=['accuracy'])\n",
    "    model.fit(train_ds, epochs=10, validation_data=(val_ds), verbose=0)\n",
    "    return model.evaluate(test_ds)[1]"
   ]
  },
  {
   "cell_type": "code",
   "execution_count": 8,
   "metadata": {},
   "outputs": [],
   "source": [
    "import warnings\n",
    "warnings.filterwarnings('ignore')"
   ]
  },
  {
   "cell_type": "code",
   "execution_count": 9,
   "metadata": {},
   "outputs": [
    {
     "name": "stderr",
     "output_type": "stream",
     "text": [
      "[I 2025-02-10 23:22:14,116] A new study created in memory with name: no-name-19ce0ebd-0891-4e13-9139-c745fa3002d6\n"
     ]
    },
    {
     "name": "stdout",
     "output_type": "stream",
     "text": [
      "157/157 [==============================] - 1s 4ms/step - loss: 4.6039 - accuracy: 0.0104\n"
     ]
    },
    {
     "name": "stderr",
     "output_type": "stream",
     "text": [
      "[I 2025-02-10 23:25:08,255] Trial 0 finished with value: 0.010400000028312206 and parameters: {'learning_rate': 0.001744585696079045, 'num_layers': 0, 'base': 8, 'kernel_size': (5, 5), 'regularization': 0.00033265609780656923, 'dropout': 0.16839246773270714, 'droplayer': 'conv'}. Best is trial 0 with value: 0.010400000028312206.\n"
     ]
    },
    {
     "name": "stdout",
     "output_type": "stream",
     "text": [
      "157/157 [==============================] - 1s 4ms/step - loss: 4.6059 - accuracy: 0.0090\n"
     ]
    },
    {
     "name": "stderr",
     "output_type": "stream",
     "text": [
      "[I 2025-02-10 23:27:31,673] Trial 1 finished with value: 0.008999999612569809 and parameters: {'learning_rate': 0.0020230109517695833, 'num_layers': 3, 'base': 7, 'kernel_size': (7, 7), 'regularization': 0.0005657088143989586, 'dropout': 0.12200412943936634, 'droplayer': 'dense'}. Best is trial 0 with value: 0.010400000028312206.\n"
     ]
    },
    {
     "name": "stdout",
     "output_type": "stream",
     "text": [
      "157/157 [==============================] - 1s 4ms/step - loss: 4.6056 - accuracy: 0.0090\n"
     ]
    },
    {
     "name": "stderr",
     "output_type": "stream",
     "text": [
      "[I 2025-02-10 23:30:27,427] Trial 2 finished with value: 0.008999999612569809 and parameters: {'learning_rate': 0.0013790266154543997, 'num_layers': 0, 'base': 8, 'kernel_size': (3, 3), 'regularization': 0.00014454524139459658, 'dropout': 0.1294255311348532, 'droplayer': 'conv'}. Best is trial 0 with value: 0.010400000028312206.\n"
     ]
    },
    {
     "name": "stdout",
     "output_type": "stream",
     "text": [
      "157/157 [==============================] - 0s 3ms/step - loss: 4.6078 - accuracy: 0.0088\n"
     ]
    },
    {
     "name": "stderr",
     "output_type": "stream",
     "text": [
      "[I 2025-02-10 23:31:39,663] Trial 3 finished with value: 0.008799999952316284 and parameters: {'learning_rate': 0.00014470796738284887, 'num_layers': 1, 'base': 4, 'kernel_size': (3, 3), 'regularization': 0.0009544505585643436, 'dropout': 0.17481243296041124, 'droplayer': 'conv'}. Best is trial 0 with value: 0.010400000028312206.\n"
     ]
    },
    {
     "name": "stdout",
     "output_type": "stream",
     "text": [
      "157/157 [==============================] - 1s 8ms/step - loss: 2.8444 - accuracy: 0.3022\n"
     ]
    },
    {
     "name": "stderr",
     "output_type": "stream",
     "text": [
      "[I 2025-02-10 23:39:16,435] Trial 4 finished with value: 0.30219998955726624 and parameters: {'learning_rate': 7.434362916059892e-05, 'num_layers': 3, 'base': 8, 'kernel_size': (5, 5), 'regularization': 8.092986869844221e-05, 'dropout': 0.18220561656045994, 'droplayer': 'conv'}. Best is trial 4 with value: 0.30219998955726624.\n"
     ]
    },
    {
     "name": "stdout",
     "output_type": "stream",
     "text": [
      "157/157 [==============================] - 1s 4ms/step - loss: 4.6109 - accuracy: 0.0104\n"
     ]
    },
    {
     "name": "stderr",
     "output_type": "stream",
     "text": [
      "[I 2025-02-10 23:42:29,532] Trial 5 finished with value: 0.010400000028312206 and parameters: {'learning_rate': 0.00928550220624311, 'num_layers': 0, 'base': 8, 'kernel_size': (7, 7), 'regularization': 0.0004425953652227079, 'dropout': 0.2555089658899971, 'droplayer': 'conv'}. Best is trial 4 with value: 0.30219998955726624.\n"
     ]
    },
    {
     "name": "stdout",
     "output_type": "stream",
     "text": [
      "157/157 [==============================] - 1s 5ms/step - loss: 4.5901 - accuracy: 0.0168\n"
     ]
    },
    {
     "name": "stderr",
     "output_type": "stream",
     "text": [
      "[I 2025-02-10 23:44:18,410] Trial 6 finished with value: 0.01679999940097332 and parameters: {'learning_rate': 2.32798388298667e-05, 'num_layers': 2, 'base': 6, 'kernel_size': (3, 3), 'regularization': 0.00023536180024728493, 'dropout': 0.2983041000200215, 'droplayer': 'conv'}. Best is trial 4 with value: 0.30219998955726624.\n"
     ]
    },
    {
     "name": "stdout",
     "output_type": "stream",
     "text": [
      "157/157 [==============================] - 1s 3ms/step - loss: 4.6052 - accuracy: 0.0088\n"
     ]
    },
    {
     "name": "stderr",
     "output_type": "stream",
     "text": [
      "[I 2025-02-10 23:45:41,097] Trial 7 finished with value: 0.008799999952316284 and parameters: {'learning_rate': 0.00016039428806683, 'num_layers': 0, 'base': 5, 'kernel_size': (3, 3), 'regularization': 0.00029156637576249734, 'dropout': 0.19618888676636095, 'droplayer': 'conv'}. Best is trial 4 with value: 0.30219998955726624.\n"
     ]
    },
    {
     "name": "stdout",
     "output_type": "stream",
     "text": [
      "157/157 [==============================] - 1s 4ms/step - loss: 4.5909 - accuracy: 0.0140\n"
     ]
    },
    {
     "name": "stderr",
     "output_type": "stream",
     "text": [
      "[I 2025-02-10 23:47:08,263] Trial 8 finished with value: 0.014000000432133675 and parameters: {'learning_rate': 4.2305705037972735e-05, 'num_layers': 1, 'base': 4, 'kernel_size': (3, 3), 'regularization': 0.00026328406046943856, 'dropout': 0.0023623809707683185, 'droplayer': 'dense'}. Best is trial 4 with value: 0.30219998955726624.\n"
     ]
    },
    {
     "name": "stdout",
     "output_type": "stream",
     "text": [
      "157/157 [==============================] - 1s 4ms/step - loss: 3.6494 - accuracy: 0.1676\n"
     ]
    },
    {
     "name": "stderr",
     "output_type": "stream",
     "text": [
      "[I 2025-02-10 23:49:41,120] Trial 9 finished with value: 0.16760000586509705 and parameters: {'learning_rate': 0.001251812870841731, 'num_layers': 3, 'base': 6, 'kernel_size': (3, 3), 'regularization': 0.00047194992447824113, 'dropout': 0.28896251027657566, 'droplayer': 'dense'}. Best is trial 4 with value: 0.30219998955726624.\n"
     ]
    },
    {
     "name": "stdout",
     "output_type": "stream",
     "text": [
      "157/157 [==============================] - 1s 4ms/step - loss: 3.7716 - accuracy: 0.1508\n"
     ]
    },
    {
     "name": "stderr",
     "output_type": "stream",
     "text": [
      "[I 2025-02-10 23:52:14,278] Trial 10 finished with value: 0.15080000460147858 and parameters: {'learning_rate': 1.2775878827574456e-05, 'num_layers': 2, 'base': 7, 'kernel_size': (5, 5), 'regularization': 5.954995198763253e-05, 'dropout': 0.060316529690033524, 'droplayer': 'dense'}. Best is trial 4 with value: 0.30219998955726624.\n"
     ]
    },
    {
     "name": "stdout",
     "output_type": "stream",
     "text": [
      "157/157 [==============================] - 1s 4ms/step - loss: 3.8422 - accuracy: 0.1156\n"
     ]
    },
    {
     "name": "stderr",
     "output_type": "stream",
     "text": [
      "[I 2025-02-10 23:53:52,541] Trial 11 finished with value: 0.11559999734163284 and parameters: {'learning_rate': 0.0004910730489821061, 'num_layers': 3, 'base': 6, 'kernel_size': (5, 5), 'regularization': 0.0006981024907424145, 'dropout': 0.23065588528303738, 'droplayer': 'dense'}. Best is trial 4 with value: 0.30219998955726624.\n"
     ]
    },
    {
     "name": "stdout",
     "output_type": "stream",
     "text": [
      "157/157 [==============================] - 1s 4ms/step - loss: 3.5748 - accuracy: 0.1992\n"
     ]
    },
    {
     "name": "stderr",
     "output_type": "stream",
     "text": [
      "[I 2025-02-10 23:56:23,945] Trial 12 finished with value: 0.19920000433921814 and parameters: {'learning_rate': 6.70902185765147e-05, 'num_layers': 3, 'base': 7, 'kernel_size': (5, 5), 'regularization': 0.0007608071828003005, 'dropout': 0.29893707490103993, 'droplayer': 'dense'}. Best is trial 4 with value: 0.30219998955726624.\n"
     ]
    },
    {
     "name": "stdout",
     "output_type": "stream",
     "text": [
      "157/157 [==============================] - 1s 4ms/step - loss: 3.0957 - accuracy: 0.2720\n"
     ]
    },
    {
     "name": "stderr",
     "output_type": "stream",
     "text": [
      "[I 2025-02-10 23:58:53,403] Trial 13 finished with value: 0.2720000147819519 and parameters: {'learning_rate': 7.983094369770308e-05, 'num_layers': 2, 'base': 7, 'kernel_size': (5, 5), 'regularization': 0.0008189387321472423, 'dropout': 0.23359497238213942, 'droplayer': 'dense'}. Best is trial 4 with value: 0.30219998955726624.\n"
     ]
    },
    {
     "name": "stdout",
     "output_type": "stream",
     "text": [
      "157/157 [==============================] - 1s 4ms/step - loss: 3.0432 - accuracy: 0.2858\n"
     ]
    },
    {
     "name": "stderr",
     "output_type": "stream",
     "text": [
      "[I 2025-02-11 00:01:30,626] Trial 14 finished with value: 0.2858000099658966 and parameters: {'learning_rate': 9.411140002224704e-05, 'num_layers': 2, 'base': 7, 'kernel_size': (5, 5), 'regularization': 0.0009960361268252606, 'dropout': 0.22739260285901955, 'droplayer': 'conv'}. Best is trial 4 with value: 0.30219998955726624.\n"
     ]
    },
    {
     "name": "stdout",
     "output_type": "stream",
     "text": [
      "157/157 [==============================] - 1s 8ms/step - loss: 3.2213 - accuracy: 0.2874\n"
     ]
    },
    {
     "name": "stderr",
     "output_type": "stream",
     "text": [
      "[I 2025-02-11 00:07:44,468] Trial 15 finished with value: 0.2874000072479248 and parameters: {'learning_rate': 0.0002853900712997149, 'num_layers': 2, 'base': 8, 'kernel_size': (5, 5), 'regularization': 0.000992934714474573, 'dropout': 0.19856496207554594, 'droplayer': 'conv'}. Best is trial 4 with value: 0.30219998955726624.\n"
     ]
    },
    {
     "name": "stdout",
     "output_type": "stream",
     "text": [
      "157/157 [==============================] - 1s 6ms/step - loss: 4.6053 - accuracy: 0.0110\n"
     ]
    },
    {
     "name": "stderr",
     "output_type": "stream",
     "text": [
      "[I 2025-02-11 00:11:55,548] Trial 16 finished with value: 0.010999999940395355 and parameters: {'learning_rate': 0.00045583818756987404, 'num_layers': 1, 'base': 8, 'kernel_size': (5, 5), 'regularization': 3.266771251746219e-05, 'dropout': 0.08926920831032345, 'droplayer': 'conv'}. Best is trial 4 with value: 0.30219998955726624.\n"
     ]
    },
    {
     "name": "stdout",
     "output_type": "stream",
     "text": [
      "157/157 [==============================] - 1s 4ms/step - loss: 3.8747 - accuracy: 0.1208\n"
     ]
    },
    {
     "name": "stderr",
     "output_type": "stream",
     "text": [
      "[I 2025-02-11 00:13:33,121] Trial 17 finished with value: 0.12080000340938568 and parameters: {'learning_rate': 0.00025800442468357226, 'num_layers': 3, 'base': 5, 'kernel_size': (5, 5), 'regularization': 0.0005998728894028608, 'dropout': 0.2023399395784202, 'droplayer': 'conv'}. Best is trial 4 with value: 0.30219998955726624.\n"
     ]
    },
    {
     "name": "stdout",
     "output_type": "stream",
     "text": [
      "157/157 [==============================] - 1s 8ms/step - loss: 4.6100 - accuracy: 0.0098\n"
     ]
    },
    {
     "name": "stderr",
     "output_type": "stream",
     "text": [
      "[I 2025-02-11 00:20:09,943] Trial 18 finished with value: 0.009800000116229057 and parameters: {'learning_rate': 3.2206846141694745e-05, 'num_layers': 2, 'base': 8, 'kernel_size': (7, 7), 'regularization': 0.0008768036001970171, 'dropout': 0.1438222874813191, 'droplayer': 'conv'}. Best is trial 4 with value: 0.30219998955726624.\n"
     ]
    },
    {
     "name": "stdout",
     "output_type": "stream",
     "text": [
      "157/157 [==============================] - 1s 7ms/step - loss: 3.7069 - accuracy: 0.2020\n"
     ]
    },
    {
     "name": "stderr",
     "output_type": "stream",
     "text": [
      "[I 2025-02-11 00:26:26,598] Trial 19 finished with value: 0.20200000703334808 and parameters: {'learning_rate': 1.059956141263457e-05, 'num_layers': 3, 'base': 8, 'kernel_size': (5, 5), 'regularization': 0.0003914766522139508, 'dropout': 0.06854793622359753, 'droplayer': 'conv'}. Best is trial 4 with value: 0.30219998955726624.\n"
     ]
    },
    {
     "name": "stdout",
     "output_type": "stream",
     "text": [
      "157/157 [==============================] - 1s 4ms/step - loss: 3.7900 - accuracy: 0.1392\n"
     ]
    },
    {
     "name": "stderr",
     "output_type": "stream",
     "text": [
      "[I 2025-02-11 00:28:57,428] Trial 20 finished with value: 0.13920000195503235 and parameters: {'learning_rate': 0.0005814007080587958, 'num_layers': 2, 'base': 7, 'kernel_size': (5, 5), 'regularization': 0.00015744959068697887, 'dropout': 0.26020912445190075, 'droplayer': 'conv'}. Best is trial 4 with value: 0.30219998955726624.\n"
     ]
    },
    {
     "name": "stdout",
     "output_type": "stream",
     "text": [
      "157/157 [==============================] - 1s 4ms/step - loss: 3.0355 - accuracy: 0.2774\n"
     ]
    },
    {
     "name": "stderr",
     "output_type": "stream",
     "text": [
      "[I 2025-02-11 00:31:27,898] Trial 21 finished with value: 0.2773999869823456 and parameters: {'learning_rate': 0.00011953393813113912, 'num_layers': 2, 'base': 7, 'kernel_size': (5, 5), 'regularization': 0.0009792800539067848, 'dropout': 0.2078040354998029, 'droplayer': 'conv'}. Best is trial 4 with value: 0.30219998955726624.\n"
     ]
    },
    {
     "name": "stdout",
     "output_type": "stream",
     "text": [
      "157/157 [==============================] - 1s 6ms/step - loss: 4.6052 - accuracy: 0.0098\n"
     ]
    },
    {
     "name": "stderr",
     "output_type": "stream",
     "text": [
      "[I 2025-02-11 00:35:38,731] Trial 22 finished with value: 0.009800000116229057 and parameters: {'learning_rate': 0.0002536582400407334, 'num_layers': 1, 'base': 8, 'kernel_size': (5, 5), 'regularization': 0.0008844379889918926, 'dropout': 0.17194595970934173, 'droplayer': 'conv'}. Best is trial 4 with value: 0.30219998955726624.\n"
     ]
    },
    {
     "name": "stdout",
     "output_type": "stream",
     "text": [
      "157/157 [==============================] - 1s 4ms/step - loss: 3.1712 - accuracy: 0.2600\n"
     ]
    },
    {
     "name": "stderr",
     "output_type": "stream",
     "text": [
      "[I 2025-02-11 00:38:06,898] Trial 23 finished with value: 0.25999999046325684 and parameters: {'learning_rate': 6.355850041386745e-05, 'num_layers': 2, 'base': 7, 'kernel_size': (5, 5), 'regularization': 0.000702706954464742, 'dropout': 0.23173991123764048, 'droplayer': 'conv'}. Best is trial 4 with value: 0.30219998955726624.\n"
     ]
    },
    {
     "name": "stdout",
     "output_type": "stream",
     "text": [
      "157/157 [==============================] - 1s 7ms/step - loss: 2.9818 - accuracy: 0.3038\n"
     ]
    },
    {
     "name": "stderr",
     "output_type": "stream",
     "text": [
      "[I 2025-02-11 00:44:19,217] Trial 24 finished with value: 0.30379998683929443 and parameters: {'learning_rate': 0.00011172424481288703, 'num_layers': 2, 'base': 8, 'kernel_size': (5, 5), 'regularization': 0.0009115234008343681, 'dropout': 0.26461462796988167, 'droplayer': 'conv'}. Best is trial 24 with value: 0.30379998683929443.\n"
     ]
    },
    {
     "name": "stdout",
     "output_type": "stream",
     "text": [
      "157/157 [==============================] - 1s 7ms/step - loss: 3.8055 - accuracy: 0.1406\n"
     ]
    },
    {
     "name": "stderr",
     "output_type": "stream",
     "text": [
      "[I 2025-02-11 00:50:57,640] Trial 25 finished with value: 0.14059999585151672 and parameters: {'learning_rate': 0.00020392271181622976, 'num_layers': 3, 'base': 8, 'kernel_size': (7, 7), 'regularization': 0.0008882393070360471, 'dropout': 0.27156234162525406, 'droplayer': 'conv'}. Best is trial 24 with value: 0.30379998683929443.\n"
     ]
    },
    {
     "name": "stdout",
     "output_type": "stream",
     "text": [
      "157/157 [==============================] - 1s 6ms/step - loss: 4.6069 - accuracy: 0.0110\n"
     ]
    },
    {
     "name": "stderr",
     "output_type": "stream",
     "text": [
      "[I 2025-02-11 00:55:06,644] Trial 26 finished with value: 0.010999999940395355 and parameters: {'learning_rate': 0.0008574823979973357, 'num_layers': 1, 'base': 8, 'kernel_size': (5, 5), 'regularization': 0.0005920637984234472, 'dropout': 0.1888191428539092, 'droplayer': 'conv'}. Best is trial 24 with value: 0.30379998683929443.\n"
     ]
    },
    {
     "name": "stdout",
     "output_type": "stream",
     "text": [
      "157/157 [==============================] - 1s 3ms/step - loss: 4.6066 - accuracy: 0.0090\n"
     ]
    },
    {
     "name": "stderr",
     "output_type": "stream",
     "text": [
      "[I 2025-02-11 00:56:30,981] Trial 27 finished with value: 0.008999999612569809 and parameters: {'learning_rate': 0.0032107876259635944, 'num_layers': 2, 'base': 5, 'kernel_size': (5, 5), 'regularization': 0.0007575579078601382, 'dropout': 0.15412721702153778, 'droplayer': 'conv'}. Best is trial 24 with value: 0.30379998683929443.\n"
     ]
    },
    {
     "name": "stdout",
     "output_type": "stream",
     "text": [
      "157/157 [==============================] - 1s 7ms/step - loss: 3.2398 - accuracy: 0.2636\n"
     ]
    },
    {
     "name": "stderr",
     "output_type": "stream",
     "text": [
      "[I 2025-02-11 01:02:46,192] Trial 28 finished with value: 0.2635999917984009 and parameters: {'learning_rate': 2.259147700363276e-05, 'num_layers': 3, 'base': 8, 'kernel_size': (5, 5), 'regularization': 0.0008145865879336943, 'dropout': 0.11236201164951655, 'droplayer': 'conv'}. Best is trial 24 with value: 0.30379998683929443.\n"
     ]
    },
    {
     "name": "stdout",
     "output_type": "stream",
     "text": [
      "157/157 [==============================] - 1s 7ms/step - loss: 3.2437 - accuracy: 0.2694\n"
     ]
    },
    {
     "name": "stderr",
     "output_type": "stream",
     "text": [
      "[I 2025-02-11 01:08:57,095] Trial 29 finished with value: 0.2694000005722046 and parameters: {'learning_rate': 0.0003425109407925484, 'num_layers': 2, 'base': 8, 'kernel_size': (5, 5), 'regularization': 0.00036141683629124164, 'dropout': 0.21183073754928627, 'droplayer': 'conv'}. Best is trial 24 with value: 0.30379998683929443.\n"
     ]
    },
    {
     "name": "stdout",
     "output_type": "stream",
     "text": [
      "157/157 [==============================] - 1s 8ms/step - loss: 4.6068 - accuracy: 0.0096\n"
     ]
    },
    {
     "name": "stderr",
     "output_type": "stream",
     "text": [
      "[I 2025-02-11 01:15:30,777] Trial 30 finished with value: 0.009600000455975533 and parameters: {'learning_rate': 4.6285255441246045e-05, 'num_layers': 1, 'base': 8, 'kernel_size': (7, 7), 'regularization': 0.0006531854588919502, 'dropout': 0.24759641844621527, 'droplayer': 'conv'}. Best is trial 24 with value: 0.30379998683929443.\n"
     ]
    },
    {
     "name": "stdout",
     "output_type": "stream",
     "text": [
      "157/157 [==============================] - 1s 4ms/step - loss: 3.1236 - accuracy: 0.2668\n"
     ]
    },
    {
     "name": "stderr",
     "output_type": "stream",
     "text": [
      "[I 2025-02-11 01:18:00,122] Trial 31 finished with value: 0.2667999863624573 and parameters: {'learning_rate': 9.021533973614747e-05, 'num_layers': 2, 'base': 7, 'kernel_size': (5, 5), 'regularization': 0.0009968832682714255, 'dropout': 0.27403290192702745, 'droplayer': 'conv'}. Best is trial 24 with value: 0.30379998683929443.\n"
     ]
    },
    {
     "name": "stdout",
     "output_type": "stream",
     "text": [
      "157/157 [==============================] - 1s 4ms/step - loss: 3.0649 - accuracy: 0.2840\n"
     ]
    },
    {
     "name": "stderr",
     "output_type": "stream",
     "text": [
      "[I 2025-02-11 01:20:28,792] Trial 32 finished with value: 0.2840000092983246 and parameters: {'learning_rate': 0.00011664646991745513, 'num_layers': 2, 'base': 7, 'kernel_size': (5, 5), 'regularization': 0.0009170846616601319, 'dropout': 0.22087379402397556, 'droplayer': 'conv'}. Best is trial 24 with value: 0.30379998683929443.\n"
     ]
    },
    {
     "name": "stdout",
     "output_type": "stream",
     "text": [
      "157/157 [==============================] - 1s 3ms/step - loss: 3.2099 - accuracy: 0.2264\n"
     ]
    },
    {
     "name": "stderr",
     "output_type": "stream",
     "text": [
      "[I 2025-02-11 01:22:01,643] Trial 33 finished with value: 0.2264000028371811 and parameters: {'learning_rate': 0.0001694703566589706, 'num_layers': 2, 'base': 6, 'kernel_size': (5, 5), 'regularization': 0.0008253487232288304, 'dropout': 0.18400334046491976, 'droplayer': 'conv'}. Best is trial 24 with value: 0.30379998683929443.\n"
     ]
    },
    {
     "name": "stdout",
     "output_type": "stream",
     "text": [
      "157/157 [==============================] - 1s 7ms/step - loss: 2.9620 - accuracy: 0.3072\n"
     ]
    },
    {
     "name": "stderr",
     "output_type": "stream",
     "text": [
      "[I 2025-02-11 01:28:14,470] Trial 34 finished with value: 0.30720001459121704 and parameters: {'learning_rate': 5.623531825658516e-05, 'num_layers': 3, 'base': 8, 'kernel_size': (5, 5), 'regularization': 0.0009262548074364842, 'dropout': 0.15710020744611453, 'droplayer': 'conv'}. Best is trial 34 with value: 0.30720001459121704.\n"
     ]
    },
    {
     "name": "stdout",
     "output_type": "stream",
     "text": [
      "157/157 [==============================] - 1s 7ms/step - loss: 2.9068 - accuracy: 0.3066\n"
     ]
    },
    {
     "name": "stderr",
     "output_type": "stream",
     "text": [
      "[I 2025-02-11 01:34:28,658] Trial 35 finished with value: 0.30660000443458557 and parameters: {'learning_rate': 4.773678222347428e-05, 'num_layers': 3, 'base': 8, 'kernel_size': (5, 5), 'regularization': 0.0005209806298227172, 'dropout': 0.15649814739977036, 'droplayer': 'conv'}. Best is trial 34 with value: 0.30720001459121704.\n"
     ]
    },
    {
     "name": "stdout",
     "output_type": "stream",
     "text": [
      "157/157 [==============================] - 1s 7ms/step - loss: 3.6723 - accuracy: 0.1714\n"
     ]
    },
    {
     "name": "stderr",
     "output_type": "stream",
     "text": [
      "[I 2025-02-11 01:41:09,134] Trial 36 finished with value: 0.17139999568462372 and parameters: {'learning_rate': 2.825329698628733e-05, 'num_layers': 3, 'base': 8, 'kernel_size': (7, 7), 'regularization': 0.00020061572177491877, 'dropout': 0.14911970648821096, 'droplayer': 'conv'}. Best is trial 34 with value: 0.30720001459121704.\n"
     ]
    },
    {
     "name": "stdout",
     "output_type": "stream",
     "text": [
      "157/157 [==============================] - 1s 7ms/step - loss: 2.9146 - accuracy: 0.3132\n"
     ]
    },
    {
     "name": "stderr",
     "output_type": "stream",
     "text": [
      "[I 2025-02-11 01:47:24,143] Trial 37 finished with value: 0.3131999969482422 and parameters: {'learning_rate': 5.007870733951011e-05, 'num_layers': 3, 'base': 8, 'kernel_size': (5, 5), 'regularization': 0.0005129879216821508, 'dropout': 0.11810349266593392, 'droplayer': 'conv'}. Best is trial 37 with value: 0.3131999969482422.\n"
     ]
    },
    {
     "name": "stdout",
     "output_type": "stream",
     "text": [
      "157/157 [==============================] - 1s 7ms/step - loss: 2.9080 - accuracy: 0.3106\n"
     ]
    },
    {
     "name": "stderr",
     "output_type": "stream",
     "text": [
      "[I 2025-02-11 01:53:39,939] Trial 38 finished with value: 0.31060001254081726 and parameters: {'learning_rate': 4.961435826432724e-05, 'num_layers': 3, 'base': 8, 'kernel_size': (5, 5), 'regularization': 0.0005372991340675632, 'dropout': 0.11282520317312664, 'droplayer': 'conv'}. Best is trial 37 with value: 0.3131999969482422.\n"
     ]
    },
    {
     "name": "stdout",
     "output_type": "stream",
     "text": [
      "157/157 [==============================] - 1s 6ms/step - loss: 3.8163 - accuracy: 0.1734\n"
     ]
    },
    {
     "name": "stderr",
     "output_type": "stream",
     "text": [
      "[I 2025-02-11 01:57:54,087] Trial 39 finished with value: 0.17339999973773956 and parameters: {'learning_rate': 1.6892076312123298e-05, 'num_layers': 3, 'base': 8, 'kernel_size': (3, 3), 'regularization': 0.000527703292893333, 'dropout': 0.1061419488126165, 'droplayer': 'conv'}. Best is trial 37 with value: 0.3131999969482422.\n"
     ]
    },
    {
     "name": "stdout",
     "output_type": "stream",
     "text": [
      "157/157 [==============================] - 1s 4ms/step - loss: 3.1728 - accuracy: 0.2432\n"
     ]
    },
    {
     "name": "stderr",
     "output_type": "stream",
     "text": [
      "[I 2025-02-11 02:00:25,302] Trial 40 finished with value: 0.24320000410079956 and parameters: {'learning_rate': 4.771750869950952e-05, 'num_layers': 3, 'base': 7, 'kernel_size': (5, 5), 'regularization': 0.00042587034690445716, 'dropout': 0.12513754588726206, 'droplayer': 'conv'}. Best is trial 37 with value: 0.3131999969482422.\n"
     ]
    },
    {
     "name": "stdout",
     "output_type": "stream",
     "text": [
      "157/157 [==============================] - 1s 7ms/step - loss: 3.0225 - accuracy: 0.3018\n"
     ]
    },
    {
     "name": "stderr",
     "output_type": "stream",
     "text": [
      "[I 2025-02-11 02:06:39,450] Trial 41 finished with value: 0.301800012588501 and parameters: {'learning_rate': 3.7279886292278094e-05, 'num_layers': 3, 'base': 8, 'kernel_size': (5, 5), 'regularization': 0.0005384958039587375, 'dropout': 0.07529767663561884, 'droplayer': 'conv'}. Best is trial 37 with value: 0.3131999969482422.\n"
     ]
    },
    {
     "name": "stdout",
     "output_type": "stream",
     "text": [
      "157/157 [==============================] - 1s 7ms/step - loss: 2.8913 - accuracy: 0.3180\n"
     ]
    },
    {
     "name": "stderr",
     "output_type": "stream",
     "text": [
      "[I 2025-02-11 02:12:52,645] Trial 42 finished with value: 0.3179999887943268 and parameters: {'learning_rate': 5.6047911561726846e-05, 'num_layers': 3, 'base': 8, 'kernel_size': (5, 5), 'regularization': 0.0004793030935355363, 'dropout': 0.09622830206023603, 'droplayer': 'conv'}. Best is trial 42 with value: 0.3179999887943268.\n"
     ]
    },
    {
     "name": "stdout",
     "output_type": "stream",
     "text": [
      "157/157 [==============================] - 1s 7ms/step - loss: 4.6151 - accuracy: 0.0096\n"
     ]
    },
    {
     "name": "stderr",
     "output_type": "stream",
     "text": [
      "[I 2025-02-11 02:19:02,412] Trial 43 finished with value: 0.009600000455975533 and parameters: {'learning_rate': 1.9943579318648868e-05, 'num_layers': 3, 'base': 8, 'kernel_size': (5, 5), 'regularization': 0.0004697902428227324, 'dropout': 0.046993746018469854, 'droplayer': 'conv'}. Best is trial 42 with value: 0.3179999887943268.\n"
     ]
    },
    {
     "name": "stdout",
     "output_type": "stream",
     "text": [
      "157/157 [==============================] - 1s 6ms/step - loss: 4.6089 - accuracy: 0.0096\n"
     ]
    },
    {
     "name": "stderr",
     "output_type": "stream",
     "text": [
      "[I 2025-02-11 02:23:11,792] Trial 44 finished with value: 0.009600000455975533 and parameters: {'learning_rate': 5.765378476051004e-05, 'num_layers': 3, 'base': 8, 'kernel_size': (3, 3), 'regularization': 0.0003328749574832572, 'dropout': 0.13629957554163907, 'droplayer': 'dense'}. Best is trial 42 with value: 0.3179999887943268.\n"
     ]
    },
    {
     "name": "stdout",
     "output_type": "stream",
     "text": [
      "157/157 [==============================] - 1s 3ms/step - loss: 4.5171 - accuracy: 0.0232\n"
     ]
    },
    {
     "name": "stderr",
     "output_type": "stream",
     "text": [
      "[I 2025-02-11 02:24:36,854] Trial 45 finished with value: 0.02319999970495701 and parameters: {'learning_rate': 1.6420176342142073e-05, 'num_layers': 3, 'base': 4, 'kernel_size': (5, 5), 'regularization': 0.00049389736320757, 'dropout': 0.0991126127033464, 'droplayer': 'conv'}. Best is trial 42 with value: 0.3179999887943268.\n"
     ]
    },
    {
     "name": "stdout",
     "output_type": "stream",
     "text": [
      "157/157 [==============================] - 1s 7ms/step - loss: 3.1698 - accuracy: 0.2684\n"
     ]
    },
    {
     "name": "stderr",
     "output_type": "stream",
     "text": [
      "[I 2025-02-11 02:30:49,274] Trial 46 finished with value: 0.26840001344680786 and parameters: {'learning_rate': 3.185951728769035e-05, 'num_layers': 3, 'base': 8, 'kernel_size': (5, 5), 'regularization': 0.0006381746373126237, 'dropout': 0.15620598070208402, 'droplayer': 'dense'}. Best is trial 42 with value: 0.3179999887943268.\n"
     ]
    },
    {
     "name": "stdout",
     "output_type": "stream",
     "text": [
      "157/157 [==============================] - 1s 5ms/step - loss: 3.2352 - accuracy: 0.2438\n"
     ]
    },
    {
     "name": "stderr",
     "output_type": "stream",
     "text": [
      "[I 2025-02-11 02:32:53,253] Trial 47 finished with value: 0.24379999935626984 and parameters: {'learning_rate': 5.404721436273703e-05, 'num_layers': 3, 'base': 7, 'kernel_size': (3, 3), 'regularization': 0.00042190917767619563, 'dropout': 0.031443381934615766, 'droplayer': 'conv'}. Best is trial 42 with value: 0.3179999887943268.\n"
     ]
    },
    {
     "name": "stdout",
     "output_type": "stream",
     "text": [
      "157/157 [==============================] - 1s 3ms/step - loss: 4.3642 - accuracy: 0.0506\n"
     ]
    },
    {
     "name": "stderr",
     "output_type": "stream",
     "text": [
      "[I 2025-02-11 02:34:20,613] Trial 48 finished with value: 0.050599999725818634 and parameters: {'learning_rate': 7.735403576949696e-05, 'num_layers': 3, 'base': 5, 'kernel_size': (5, 5), 'regularization': 0.0005478826434022672, 'dropout': 0.09112031288385129, 'droplayer': 'conv'}. Best is trial 42 with value: 0.3179999887943268.\n"
     ]
    },
    {
     "name": "stdout",
     "output_type": "stream",
     "text": [
      "157/157 [==============================] - 1s 4ms/step - loss: 4.6052 - accuracy: 0.0096\n"
     ]
    },
    {
     "name": "stderr",
     "output_type": "stream",
     "text": [
      "[I 2025-02-11 02:37:03,102] Trial 49 finished with value: 0.009600000455975533 and parameters: {'learning_rate': 2.6986542522929934e-05, 'num_layers': 0, 'base': 8, 'kernel_size': (7, 7), 'regularization': 0.00028786568780346007, 'dropout': 0.12000780171630447, 'droplayer': 'dense'}. Best is trial 42 with value: 0.3179999887943268.\n"
     ]
    },
    {
     "name": "stdout",
     "output_type": "stream",
     "text": [
      "157/157 [==============================] - 1s 4ms/step - loss: 3.3890 - accuracy: 0.2152\n"
     ]
    },
    {
     "name": "stderr",
     "output_type": "stream",
     "text": [
      "[I 2025-02-11 02:39:34,631] Trial 50 finished with value: 0.2152000069618225 and parameters: {'learning_rate': 3.721446268166803e-05, 'num_layers': 3, 'base': 7, 'kernel_size': (5, 5), 'regularization': 0.0005930297401064027, 'dropout': 0.1326341823665227, 'droplayer': 'conv'}. Best is trial 42 with value: 0.3179999887943268.\n"
     ]
    },
    {
     "name": "stdout",
     "output_type": "stream",
     "text": [
      "157/157 [==============================] - 1s 7ms/step - loss: 2.8466 - accuracy: 0.3194\n"
     ]
    },
    {
     "name": "stderr",
     "output_type": "stream",
     "text": [
      "[I 2025-02-11 02:45:46,343] Trial 51 finished with value: 0.31940001249313354 and parameters: {'learning_rate': 0.000105646454293257, 'num_layers': 3, 'base': 8, 'kernel_size': (5, 5), 'regularization': 0.000491592553509272, 'dropout': 0.08405535789649063, 'droplayer': 'conv'}. Best is trial 51 with value: 0.31940001249313354.\n"
     ]
    },
    {
     "name": "stdout",
     "output_type": "stream",
     "text": [
      "157/157 [==============================] - 1s 7ms/step - loss: 2.9528 - accuracy: 0.2960\n"
     ]
    },
    {
     "name": "stderr",
     "output_type": "stream",
     "text": [
      "[I 2025-02-11 02:51:58,831] Trial 52 finished with value: 0.29600000381469727 and parameters: {'learning_rate': 0.0001417168270684494, 'num_layers': 3, 'base': 8, 'kernel_size': (5, 5), 'regularization': 0.0005051983479727977, 'dropout': 0.16579224459158715, 'droplayer': 'conv'}. Best is trial 51 with value: 0.31940001249313354.\n"
     ]
    },
    {
     "name": "stdout",
     "output_type": "stream",
     "text": [
      "157/157 [==============================] - 1s 7ms/step - loss: 2.8649 - accuracy: 0.3126\n"
     ]
    },
    {
     "name": "stderr",
     "output_type": "stream",
     "text": [
      "[I 2025-02-11 02:58:12,191] Trial 53 finished with value: 0.3125999867916107 and parameters: {'learning_rate': 7.257306593443639e-05, 'num_layers': 3, 'base': 8, 'kernel_size': (5, 5), 'regularization': 0.00038587145624249136, 'dropout': 0.08515794797489257, 'droplayer': 'conv'}. Best is trial 51 with value: 0.31940001249313354.\n"
     ]
    },
    {
     "name": "stdout",
     "output_type": "stream",
     "text": [
      "157/157 [==============================] - 1s 7ms/step - loss: 3.2100 - accuracy: 0.2308\n"
     ]
    },
    {
     "name": "stderr",
     "output_type": "stream",
     "text": [
      "[I 2025-02-11 03:04:22,583] Trial 54 finished with value: 0.23080000281333923 and parameters: {'learning_rate': 6.810558418470182e-05, 'num_layers': 3, 'base': 8, 'kernel_size': (5, 5), 'regularization': 0.00038592921446402594, 'dropout': 0.0823525725263633, 'droplayer': 'conv'}. Best is trial 51 with value: 0.31940001249313354.\n"
     ]
    },
    {
     "name": "stdout",
     "output_type": "stream",
     "text": [
      "157/157 [==============================] - 1s 7ms/step - loss: 3.2923 - accuracy: 0.2210\n"
     ]
    },
    {
     "name": "stderr",
     "output_type": "stream",
     "text": [
      "[I 2025-02-11 03:10:31,452] Trial 55 finished with value: 0.22100000083446503 and parameters: {'learning_rate': 0.00015978138041315018, 'num_layers': 3, 'base': 8, 'kernel_size': (5, 5), 'regularization': 0.00047855547763451926, 'dropout': 0.04899308500924436, 'droplayer': 'conv'}. Best is trial 51 with value: 0.31940001249313354.\n"
     ]
    },
    {
     "name": "stdout",
     "output_type": "stream",
     "text": [
      "157/157 [==============================] - 1s 7ms/step - loss: 2.8772 - accuracy: 0.3300\n"
     ]
    },
    {
     "name": "stderr",
     "output_type": "stream",
     "text": [
      "[I 2025-02-11 03:16:43,644] Trial 56 finished with value: 0.33000001311302185 and parameters: {'learning_rate': 9.843584170102644e-05, 'num_layers': 3, 'base': 8, 'kernel_size': (5, 5), 'regularization': 0.0004445064504987328, 'dropout': 0.11326462365756745, 'droplayer': 'conv'}. Best is trial 56 with value: 0.33000001311302185.\n"
     ]
    },
    {
     "name": "stdout",
     "output_type": "stream",
     "text": [
      "157/157 [==============================] - 1s 4ms/step - loss: 3.3968 - accuracy: 0.1950\n"
     ]
    },
    {
     "name": "stderr",
     "output_type": "stream",
     "text": [
      "[I 2025-02-11 03:18:21,007] Trial 57 finished with value: 0.19499999284744263 and parameters: {'learning_rate': 9.296413457579793e-05, 'num_layers': 3, 'base': 6, 'kernel_size': (5, 5), 'regularization': 0.00044439656196375505, 'dropout': 0.1048265129185667, 'droplayer': 'conv'}. Best is trial 56 with value: 0.33000001311302185.\n"
     ]
    },
    {
     "name": "stdout",
     "output_type": "stream",
     "text": [
      "157/157 [==============================] - 1s 6ms/step - loss: 3.2340 - accuracy: 0.2136\n"
     ]
    },
    {
     "name": "stderr",
     "output_type": "stream",
     "text": [
      "[I 2025-02-11 03:22:30,778] Trial 58 finished with value: 0.21359999477863312 and parameters: {'learning_rate': 0.00019561019396390188, 'num_layers': 3, 'base': 8, 'kernel_size': (3, 3), 'regularization': 0.00033625472503459657, 'dropout': 0.06509388662557537, 'droplayer': 'dense'}. Best is trial 56 with value: 0.33000001311302185.\n"
     ]
    },
    {
     "name": "stdout",
     "output_type": "stream",
     "text": [
      "157/157 [==============================] - 1s 4ms/step - loss: 4.6111 - accuracy: 0.0104\n"
     ]
    },
    {
     "name": "stderr",
     "output_type": "stream",
     "text": [
      "[I 2025-02-11 03:25:03,009] Trial 59 finished with value: 0.010400000028312206 and parameters: {'learning_rate': 0.009621722874200682, 'num_layers': 3, 'base': 7, 'kernel_size': (5, 5), 'regularization': 0.0005716642869283023, 'dropout': 0.11736948631999897, 'droplayer': 'conv'}. Best is trial 56 with value: 0.33000001311302185.\n"
     ]
    },
    {
     "name": "stdout",
     "output_type": "stream",
     "text": [
      "157/157 [==============================] - 1s 7ms/step - loss: 4.6053 - accuracy: 0.0088\n"
     ]
    },
    {
     "name": "stderr",
     "output_type": "stream",
     "text": [
      "[I 2025-02-11 03:31:11,755] Trial 60 finished with value: 0.008799999952316284 and parameters: {'learning_rate': 0.00011216043488465925, 'num_layers': 3, 'base': 8, 'kernel_size': (5, 5), 'regularization': 0.0004021530295902921, 'dropout': 0.09502815187139495, 'droplayer': 'conv'}. Best is trial 56 with value: 0.33000001311302185.\n"
     ]
    },
    {
     "name": "stdout",
     "output_type": "stream",
     "text": [
      "157/157 [==============================] - 1s 7ms/step - loss: 2.8067 - accuracy: 0.3294\n"
     ]
    },
    {
     "name": "stderr",
     "output_type": "stream",
     "text": [
      "[I 2025-02-11 03:37:25,427] Trial 61 finished with value: 0.3294000029563904 and parameters: {'learning_rate': 7.54527248482963e-05, 'num_layers': 3, 'base': 8, 'kernel_size': (5, 5), 'regularization': 0.0004547236061745111, 'dropout': 0.08538940473629741, 'droplayer': 'conv'}. Best is trial 56 with value: 0.33000001311302185.\n"
     ]
    },
    {
     "name": "stdout",
     "output_type": "stream",
     "text": [
      "157/157 [==============================] - 1s 7ms/step - loss: 3.0664 - accuracy: 0.2670\n"
     ]
    },
    {
     "name": "stderr",
     "output_type": "stream",
     "text": [
      "[I 2025-02-11 03:43:38,003] Trial 62 finished with value: 0.2669999897480011 and parameters: {'learning_rate': 7.911352921567978e-05, 'num_layers': 3, 'base': 8, 'kernel_size': (5, 5), 'regularization': 0.00044960254886331174, 'dropout': 0.08573624897391416, 'droplayer': 'conv'}. Best is trial 56 with value: 0.33000001311302185.\n"
     ]
    },
    {
     "name": "stdout",
     "output_type": "stream",
     "text": [
      "157/157 [==============================] - 1s 7ms/step - loss: 3.6217 - accuracy: 0.1742\n"
     ]
    },
    {
     "name": "stderr",
     "output_type": "stream",
     "text": [
      "[I 2025-02-11 03:49:47,439] Trial 63 finished with value: 0.17419999837875366 and parameters: {'learning_rate': 3.793992876330175e-05, 'num_layers': 3, 'base': 8, 'kernel_size': (5, 5), 'regularization': 0.0006318299461050039, 'dropout': 0.07148474286153278, 'droplayer': 'conv'}. Best is trial 56 with value: 0.33000001311302185.\n"
     ]
    },
    {
     "name": "stdout",
     "output_type": "stream",
     "text": [
      "157/157 [==============================] - 1s 7ms/step - loss: 4.6053 - accuracy: 0.0096\n"
     ]
    },
    {
     "name": "stderr",
     "output_type": "stream",
     "text": [
      "[I 2025-02-11 03:55:56,203] Trial 64 finished with value: 0.009600000455975533 and parameters: {'learning_rate': 6.719846070577509e-05, 'num_layers': 3, 'base': 8, 'kernel_size': (5, 5), 'regularization': 0.000303960302314889, 'dropout': 0.0545521070758812, 'droplayer': 'conv'}. Best is trial 56 with value: 0.33000001311302185.\n"
     ]
    },
    {
     "name": "stdout",
     "output_type": "stream",
     "text": [
      "157/157 [==============================] - 1s 7ms/step - loss: 4.5845 - accuracy: 0.0096\n"
     ]
    },
    {
     "name": "stderr",
     "output_type": "stream",
     "text": [
      "[I 2025-02-11 04:02:05,133] Trial 65 finished with value: 0.009600000455975533 and parameters: {'learning_rate': 0.00013716079135300932, 'num_layers': 3, 'base': 8, 'kernel_size': (5, 5), 'regularization': 0.0003554468623818838, 'dropout': 0.02168935358830576, 'droplayer': 'conv'}. Best is trial 56 with value: 0.33000001311302185.\n"
     ]
    },
    {
     "name": "stdout",
     "output_type": "stream",
     "text": [
      "157/157 [==============================] - 1s 7ms/step - loss: 2.8968 - accuracy: 0.3016\n"
     ]
    },
    {
     "name": "stderr",
     "output_type": "stream",
     "text": [
      "[I 2025-02-11 04:08:16,109] Trial 66 finished with value: 0.30160000920295715 and parameters: {'learning_rate': 9.607366412350971e-05, 'num_layers': 3, 'base': 8, 'kernel_size': (5, 5), 'regularization': 0.0004679461824961968, 'dropout': 0.07824107327662669, 'droplayer': 'conv'}. Best is trial 56 with value: 0.33000001311302185.\n"
     ]
    },
    {
     "name": "stdout",
     "output_type": "stream",
     "text": [
      "157/157 [==============================] - 1s 4ms/step - loss: 4.6069 - accuracy: 0.0090\n"
     ]
    },
    {
     "name": "stderr",
     "output_type": "stream",
     "text": [
      "[I 2025-02-11 04:10:35,924] Trial 67 finished with value: 0.008999999612569809 and parameters: {'learning_rate': 0.003628241577582123, 'num_layers': 3, 'base': 7, 'kernel_size': (7, 7), 'regularization': 0.0005644070485947063, 'dropout': 0.10749921541570155, 'droplayer': 'conv'}. Best is trial 56 with value: 0.33000001311302185.\n"
     ]
    },
    {
     "name": "stdout",
     "output_type": "stream",
     "text": [
      "157/157 [==============================] - 1s 7ms/step - loss: 2.9327 - accuracy: 0.3032\n"
     ]
    },
    {
     "name": "stderr",
     "output_type": "stream",
     "text": [
      "[I 2025-02-11 04:16:50,708] Trial 68 finished with value: 0.30320000648498535 and parameters: {'learning_rate': 4.405758602384921e-05, 'num_layers': 3, 'base': 8, 'kernel_size': (5, 5), 'regularization': 0.000378247786451792, 'dropout': 0.09749029103464403, 'droplayer': 'conv'}. Best is trial 56 with value: 0.33000001311302185.\n"
     ]
    },
    {
     "name": "stdout",
     "output_type": "stream",
     "text": [
      "157/157 [==============================] - 1s 7ms/step - loss: 3.0041 - accuracy: 0.2950\n"
     ]
    },
    {
     "name": "stderr",
     "output_type": "stream",
     "text": [
      "[I 2025-02-11 04:23:02,872] Trial 69 finished with value: 0.29499998688697815 and parameters: {'learning_rate': 0.00019942887850582023, 'num_layers': 3, 'base': 8, 'kernel_size': (5, 5), 'regularization': 0.00041726979482980837, 'dropout': 0.13313209248869942, 'droplayer': 'conv'}. Best is trial 56 with value: 0.33000001311302185.\n"
     ]
    },
    {
     "name": "stdout",
     "output_type": "stream",
     "text": [
      "157/157 [==============================] - 1s 7ms/step - loss: 3.4002 - accuracy: 0.2046\n"
     ]
    },
    {
     "name": "stderr",
     "output_type": "stream",
     "text": [
      "[I 2025-02-11 04:29:12,553] Trial 70 finished with value: 0.2046000063419342 and parameters: {'learning_rate': 0.00010007522166624121, 'num_layers': 3, 'base': 8, 'kernel_size': (5, 5), 'regularization': 0.00023686830574590252, 'dropout': 0.036546412465023964, 'droplayer': 'conv'}. Best is trial 56 with value: 0.33000001311302185.\n"
     ]
    },
    {
     "name": "stdout",
     "output_type": "stream",
     "text": [
      "157/157 [==============================] - 1s 7ms/step - loss: 2.8577 - accuracy: 0.3194\n"
     ]
    },
    {
     "name": "stderr",
     "output_type": "stream",
     "text": [
      "[I 2025-02-11 04:35:27,900] Trial 71 finished with value: 0.31940001249313354 and parameters: {'learning_rate': 6.316001285928246e-05, 'num_layers': 3, 'base': 8, 'kernel_size': (5, 5), 'regularization': 0.0005072992481449706, 'dropout': 0.14412764408808615, 'droplayer': 'conv'}. Best is trial 56 with value: 0.33000001311302185.\n"
     ]
    },
    {
     "name": "stdout",
     "output_type": "stream",
     "text": [
      "157/157 [==============================] - 1s 7ms/step - loss: 2.9368 - accuracy: 0.2964\n"
     ]
    },
    {
     "name": "stderr",
     "output_type": "stream",
     "text": [
      "[I 2025-02-11 04:41:40,989] Trial 72 finished with value: 0.2964000105857849 and parameters: {'learning_rate': 5.737893235508723e-05, 'num_layers': 3, 'base': 8, 'kernel_size': (5, 5), 'regularization': 0.0005014616200105658, 'dropout': 0.11324410496035273, 'droplayer': 'conv'}. Best is trial 56 with value: 0.33000001311302185.\n"
     ]
    },
    {
     "name": "stdout",
     "output_type": "stream",
     "text": [
      "157/157 [==============================] - 1s 7ms/step - loss: 2.9579 - accuracy: 0.3060\n"
     ]
    },
    {
     "name": "stderr",
     "output_type": "stream",
     "text": [
      "[I 2025-02-11 04:47:54,394] Trial 73 finished with value: 0.3059999942779541 and parameters: {'learning_rate': 6.783839584884354e-05, 'num_layers': 3, 'base': 8, 'kernel_size': (5, 5), 'regularization': 0.0004458591866107167, 'dropout': 0.14137112797174398, 'droplayer': 'conv'}. Best is trial 56 with value: 0.33000001311302185.\n"
     ]
    },
    {
     "name": "stdout",
     "output_type": "stream",
     "text": [
      "157/157 [==============================] - 1s 7ms/step - loss: 2.8116 - accuracy: 0.3372\n"
     ]
    },
    {
     "name": "stderr",
     "output_type": "stream",
     "text": [
      "[I 2025-02-11 04:54:07,267] Trial 74 finished with value: 0.33719998598098755 and parameters: {'learning_rate': 8.423513376164038e-05, 'num_layers': 3, 'base': 8, 'kernel_size': (5, 5), 'regularization': 0.0005147656842312698, 'dropout': 0.12774143796296356, 'droplayer': 'conv'}. Best is trial 74 with value: 0.33719998598098755.\n"
     ]
    },
    {
     "name": "stdout",
     "output_type": "stream",
     "text": [
      "157/157 [==============================] - 1s 7ms/step - loss: 2.9252 - accuracy: 0.3154\n"
     ]
    },
    {
     "name": "stderr",
     "output_type": "stream",
     "text": [
      "[I 2025-02-11 05:00:19,554] Trial 75 finished with value: 0.31540000438690186 and parameters: {'learning_rate': 0.00013310885195843598, 'num_layers': 3, 'base': 8, 'kernel_size': (5, 5), 'regularization': 0.0006165832433104266, 'dropout': 0.12340327089910694, 'droplayer': 'conv'}. Best is trial 74 with value: 0.33719998598098755.\n"
     ]
    },
    {
     "name": "stdout",
     "output_type": "stream",
     "text": [
      "157/157 [==============================] - 1s 7ms/step - loss: 3.2962 - accuracy: 0.2696\n"
     ]
    },
    {
     "name": "stderr",
     "output_type": "stream",
     "text": [
      "[I 2025-02-11 05:06:31,990] Trial 76 finished with value: 0.2696000039577484 and parameters: {'learning_rate': 0.00034514245979776133, 'num_layers': 3, 'base': 8, 'kernel_size': (5, 5), 'regularization': 0.0006839982028878481, 'dropout': 0.12868095317667946, 'droplayer': 'conv'}. Best is trial 74 with value: 0.33719998598098755.\n"
     ]
    },
    {
     "name": "stdout",
     "output_type": "stream",
     "text": [
      "157/157 [==============================] - 1s 4ms/step - loss: 3.0223 - accuracy: 0.2776\n"
     ]
    },
    {
     "name": "stderr",
     "output_type": "stream",
     "text": [
      "[I 2025-02-11 05:09:03,282] Trial 77 finished with value: 0.2775999903678894 and parameters: {'learning_rate': 0.0001348348254902345, 'num_layers': 3, 'base': 7, 'kernel_size': (5, 5), 'regularization': 0.0006080828330454575, 'dropout': 0.14182102253797138, 'droplayer': 'dense'}. Best is trial 74 with value: 0.33719998598098755.\n"
     ]
    },
    {
     "name": "stdout",
     "output_type": "stream",
     "text": [
      "157/157 [==============================] - 1s 7ms/step - loss: 3.1399 - accuracy: 0.2866\n"
     ]
    },
    {
     "name": "stderr",
     "output_type": "stream",
     "text": [
      "[I 2025-02-11 05:15:15,868] Trial 78 finished with value: 0.2865999937057495 and parameters: {'learning_rate': 0.0002510143039553273, 'num_layers': 2, 'base': 8, 'kernel_size': (5, 5), 'regularization': 0.0005758386101824762, 'dropout': 0.16801953442079332, 'droplayer': 'conv'}. Best is trial 74 with value: 0.33719998598098755.\n"
     ]
    },
    {
     "name": "stdout",
     "output_type": "stream",
     "text": [
      "157/157 [==============================] - 1s 6ms/step - loss: 4.6053 - accuracy: 0.0088\n"
     ]
    },
    {
     "name": "stderr",
     "output_type": "stream",
     "text": [
      "[I 2025-02-11 05:19:25,206] Trial 79 finished with value: 0.008799999952316284 and parameters: {'learning_rate': 0.00011848013019915837, 'num_layers': 3, 'base': 8, 'kernel_size': (3, 3), 'regularization': 0.0005028473153087294, 'dropout': 0.12503338467599515, 'droplayer': 'conv'}. Best is trial 74 with value: 0.33719998598098755.\n"
     ]
    },
    {
     "name": "stdout",
     "output_type": "stream",
     "text": [
      "157/157 [==============================] - 1s 8ms/step - loss: 4.6058 - accuracy: 0.0088\n"
     ]
    },
    {
     "name": "stderr",
     "output_type": "stream",
     "text": [
      "[I 2025-02-11 05:26:02,728] Trial 80 finished with value: 0.008799999952316284 and parameters: {'learning_rate': 8.57828933793702e-05, 'num_layers': 3, 'base': 8, 'kernel_size': (7, 7), 'regularization': 0.000679118342162552, 'dropout': 0.10357553263034484, 'droplayer': 'conv'}. Best is trial 74 with value: 0.33719998598098755.\n"
     ]
    },
    {
     "name": "stdout",
     "output_type": "stream",
     "text": [
      "157/157 [==============================] - 1s 7ms/step - loss: 2.8187 - accuracy: 0.3318\n"
     ]
    },
    {
     "name": "stderr",
     "output_type": "stream",
     "text": [
      "[I 2025-02-11 05:32:15,624] Trial 81 finished with value: 0.33180001378059387 and parameters: {'learning_rate': 7.679687841544577e-05, 'num_layers': 3, 'base': 8, 'kernel_size': (5, 5), 'regularization': 0.0004721760807953675, 'dropout': 0.09075652335229586, 'droplayer': 'conv'}. Best is trial 74 with value: 0.33719998598098755.\n"
     ]
    },
    {
     "name": "stdout",
     "output_type": "stream",
     "text": [
      "157/157 [==============================] - 1s 7ms/step - loss: 2.9309 - accuracy: 0.3148\n"
     ]
    },
    {
     "name": "stderr",
     "output_type": "stream",
     "text": [
      "[I 2025-02-11 05:38:27,376] Trial 82 finished with value: 0.3147999942302704 and parameters: {'learning_rate': 0.000168506275671732, 'num_layers': 3, 'base': 8, 'kernel_size': (5, 5), 'regularization': 0.0004755236400755025, 'dropout': 0.1216817626129947, 'droplayer': 'conv'}. Best is trial 74 with value: 0.33719998598098755.\n"
     ]
    },
    {
     "name": "stdout",
     "output_type": "stream",
     "text": [
      "157/157 [==============================] - 1s 7ms/step - loss: 2.9770 - accuracy: 0.3060\n"
     ]
    },
    {
     "name": "stderr",
     "output_type": "stream",
     "text": [
      "[I 2025-02-11 05:44:40,139] Trial 83 finished with value: 0.3059999942779541 and parameters: {'learning_rate': 0.00017787247636759962, 'num_layers': 3, 'base': 8, 'kernel_size': (5, 5), 'regularization': 0.0004776539699301275, 'dropout': 0.09220927854618682, 'droplayer': 'conv'}. Best is trial 74 with value: 0.33719998598098755.\n"
     ]
    },
    {
     "name": "stdout",
     "output_type": "stream",
     "text": [
      "157/157 [==============================] - 1s 7ms/step - loss: 3.0848 - accuracy: 0.2868\n"
     ]
    },
    {
     "name": "stderr",
     "output_type": "stream",
     "text": [
      "[I 2025-02-11 05:50:50,824] Trial 84 finished with value: 0.28679999709129333 and parameters: {'learning_rate': 0.00024053183181066962, 'num_layers': 3, 'base': 8, 'kernel_size': (5, 5), 'regularization': 0.0005528493925083802, 'dropout': 0.14817199277759563, 'droplayer': 'conv'}. Best is trial 74 with value: 0.33719998598098755.\n"
     ]
    },
    {
     "name": "stdout",
     "output_type": "stream",
     "text": [
      "157/157 [==============================] - 1s 7ms/step - loss: 3.0615 - accuracy: 0.2726\n"
     ]
    },
    {
     "name": "stderr",
     "output_type": "stream",
     "text": [
      "[I 2025-02-11 05:57:01,859] Trial 85 finished with value: 0.272599995136261 and parameters: {'learning_rate': 0.0001019852575387126, 'num_layers': 3, 'base': 8, 'kernel_size': (5, 5), 'regularization': 0.0007230254623748077, 'dropout': 0.10074609406226463, 'droplayer': 'conv'}. Best is trial 74 with value: 0.33719998598098755.\n"
     ]
    },
    {
     "name": "stdout",
     "output_type": "stream",
     "text": [
      "157/157 [==============================] - 1s 7ms/step - loss: 2.9299 - accuracy: 0.3148\n"
     ]
    },
    {
     "name": "stderr",
     "output_type": "stream",
     "text": [
      "[I 2025-02-11 06:03:16,273] Trial 86 finished with value: 0.3147999942302704 and parameters: {'learning_rate': 0.00012587671620816246, 'num_layers': 3, 'base': 8, 'kernel_size': (5, 5), 'regularization': 0.0004598163636475042, 'dropout': 0.12132543279876962, 'droplayer': 'conv'}. Best is trial 74 with value: 0.33719998598098755.\n"
     ]
    },
    {
     "name": "stdout",
     "output_type": "stream",
     "text": [
      "157/157 [==============================] - 1s 4ms/step - loss: 4.6052 - accuracy: 0.0088\n"
     ]
    },
    {
     "name": "stderr",
     "output_type": "stream",
     "text": [
      "[I 2025-02-11 06:06:03,755] Trial 87 finished with value: 0.008799999952316284 and parameters: {'learning_rate': 0.00016363130819413692, 'num_layers': 0, 'base': 8, 'kernel_size': (5, 5), 'regularization': 0.0004208666535775591, 'dropout': 0.11203506073680511, 'droplayer': 'conv'}. Best is trial 74 with value: 0.33719998598098755.\n"
     ]
    },
    {
     "name": "stdout",
     "output_type": "stream",
     "text": [
      "157/157 [==============================] - 1s 7ms/step - loss: 3.5615 - accuracy: 0.1738\n"
     ]
    },
    {
     "name": "stderr",
     "output_type": "stream",
     "text": [
      "[I 2025-02-11 06:12:15,583] Trial 88 finished with value: 0.1738000065088272 and parameters: {'learning_rate': 8.362097679562609e-05, 'num_layers': 3, 'base': 8, 'kernel_size': (5, 5), 'regularization': 0.0006215312280027243, 'dropout': 0.05962327378228499, 'droplayer': 'conv'}. Best is trial 74 with value: 0.33719998598098755.\n"
     ]
    },
    {
     "name": "stdout",
     "output_type": "stream",
     "text": [
      "157/157 [==============================] - 1s 3ms/step - loss: 3.6470 - accuracy: 0.1434\n"
     ]
    },
    {
     "name": "stderr",
     "output_type": "stream",
     "text": [
      "[I 2025-02-11 06:13:40,787] Trial 89 finished with value: 0.14339999854564667 and parameters: {'learning_rate': 0.0003078095406704365, 'num_layers': 3, 'base': 4, 'kernel_size': (5, 5), 'regularization': 0.0005229200078724656, 'dropout': 0.07875007256456537, 'droplayer': 'conv'}. Best is trial 74 with value: 0.33719998598098755.\n"
     ]
    },
    {
     "name": "stdout",
     "output_type": "stream",
     "text": [
      "157/157 [==============================] - 1s 4ms/step - loss: 3.3293 - accuracy: 0.2344\n"
     ]
    },
    {
     "name": "stderr",
     "output_type": "stream",
     "text": [
      "[I 2025-02-11 06:16:13,032] Trial 90 finished with value: 0.23440000414848328 and parameters: {'learning_rate': 0.0003912308450235597, 'num_layers': 3, 'base': 7, 'kernel_size': (5, 5), 'regularization': 0.00048337645977966127, 'dropout': 0.13579054405045343, 'droplayer': 'dense'}. Best is trial 74 with value: 0.33719998598098755.\n"
     ]
    },
    {
     "name": "stdout",
     "output_type": "stream",
     "text": [
      "157/157 [==============================] - 1s 7ms/step - loss: 2.8463 - accuracy: 0.3286\n"
     ]
    },
    {
     "name": "stderr",
     "output_type": "stream",
     "text": [
      "[I 2025-02-11 06:22:26,676] Trial 91 finished with value: 0.3285999894142151 and parameters: {'learning_rate': 0.00012246016968775356, 'num_layers': 3, 'base': 8, 'kernel_size': (5, 5), 'regularization': 0.0004428603029300825, 'dropout': 0.12471206165087949, 'droplayer': 'conv'}. Best is trial 74 with value: 0.33719998598098755.\n"
     ]
    },
    {
     "name": "stdout",
     "output_type": "stream",
     "text": [
      "157/157 [==============================] - 1s 7ms/step - loss: 2.8491 - accuracy: 0.3228\n"
     ]
    },
    {
     "name": "stderr",
     "output_type": "stream",
     "text": [
      "[I 2025-02-11 06:28:39,838] Trial 92 finished with value: 0.32280001044273376 and parameters: {'learning_rate': 6.105681760687669e-05, 'num_layers': 3, 'base': 8, 'kernel_size': (5, 5), 'regularization': 0.0004155556372769966, 'dropout': 0.09175412208702846, 'droplayer': 'conv'}. Best is trial 74 with value: 0.33719998598098755.\n"
     ]
    },
    {
     "name": "stdout",
     "output_type": "stream",
     "text": [
      "157/157 [==============================] - 1s 7ms/step - loss: 2.8452 - accuracy: 0.3174\n"
     ]
    },
    {
     "name": "stderr",
     "output_type": "stream",
     "text": [
      "[I 2025-02-11 06:34:54,572] Trial 93 finished with value: 0.3174000084400177 and parameters: {'learning_rate': 6.556093462498709e-05, 'num_layers': 3, 'base': 8, 'kernel_size': (5, 5), 'regularization': 0.0004083774548207559, 'dropout': 0.08893073937281985, 'droplayer': 'conv'}. Best is trial 74 with value: 0.33719998598098755.\n"
     ]
    },
    {
     "name": "stdout",
     "output_type": "stream",
     "text": [
      "157/157 [==============================] - 1s 3ms/step - loss: 3.3223 - accuracy: 0.2060\n"
     ]
    },
    {
     "name": "stderr",
     "output_type": "stream",
     "text": [
      "[I 2025-02-11 06:36:29,886] Trial 94 finished with value: 0.20600000023841858 and parameters: {'learning_rate': 5.942813114630148e-05, 'num_layers': 3, 'base': 6, 'kernel_size': (5, 5), 'regularization': 0.0003591845032043064, 'dropout': 0.0700511705402281, 'droplayer': 'conv'}. Best is trial 74 with value: 0.33719998598098755.\n"
     ]
    },
    {
     "name": "stdout",
     "output_type": "stream",
     "text": [
      "157/157 [==============================] - 1s 7ms/step - loss: 3.0205 - accuracy: 0.2868\n"
     ]
    },
    {
     "name": "stderr",
     "output_type": "stream",
     "text": [
      "[I 2025-02-11 06:42:43,325] Trial 95 finished with value: 0.28679999709129333 and parameters: {'learning_rate': 3.867265535236958e-05, 'num_layers': 3, 'base': 8, 'kernel_size': (5, 5), 'regularization': 0.0004308601606397305, 'dropout': 0.0879790017342725, 'droplayer': 'conv'}. Best is trial 74 with value: 0.33719998598098755.\n"
     ]
    },
    {
     "name": "stdout",
     "output_type": "stream",
     "text": [
      "157/157 [==============================] - 1s 7ms/step - loss: 3.4487 - accuracy: 0.1966\n"
     ]
    },
    {
     "name": "stderr",
     "output_type": "stream",
     "text": [
      "[I 2025-02-11 06:48:53,859] Trial 96 finished with value: 0.19660000503063202 and parameters: {'learning_rate': 7.212337000760066e-05, 'num_layers': 3, 'base': 8, 'kernel_size': (5, 5), 'regularization': 0.0003939651775427559, 'dropout': 0.06332812691982428, 'droplayer': 'conv'}. Best is trial 74 with value: 0.33719998598098755.\n"
     ]
    },
    {
     "name": "stdout",
     "output_type": "stream",
     "text": [
      "157/157 [==============================] - 1s 6ms/step - loss: 4.6052 - accuracy: 0.0088\n"
     ]
    },
    {
     "name": "stderr",
     "output_type": "stream",
     "text": [
      "[I 2025-02-11 06:52:58,979] Trial 97 finished with value: 0.008799999952316284 and parameters: {'learning_rate': 0.00010525269464539496, 'num_layers': 2, 'base': 8, 'kernel_size': (3, 3), 'regularization': 0.00045304464160478004, 'dropout': 0.09433714051960233, 'droplayer': 'conv'}. Best is trial 74 with value: 0.33719998598098755.\n"
     ]
    },
    {
     "name": "stdout",
     "output_type": "stream",
     "text": [
      "157/157 [==============================] - 1s 6ms/step - loss: 4.6073 - accuracy: 0.0096\n"
     ]
    },
    {
     "name": "stderr",
     "output_type": "stream",
     "text": [
      "[I 2025-02-11 06:57:11,575] Trial 98 finished with value: 0.009600000455975533 and parameters: {'learning_rate': 5.252775438998015e-05, 'num_layers': 1, 'base': 8, 'kernel_size': (5, 5), 'regularization': 0.0004108040757035723, 'dropout': 0.07452641859008904, 'droplayer': 'conv'}. Best is trial 74 with value: 0.33719998598098755.\n"
     ]
    },
    {
     "name": "stdout",
     "output_type": "stream",
     "text": [
      "157/157 [==============================] - 1s 7ms/step - loss: 3.6012 - accuracy: 0.1768\n"
     ]
    },
    {
     "name": "stderr",
     "output_type": "stream",
     "text": [
      "[I 2025-02-11 07:03:53,359] Trial 99 finished with value: 0.17679999768733978 and parameters: {'learning_rate': 3.3024929863761084e-05, 'num_layers': 3, 'base': 8, 'kernel_size': (7, 7), 'regularization': 0.00036524153533334025, 'dropout': 0.11001793295981947, 'droplayer': 'conv'}. Best is trial 74 with value: 0.33719998598098755.\n"
     ]
    },
    {
     "name": "stdout",
     "output_type": "stream",
     "text": [
      "Best hyperparameters: {'learning_rate': 8.423513376164038e-05, 'num_layers': 3, 'base': 8, 'kernel_size': (5, 5), 'regularization': 0.0005147656842312698, 'dropout': 0.12774143796296356, 'droplayer': 'conv'}\n"
     ]
    }
   ],
   "source": [
    "# Run Optuna optimization\n",
    "study = optuna.create_study(direction=\"maximize\")  \n",
    "study.optimize(objective, n_trials=100)\n",
    "# Best hyperparameters\n",
    "print(\"Best hyperparameters:\", study.best_params)"
   ]
  },
  {
   "cell_type": "markdown",
   "metadata": {},
   "source": [
    "Optuna optimizes hyperparameters using search algorithms, such as:\n",
    "\n",
    "1️⃣ Bayesian Optimization (TPE - Tree-structured Parzen Estimator)\n",
    "- Learns from past trials to suggest better hyperparameters.\n",
    "- Efficient for complex search spaces.\n",
    "\n",
    "2️⃣ Grid Search & Random Search\n",
    "- Random search: Tries random values in the defined range.\n",
    "- Grid search: Tests all possible combinations (not recommended for large search spaces).\n",
    "\n",
    "3️⃣ Pruning (Early Stopping)\n",
    "- Stops bad trials early to save compute time."
   ]
  },
  {
   "cell_type": "code",
   "execution_count": 10,
   "metadata": {},
   "outputs": [],
   "source": [
    "import pickle\n",
    "\n",
    "# Save the model\n",
    "with open('best_params.pkl', 'wb') as f:\n",
    "    pickle.dump(study.best_params, f)"
   ]
  },
  {
   "cell_type": "code",
   "execution_count": 13,
   "metadata": {},
   "outputs": [],
   "source": [
    "import pandas as pd\n",
    "pd.DataFrame(study.trials_dataframe()).to_csv('study.csv', index=False)"
   ]
  },
  {
   "cell_type": "code",
   "execution_count": 16,
   "metadata": {},
   "outputs": [
    {
     "data": {
      "text/html": [
       "<div>\n",
       "<style scoped>\n",
       "    .dataframe tbody tr th:only-of-type {\n",
       "        vertical-align: middle;\n",
       "    }\n",
       "\n",
       "    .dataframe tbody tr th {\n",
       "        vertical-align: top;\n",
       "    }\n",
       "\n",
       "    .dataframe thead th {\n",
       "        text-align: right;\n",
       "    }\n",
       "</style>\n",
       "<table border=\"1\" class=\"dataframe\">\n",
       "  <thead>\n",
       "    <tr style=\"text-align: right;\">\n",
       "      <th></th>\n",
       "      <th>0</th>\n",
       "    </tr>\n",
       "  </thead>\n",
       "  <tbody>\n",
       "    <tr>\n",
       "      <th>learning_rate</th>\n",
       "      <td>0.000084</td>\n",
       "    </tr>\n",
       "    <tr>\n",
       "      <th>num_layers</th>\n",
       "      <td>3</td>\n",
       "    </tr>\n",
       "    <tr>\n",
       "      <th>base</th>\n",
       "      <td>8</td>\n",
       "    </tr>\n",
       "    <tr>\n",
       "      <th>kernel_size</th>\n",
       "      <td>5</td>\n",
       "    </tr>\n",
       "    <tr>\n",
       "      <th>regularization</th>\n",
       "      <td>0.000515</td>\n",
       "    </tr>\n",
       "    <tr>\n",
       "      <th>dropout</th>\n",
       "      <td>0.127741</td>\n",
       "    </tr>\n",
       "    <tr>\n",
       "      <th>droplayer</th>\n",
       "      <td>conv</td>\n",
       "    </tr>\n",
       "  </tbody>\n",
       "</table>\n",
       "</div>"
      ],
      "text/plain": [
       "                       0\n",
       "learning_rate   0.000084\n",
       "num_layers             3\n",
       "base                   8\n",
       "kernel_size            5\n",
       "regularization  0.000515\n",
       "dropout         0.127741\n",
       "droplayer           conv"
      ]
     },
     "execution_count": 16,
     "metadata": {},
     "output_type": "execute_result"
    }
   ],
   "source": [
    "pd.DataFrame(study.best_params).iloc[:1].T"
   ]
  },
  {
   "cell_type": "code",
   "execution_count": 21,
   "metadata": {},
   "outputs": [],
   "source": [
    "best_params = study.best_params.copy()\n",
    "\n",
    "model = create_model(num_layers=best_params['num_layers'],\n",
    "                     base=best_params['base'],\n",
    "                     kernels=best_params['kernel_size'],\n",
    "                     regularization=best_params['regularization'],\n",
    "                     dropout=best_params['dropout'],)"
   ]
  },
  {
   "cell_type": "code",
   "execution_count": 22,
   "metadata": {},
   "outputs": [
    {
     "name": "stderr",
     "output_type": "stream",
     "text": [
      "\u001b[34m\u001b[1mwandb\u001b[0m: Logging into wandb.ai. (Learn how to deploy a W&B server locally: https://wandb.me/wandb-server)\n",
      "\u001b[34m\u001b[1mwandb\u001b[0m: You can find your API key in your browser here: https://wandb.ai/authorize\n",
      "\u001b[34m\u001b[1mwandb\u001b[0m: Paste an API key from your profile and hit enter:\u001b[34m\u001b[1mwandb\u001b[0m: \u001b[33mWARNING\u001b[0m If you're specifying your api key in code, ensure this code is not shared publicly.\n",
      "\u001b[34m\u001b[1mwandb\u001b[0m: \u001b[33mWARNING\u001b[0m Consider setting the WANDB_API_KEY environment variable, or running `wandb login` from the command line.\n",
      "\u001b[34m\u001b[1mwandb\u001b[0m: Appending key for api.wandb.ai to your netrc file: C:\\Users\\ahmad\\_netrc\n",
      "\u001b[34m\u001b[1mwandb\u001b[0m: Currently logged in as: \u001b[33mmlahmadmostafa\u001b[0m (\u001b[33mmlahmadmostafa-\u001b[0m) to \u001b[32mhttps://api.wandb.ai\u001b[0m. Use \u001b[1m`wandb login --relogin`\u001b[0m to force relogin\n",
      "\u001b[34m\u001b[1mwandb\u001b[0m: Using wandb-core as the SDK backend.  Please refer to https://wandb.me/wandb-core for more information.\n"
     ]
    },
    {
     "data": {
      "text/html": [
       "Tracking run with wandb version 0.19.6"
      ],
      "text/plain": [
       "<IPython.core.display.HTML object>"
      ]
     },
     "metadata": {},
     "output_type": "display_data"
    },
    {
     "data": {
      "text/html": [
       "Run data is saved locally in <code>d:\\Industry\\Projects\\Sprints - Ai\\12_DL\\Addressing Overfitting and Underfitting in Machine Learning Models\\wandb\\run-20250211_121418-ztf81vjo</code>"
      ],
      "text/plain": [
       "<IPython.core.display.HTML object>"
      ]
     },
     "metadata": {},
     "output_type": "display_data"
    },
    {
     "data": {
      "text/html": [
       "Syncing run <strong><a href='https://wandb.ai/mlahmadmostafa-/cifar100/runs/ztf81vjo' target=\"_blank\">scarlet-dust-1</a></strong> to <a href='https://wandb.ai/mlahmadmostafa-/cifar100' target=\"_blank\">Weights & Biases</a> (<a href='https://wandb.me/developer-guide' target=\"_blank\">docs</a>)<br>"
      ],
      "text/plain": [
       "<IPython.core.display.HTML object>"
      ]
     },
     "metadata": {},
     "output_type": "display_data"
    },
    {
     "data": {
      "text/html": [
       " View project at <a href='https://wandb.ai/mlahmadmostafa-/cifar100' target=\"_blank\">https://wandb.ai/mlahmadmostafa-/cifar100</a>"
      ],
      "text/plain": [
       "<IPython.core.display.HTML object>"
      ]
     },
     "metadata": {},
     "output_type": "display_data"
    },
    {
     "data": {
      "text/html": [
       " View run at <a href='https://wandb.ai/mlahmadmostafa-/cifar100/runs/ztf81vjo' target=\"_blank\">https://wandb.ai/mlahmadmostafa-/cifar100/runs/ztf81vjo</a>"
      ],
      "text/plain": [
       "<IPython.core.display.HTML object>"
      ]
     },
     "metadata": {},
     "output_type": "display_data"
    }
   ],
   "source": [
    "# WANDB\n",
    "import wandb\n",
    "from wandb.integration.keras import WandbMetricsLogger\n",
    "\n",
    "# Start a new W&B run\n",
    "wandb.init(project=\"cifar100\")\n",
    "\n",
    "# Early stopping for f1\n",
    "from tensorflow.keras.callbacks import EarlyStopping\n",
    "\n",
    "early_stopping = EarlyStopping(monitor='val_accuracy', patience=10, restore_best_weights=True)\n",
    "\n"
   ]
  },
  {
   "cell_type": "code",
   "execution_count": 26,
   "metadata": {},
   "outputs": [],
   "source": [
    "class F1Score(tf.keras.metrics.Metric):\n",
    "    def __init__(self, name='f1_score', **kwargs):\n",
    "        super(F1Score, self).__init__(name=name, **kwargs)\n",
    "        self.true_positives = self.add_weight(name='tp', initializer='zeros')\n",
    "        self.false_positives = self.add_weight(name='fp', initializer='zeros')\n",
    "        self.false_negatives = self.add_weight(name='fn', initializer='zeros')\n",
    "\n",
    "    def update_state(self, y_true, y_pred, sample_weight=None):\n",
    "        y_pred = tf.round(tf.clip_by_value(y_pred, 0, 1))\n",
    "        y_true = tf.cast(y_true, tf.float32)\n",
    "\n",
    "        tp = tf.reduce_sum(tf.cast(y_true * y_pred, tf.float32))\n",
    "        fp = tf.reduce_sum(tf.cast((1 - y_true) * y_pred, tf.float32))\n",
    "        fn = tf.reduce_sum(tf.cast(y_true * (1 - y_pred), tf.float32))\n",
    "\n",
    "        self.true_positives.assign_add(tp)\n",
    "        self.false_positives.assign_add(fp)\n",
    "        self.false_negatives.assign_add(fn)\n",
    "\n",
    "    def result(self):\n",
    "        precision = self.true_positives / (self.true_positives + self.false_positives + tf.keras.backend.epsilon())\n",
    "        recall = self.true_positives / (self.true_positives + self.false_negatives + tf.keras.backend.epsilon())\n",
    "        return 2 * ((precision * recall) / (precision + recall + tf.keras.backend.epsilon()))\n",
    "\n",
    "    def reset_states(self):\n",
    "        self.true_positives.assign(0)\n",
    "        self.false_positives.assign(0)\n",
    "        self.false_negatives.assign(0)\n"
   ]
  },
  {
   "cell_type": "code",
   "execution_count": 28,
   "metadata": {},
   "outputs": [
    {
     "name": "stdout",
     "output_type": "stream",
     "text": [
      "Epoch 1/100\n",
      "WARNING:tensorflow:Callback method `on_train_batch_end` is slow compared to the batch time (batch time: 0.0222s vs `on_train_batch_end` time: 0.0468s). Check your callbacks.\n",
      "1563/1563 - 41s - loss: 3.7126 - accuracy: 0.1588 - f1_score: 0.0011 - val_loss: 3.5382 - val_accuracy: 0.1814 - val_f1_score: 0.0011 - 41s/epoch - 26ms/step\n",
      "Epoch 2/100\n",
      "1563/1563 - 40s - loss: 3.4663 - accuracy: 0.1990 - f1_score: 0.0016 - val_loss: 3.3348 - val_accuracy: 0.2210 - val_f1_score: 0.0013 - 40s/epoch - 25ms/step\n",
      "Epoch 3/100\n",
      "1563/1563 - 39s - loss: 3.2908 - accuracy: 0.2290 - f1_score: 0.0021 - val_loss: 3.2080 - val_accuracy: 0.2374 - val_f1_score: 0.0019 - 39s/epoch - 25ms/step\n",
      "Epoch 4/100\n",
      "1563/1563 - 40s - loss: 3.1551 - accuracy: 0.2519 - f1_score: 0.0026 - val_loss: 3.0930 - val_accuracy: 0.2596 - val_f1_score: 0.0022 - 40s/epoch - 25ms/step\n",
      "Epoch 5/100\n",
      "1563/1563 - 40s - loss: 3.0417 - accuracy: 0.2726 - f1_score: 0.0031 - val_loss: 3.0706 - val_accuracy: 0.2768 - val_f1_score: 0.0026 - 40s/epoch - 25ms/step\n",
      "Epoch 6/100\n",
      "1563/1563 - 39s - loss: 2.9465 - accuracy: 0.2960 - f1_score: 0.0035 - val_loss: 2.9360 - val_accuracy: 0.2952 - val_f1_score: 0.0031 - 39s/epoch - 25ms/step\n",
      "Epoch 7/100\n",
      "1563/1563 - 40s - loss: 2.8668 - accuracy: 0.3119 - f1_score: 0.0038 - val_loss: 2.8988 - val_accuracy: 0.3060 - val_f1_score: 0.0036 - 40s/epoch - 25ms/step\n",
      "Epoch 8/100\n",
      "1563/1563 - 40s - loss: 2.8034 - accuracy: 0.3253 - f1_score: 0.0042 - val_loss: 2.8471 - val_accuracy: 0.3214 - val_f1_score: 0.0035 - 40s/epoch - 25ms/step\n",
      "Epoch 9/100\n",
      "1563/1563 - 41s - loss: 2.7382 - accuracy: 0.3381 - f1_score: 0.0046 - val_loss: 2.7780 - val_accuracy: 0.3338 - val_f1_score: 0.0042 - 41s/epoch - 26ms/step\n",
      "Epoch 10/100\n",
      "1563/1563 - 41s - loss: 2.6874 - accuracy: 0.3500 - f1_score: 0.0048 - val_loss: 2.7582 - val_accuracy: 0.3374 - val_f1_score: 0.0041 - 41s/epoch - 26ms/step\n",
      "Epoch 11/100\n",
      "1563/1563 - 40s - loss: 2.6370 - accuracy: 0.3616 - f1_score: 0.0051 - val_loss: 2.7479 - val_accuracy: 0.3410 - val_f1_score: 0.0042 - 40s/epoch - 26ms/step\n",
      "Epoch 12/100\n",
      "1563/1563 - 41s - loss: 2.5991 - accuracy: 0.3713 - f1_score: 0.0052 - val_loss: 2.7176 - val_accuracy: 0.3520 - val_f1_score: 0.0049 - 41s/epoch - 26ms/step\n",
      "Epoch 13/100\n",
      "1563/1563 - 43s - loss: 2.5585 - accuracy: 0.3794 - f1_score: 0.0055 - val_loss: 2.7240 - val_accuracy: 0.3538 - val_f1_score: 0.0049 - 43s/epoch - 28ms/step\n",
      "Epoch 14/100\n",
      "1563/1563 - 40s - loss: 2.5211 - accuracy: 0.3881 - f1_score: 0.0058 - val_loss: 2.7066 - val_accuracy: 0.3656 - val_f1_score: 0.0049 - 40s/epoch - 26ms/step\n",
      "Epoch 15/100\n",
      "1563/1563 - 40s - loss: 2.4972 - accuracy: 0.3945 - f1_score: 0.0059 - val_loss: 2.7047 - val_accuracy: 0.3644 - val_f1_score: 0.0051 - 40s/epoch - 26ms/step\n",
      "Epoch 16/100\n",
      "1563/1563 - 40s - loss: 2.4641 - accuracy: 0.4039 - f1_score: 0.0062 - val_loss: 2.6894 - val_accuracy: 0.3714 - val_f1_score: 0.0049 - 40s/epoch - 26ms/step\n",
      "Epoch 17/100\n",
      "1563/1563 - 41s - loss: 2.4303 - accuracy: 0.4114 - f1_score: 0.0064 - val_loss: 2.6728 - val_accuracy: 0.3760 - val_f1_score: 0.0048 - 41s/epoch - 26ms/step\n",
      "Epoch 18/100\n",
      "1563/1563 - 40s - loss: 2.4107 - accuracy: 0.4175 - f1_score: 0.0065 - val_loss: 2.6443 - val_accuracy: 0.3858 - val_f1_score: 0.0054 - 40s/epoch - 26ms/step\n",
      "Epoch 19/100\n",
      "1563/1563 - 40s - loss: 2.3733 - accuracy: 0.4264 - f1_score: 0.0068 - val_loss: 2.6336 - val_accuracy: 0.3812 - val_f1_score: 0.0056 - 40s/epoch - 26ms/step\n",
      "Epoch 20/100\n"
     ]
    },
    {
     "ename": "KeyboardInterrupt",
     "evalue": "",
     "output_type": "error",
     "traceback": [
      "\u001b[1;31m---------------------------------------------------------------------------\u001b[0m",
      "\u001b[1;31mKeyboardInterrupt\u001b[0m                         Traceback (most recent call last)",
      "\u001b[1;32m~\\AppData\\Local\\Temp\\ipykernel_17480\\2896834795.py\u001b[0m in \u001b[0;36m?\u001b[1;34m()\u001b[0m\n\u001b[1;32m----> 5\u001b[1;33m model.compile(optimizer=tf.keras.optimizers.Adam(learning_rate=best_params['learning_rate']), \n\u001b[0m\u001b[0;32m      6\u001b[0m               \u001b[0mloss\u001b[0m\u001b[1;33m=\u001b[0m\u001b[1;34m'sparse_categorical_crossentropy'\u001b[0m\u001b[1;33m,\u001b[0m\u001b[1;33m\u001b[0m\u001b[1;33m\u001b[0m\u001b[0m\n\u001b[0;32m      7\u001b[0m               metrics=['accuracy', F1Score()])\n\u001b[0;32m      8\u001b[0m \u001b[1;33m\u001b[0m\u001b[0m\n",
      "\u001b[1;32md:\\program_files\\anaconda3\\envs\\tf_gpu\\lib\\site-packages\\wandb\\integration\\keras\\keras.py\u001b[0m in \u001b[0;36m?\u001b[1;34m(*args, **kwargs)\u001b[0m\n\u001b[0;32m    172\u001b[0m         \u001b[0mval_data\u001b[0m \u001b[1;33m=\u001b[0m \u001b[0mkwargs\u001b[0m\u001b[1;33m.\u001b[0m\u001b[0mget\u001b[0m\u001b[1;33m(\u001b[0m\u001b[1;34m\"validation_data\"\u001b[0m\u001b[1;33m)\u001b[0m\u001b[1;33m\u001b[0m\u001b[1;33m\u001b[0m\u001b[0m\n\u001b[0;32m    173\u001b[0m         \u001b[1;32mif\u001b[0m \u001b[0mval_data\u001b[0m\u001b[1;33m:\u001b[0m\u001b[1;33m\u001b[0m\u001b[1;33m\u001b[0m\u001b[0m\n\u001b[0;32m    174\u001b[0m             \u001b[1;32mfor\u001b[0m \u001b[0mcbk\u001b[0m \u001b[1;32min\u001b[0m \u001b[0mcbks\u001b[0m\u001b[1;33m:\u001b[0m\u001b[1;33m\u001b[0m\u001b[1;33m\u001b[0m\u001b[0m\n\u001b[0;32m    175\u001b[0m                 \u001b[0mset_wandb_attrs\u001b[0m\u001b[1;33m(\u001b[0m\u001b[0mcbk\u001b[0m\u001b[1;33m,\u001b[0m \u001b[0mval_data\u001b[0m\u001b[1;33m)\u001b[0m\u001b[1;33m\u001b[0m\u001b[1;33m\u001b[0m\u001b[0m\n\u001b[1;32m--> 176\u001b[1;33m         \u001b[1;32mreturn\u001b[0m \u001b[0mold_v2\u001b[0m\u001b[1;33m(\u001b[0m\u001b[1;33m*\u001b[0m\u001b[0margs\u001b[0m\u001b[1;33m,\u001b[0m \u001b[1;33m**\u001b[0m\u001b[0mkwargs\u001b[0m\u001b[1;33m)\u001b[0m\u001b[1;33m\u001b[0m\u001b[1;33m\u001b[0m\u001b[0m\n\u001b[0m",
      "\u001b[1;32md:\\program_files\\anaconda3\\envs\\tf_gpu\\lib\\site-packages\\wandb\\integration\\keras\\keras.py\u001b[0m in \u001b[0;36m?\u001b[1;34m(*args, **kwargs)\u001b[0m\n\u001b[0;32m    172\u001b[0m         \u001b[0mval_data\u001b[0m \u001b[1;33m=\u001b[0m \u001b[0mkwargs\u001b[0m\u001b[1;33m.\u001b[0m\u001b[0mget\u001b[0m\u001b[1;33m(\u001b[0m\u001b[1;34m\"validation_data\"\u001b[0m\u001b[1;33m)\u001b[0m\u001b[1;33m\u001b[0m\u001b[1;33m\u001b[0m\u001b[0m\n\u001b[0;32m    173\u001b[0m         \u001b[1;32mif\u001b[0m \u001b[0mval_data\u001b[0m\u001b[1;33m:\u001b[0m\u001b[1;33m\u001b[0m\u001b[1;33m\u001b[0m\u001b[0m\n\u001b[0;32m    174\u001b[0m             \u001b[1;32mfor\u001b[0m \u001b[0mcbk\u001b[0m \u001b[1;32min\u001b[0m \u001b[0mcbks\u001b[0m\u001b[1;33m:\u001b[0m\u001b[1;33m\u001b[0m\u001b[1;33m\u001b[0m\u001b[0m\n\u001b[0;32m    175\u001b[0m                 \u001b[0mset_wandb_attrs\u001b[0m\u001b[1;33m(\u001b[0m\u001b[0mcbk\u001b[0m\u001b[1;33m,\u001b[0m \u001b[0mval_data\u001b[0m\u001b[1;33m)\u001b[0m\u001b[1;33m\u001b[0m\u001b[1;33m\u001b[0m\u001b[0m\n\u001b[1;32m--> 176\u001b[1;33m         \u001b[1;32mreturn\u001b[0m \u001b[0mold_v2\u001b[0m\u001b[1;33m(\u001b[0m\u001b[1;33m*\u001b[0m\u001b[0margs\u001b[0m\u001b[1;33m,\u001b[0m \u001b[1;33m**\u001b[0m\u001b[0mkwargs\u001b[0m\u001b[1;33m)\u001b[0m\u001b[1;33m\u001b[0m\u001b[1;33m\u001b[0m\u001b[0m\n\u001b[0m",
      "\u001b[1;32md:\\program_files\\anaconda3\\envs\\tf_gpu\\lib\\site-packages\\wandb\\integration\\keras\\keras.py\u001b[0m in \u001b[0;36m?\u001b[1;34m(*args, **kwargs)\u001b[0m\n\u001b[0;32m    172\u001b[0m         \u001b[0mval_data\u001b[0m \u001b[1;33m=\u001b[0m \u001b[0mkwargs\u001b[0m\u001b[1;33m.\u001b[0m\u001b[0mget\u001b[0m\u001b[1;33m(\u001b[0m\u001b[1;34m\"validation_data\"\u001b[0m\u001b[1;33m)\u001b[0m\u001b[1;33m\u001b[0m\u001b[1;33m\u001b[0m\u001b[0m\n\u001b[0;32m    173\u001b[0m         \u001b[1;32mif\u001b[0m \u001b[0mval_data\u001b[0m\u001b[1;33m:\u001b[0m\u001b[1;33m\u001b[0m\u001b[1;33m\u001b[0m\u001b[0m\n\u001b[0;32m    174\u001b[0m             \u001b[1;32mfor\u001b[0m \u001b[0mcbk\u001b[0m \u001b[1;32min\u001b[0m \u001b[0mcbks\u001b[0m\u001b[1;33m:\u001b[0m\u001b[1;33m\u001b[0m\u001b[1;33m\u001b[0m\u001b[0m\n\u001b[0;32m    175\u001b[0m                 \u001b[0mset_wandb_attrs\u001b[0m\u001b[1;33m(\u001b[0m\u001b[0mcbk\u001b[0m\u001b[1;33m,\u001b[0m \u001b[0mval_data\u001b[0m\u001b[1;33m)\u001b[0m\u001b[1;33m\u001b[0m\u001b[1;33m\u001b[0m\u001b[0m\n\u001b[1;32m--> 176\u001b[1;33m         \u001b[1;32mreturn\u001b[0m \u001b[0mold_v2\u001b[0m\u001b[1;33m(\u001b[0m\u001b[1;33m*\u001b[0m\u001b[0margs\u001b[0m\u001b[1;33m,\u001b[0m \u001b[1;33m**\u001b[0m\u001b[0mkwargs\u001b[0m\u001b[1;33m)\u001b[0m\u001b[1;33m\u001b[0m\u001b[1;33m\u001b[0m\u001b[0m\n\u001b[0m",
      "\u001b[1;32md:\\program_files\\anaconda3\\envs\\tf_gpu\\lib\\site-packages\\keras\\utils\\traceback_utils.py\u001b[0m in \u001b[0;36m?\u001b[1;34m(*args, **kwargs)\u001b[0m\n\u001b[0;32m     68\u001b[0m             \u001b[1;31m# To get the full stack trace, call:\u001b[0m\u001b[1;33m\u001b[0m\u001b[1;33m\u001b[0m\u001b[1;33m\u001b[0m\u001b[0m\n\u001b[0;32m     69\u001b[0m             \u001b[1;31m# `tf.debugging.disable_traceback_filtering()`\u001b[0m\u001b[1;33m\u001b[0m\u001b[1;33m\u001b[0m\u001b[1;33m\u001b[0m\u001b[0m\n\u001b[0;32m     70\u001b[0m             \u001b[1;32mraise\u001b[0m \u001b[0me\u001b[0m\u001b[1;33m.\u001b[0m\u001b[0mwith_traceback\u001b[0m\u001b[1;33m(\u001b[0m\u001b[0mfiltered_tb\u001b[0m\u001b[1;33m)\u001b[0m \u001b[1;32mfrom\u001b[0m \u001b[1;32mNone\u001b[0m\u001b[1;33m\u001b[0m\u001b[1;33m\u001b[0m\u001b[0m\n\u001b[0;32m     71\u001b[0m         \u001b[1;32mfinally\u001b[0m\u001b[1;33m:\u001b[0m\u001b[1;33m\u001b[0m\u001b[1;33m\u001b[0m\u001b[0m\n\u001b[1;32m---> 72\u001b[1;33m             \u001b[1;32mdel\u001b[0m \u001b[0mfiltered_tb\u001b[0m\u001b[1;33m\u001b[0m\u001b[1;33m\u001b[0m\u001b[0m\n\u001b[0m",
      "\u001b[1;32md:\\program_files\\anaconda3\\envs\\tf_gpu\\lib\\site-packages\\keras\\engine\\training.py\u001b[0m in \u001b[0;36m?\u001b[1;34m(self, x, y, batch_size, epochs, verbose, callbacks, validation_split, validation_data, shuffle, class_weight, sample_weight, initial_epoch, steps_per_epoch, validation_steps, validation_batch_size, validation_freq, max_queue_size, workers, use_multiprocessing)\u001b[0m\n\u001b[0;32m   1634\u001b[0m             \u001b[1;31m# If eval data_handler exists, delete it after all epochs are done.\u001b[0m\u001b[1;33m\u001b[0m\u001b[1;33m\u001b[0m\u001b[1;33m\u001b[0m\u001b[0m\n\u001b[0;32m   1635\u001b[0m             \u001b[1;32mif\u001b[0m \u001b[0mgetattr\u001b[0m\u001b[1;33m(\u001b[0m\u001b[0mself\u001b[0m\u001b[1;33m,\u001b[0m \u001b[1;34m\"_eval_data_handler\"\u001b[0m\u001b[1;33m,\u001b[0m \u001b[1;32mNone\u001b[0m\u001b[1;33m)\u001b[0m \u001b[1;32mis\u001b[0m \u001b[1;32mnot\u001b[0m \u001b[1;32mNone\u001b[0m\u001b[1;33m:\u001b[0m\u001b[1;33m\u001b[0m\u001b[1;33m\u001b[0m\u001b[0m\n\u001b[0;32m   1636\u001b[0m                 \u001b[1;32mdel\u001b[0m \u001b[0mself\u001b[0m\u001b[1;33m.\u001b[0m\u001b[0m_eval_data_handler\u001b[0m\u001b[1;33m\u001b[0m\u001b[1;33m\u001b[0m\u001b[0m\n\u001b[0;32m   1637\u001b[0m             \u001b[0mcallbacks\u001b[0m\u001b[1;33m.\u001b[0m\u001b[0mon_train_end\u001b[0m\u001b[1;33m(\u001b[0m\u001b[0mlogs\u001b[0m\u001b[1;33m=\u001b[0m\u001b[0mtraining_logs\u001b[0m\u001b[1;33m)\u001b[0m\u001b[1;33m\u001b[0m\u001b[1;33m\u001b[0m\u001b[0m\n\u001b[1;32m-> 1638\u001b[1;33m             \u001b[1;32mreturn\u001b[0m \u001b[0mself\u001b[0m\u001b[1;33m.\u001b[0m\u001b[0mhistory\u001b[0m\u001b[1;33m\u001b[0m\u001b[1;33m\u001b[0m\u001b[0m\n\u001b[0m",
      "\u001b[1;32md:\\program_files\\anaconda3\\envs\\tf_gpu\\lib\\site-packages\\keras\\engine\\data_adapter.py\u001b[0m in \u001b[0;36m?\u001b[1;34m(self)\u001b[0m\n\u001b[0;32m   1370\u001b[0m             \u001b[1;32mor\u001b[0m \u001b[0mself\u001b[0m\u001b[1;33m.\u001b[0m\u001b[0m_current_step\u001b[0m \u001b[1;33m<\u001b[0m \u001b[0mself\u001b[0m\u001b[1;33m.\u001b[0m\u001b[0m_inferred_steps\u001b[0m\u001b[1;33m\u001b[0m\u001b[1;33m\u001b[0m\u001b[0m\n\u001b[0;32m   1371\u001b[0m         ):\n\u001b[0;32m   1372\u001b[0m             \u001b[1;32mif\u001b[0m \u001b[0mself\u001b[0m\u001b[1;33m.\u001b[0m\u001b[0m_insufficient_data\u001b[0m\u001b[1;33m:\u001b[0m  \u001b[1;31m# Set by `catch_stop_iteration`.\u001b[0m\u001b[1;33m\u001b[0m\u001b[1;33m\u001b[0m\u001b[0m\n\u001b[0;32m   1373\u001b[0m                 \u001b[1;32mbreak\u001b[0m\u001b[1;33m\u001b[0m\u001b[1;33m\u001b[0m\u001b[0m\n\u001b[1;32m-> 1374\u001b[1;33m             \u001b[0moriginal_spe\u001b[0m \u001b[1;33m=\u001b[0m \u001b[0mself\u001b[0m\u001b[1;33m.\u001b[0m\u001b[0m_steps_per_execution\u001b[0m\u001b[1;33m.\u001b[0m\u001b[0mnumpy\u001b[0m\u001b[1;33m(\u001b[0m\u001b[1;33m)\u001b[0m\u001b[1;33m.\u001b[0m\u001b[0mitem\u001b[0m\u001b[1;33m(\u001b[0m\u001b[1;33m)\u001b[0m\u001b[1;33m\u001b[0m\u001b[1;33m\u001b[0m\u001b[0m\n\u001b[0m\u001b[0;32m   1375\u001b[0m             can_run_full_execution = (\n\u001b[0;32m   1376\u001b[0m                 \u001b[0moriginal_spe\u001b[0m \u001b[1;33m==\u001b[0m \u001b[1;36m1\u001b[0m\u001b[1;33m\u001b[0m\u001b[1;33m\u001b[0m\u001b[0m\n\u001b[0;32m   1377\u001b[0m                 \u001b[1;32mor\u001b[0m \u001b[0mself\u001b[0m\u001b[1;33m.\u001b[0m\u001b[0m_inferred_steps\u001b[0m \u001b[1;32mis\u001b[0m \u001b[1;32mNone\u001b[0m\u001b[1;33m\u001b[0m\u001b[1;33m\u001b[0m\u001b[0m\n",
      "\u001b[1;32md:\\program_files\\anaconda3\\envs\\tf_gpu\\lib\\site-packages\\tensorflow\\python\\ops\\resource_variable_ops.py\u001b[0m in \u001b[0;36m?\u001b[1;34m(self)\u001b[0m\n\u001b[0;32m    635\u001b[0m   \u001b[1;32mdef\u001b[0m \u001b[0mnumpy\u001b[0m\u001b[1;33m(\u001b[0m\u001b[0mself\u001b[0m\u001b[1;33m)\u001b[0m\u001b[1;33m:\u001b[0m\u001b[1;33m\u001b[0m\u001b[1;33m\u001b[0m\u001b[0m\n\u001b[0;32m    636\u001b[0m     \u001b[1;32mif\u001b[0m \u001b[0mcontext\u001b[0m\u001b[1;33m.\u001b[0m\u001b[0mexecuting_eagerly\u001b[0m\u001b[1;33m(\u001b[0m\u001b[1;33m)\u001b[0m\u001b[1;33m:\u001b[0m\u001b[1;33m\u001b[0m\u001b[1;33m\u001b[0m\u001b[0m\n\u001b[1;32m--> 637\u001b[1;33m       \u001b[1;32mreturn\u001b[0m \u001b[0mself\u001b[0m\u001b[1;33m.\u001b[0m\u001b[0mread_value\u001b[0m\u001b[1;33m(\u001b[0m\u001b[1;33m)\u001b[0m\u001b[1;33m.\u001b[0m\u001b[0mnumpy\u001b[0m\u001b[1;33m(\u001b[0m\u001b[1;33m)\u001b[0m\u001b[1;33m\u001b[0m\u001b[1;33m\u001b[0m\u001b[0m\n\u001b[0m\u001b[0;32m    638\u001b[0m     raise NotImplementedError(\n\u001b[0;32m    639\u001b[0m         \"numpy() is only available when eager execution is enabled.\")\n",
      "\u001b[1;32md:\\program_files\\anaconda3\\envs\\tf_gpu\\lib\\site-packages\\tensorflow\\python\\ops\\resource_variable_ops.py\u001b[0m in \u001b[0;36m?\u001b[1;34m(self)\u001b[0m\n\u001b[0;32m    724\u001b[0m     \u001b[1;32mwith\u001b[0m \u001b[0mops\u001b[0m\u001b[1;33m.\u001b[0m\u001b[0mname_scope\u001b[0m\u001b[1;33m(\u001b[0m\u001b[1;34m\"Read\"\u001b[0m\u001b[1;33m)\u001b[0m\u001b[1;33m:\u001b[0m\u001b[1;33m\u001b[0m\u001b[1;33m\u001b[0m\u001b[0m\n\u001b[0;32m    725\u001b[0m       \u001b[0mvalue\u001b[0m \u001b[1;33m=\u001b[0m \u001b[0mself\u001b[0m\u001b[1;33m.\u001b[0m\u001b[0m_read_variable_op\u001b[0m\u001b[1;33m(\u001b[0m\u001b[1;33m)\u001b[0m\u001b[1;33m\u001b[0m\u001b[1;33m\u001b[0m\u001b[0m\n\u001b[0;32m    726\u001b[0m     \u001b[1;31m# Return an identity so it can get placed on whatever device the context\u001b[0m\u001b[1;33m\u001b[0m\u001b[1;33m\u001b[0m\u001b[1;33m\u001b[0m\u001b[0m\n\u001b[0;32m    727\u001b[0m     \u001b[1;31m# specifies instead of the device where the variable is.\u001b[0m\u001b[1;33m\u001b[0m\u001b[1;33m\u001b[0m\u001b[1;33m\u001b[0m\u001b[0m\n\u001b[1;32m--> 728\u001b[1;33m     \u001b[1;32mreturn\u001b[0m \u001b[0marray_ops\u001b[0m\u001b[1;33m.\u001b[0m\u001b[0midentity\u001b[0m\u001b[1;33m(\u001b[0m\u001b[0mvalue\u001b[0m\u001b[1;33m)\u001b[0m\u001b[1;33m\u001b[0m\u001b[1;33m\u001b[0m\u001b[0m\n\u001b[0m",
      "\u001b[1;32md:\\program_files\\anaconda3\\envs\\tf_gpu\\lib\\site-packages\\tensorflow\\python\\util\\traceback_utils.py\u001b[0m in \u001b[0;36m?\u001b[1;34m(*args, **kwargs)\u001b[0m\n\u001b[0;32m    151\u001b[0m     \u001b[1;32mexcept\u001b[0m \u001b[0mException\u001b[0m \u001b[1;32mas\u001b[0m \u001b[0me\u001b[0m\u001b[1;33m:\u001b[0m\u001b[1;33m\u001b[0m\u001b[1;33m\u001b[0m\u001b[0m\n\u001b[0;32m    152\u001b[0m       \u001b[0mfiltered_tb\u001b[0m \u001b[1;33m=\u001b[0m \u001b[0m_process_traceback_frames\u001b[0m\u001b[1;33m(\u001b[0m\u001b[0me\u001b[0m\u001b[1;33m.\u001b[0m\u001b[0m__traceback__\u001b[0m\u001b[1;33m)\u001b[0m\u001b[1;33m\u001b[0m\u001b[1;33m\u001b[0m\u001b[0m\n\u001b[0;32m    153\u001b[0m       \u001b[1;32mraise\u001b[0m \u001b[0me\u001b[0m\u001b[1;33m.\u001b[0m\u001b[0mwith_traceback\u001b[0m\u001b[1;33m(\u001b[0m\u001b[0mfiltered_tb\u001b[0m\u001b[1;33m)\u001b[0m \u001b[1;32mfrom\u001b[0m \u001b[1;32mNone\u001b[0m\u001b[1;33m\u001b[0m\u001b[1;33m\u001b[0m\u001b[0m\n\u001b[0;32m    154\u001b[0m     \u001b[1;32mfinally\u001b[0m\u001b[1;33m:\u001b[0m\u001b[1;33m\u001b[0m\u001b[1;33m\u001b[0m\u001b[0m\n\u001b[1;32m--> 155\u001b[1;33m       \u001b[1;32mdel\u001b[0m \u001b[0mfiltered_tb\u001b[0m\u001b[1;33m\u001b[0m\u001b[1;33m\u001b[0m\u001b[0m\n\u001b[0m",
      "\u001b[1;32md:\\program_files\\anaconda3\\envs\\tf_gpu\\lib\\site-packages\\tensorflow\\python\\util\\dispatch.py\u001b[0m in \u001b[0;36m?\u001b[1;34m(*args, **kwargs)\u001b[0m\n\u001b[0;32m   1180\u001b[0m         \u001b[0mresult\u001b[0m \u001b[1;33m=\u001b[0m \u001b[0mdispatch\u001b[0m\u001b[1;33m(\u001b[0m\u001b[0mop_dispatch_handler\u001b[0m\u001b[1;33m,\u001b[0m \u001b[0margs\u001b[0m\u001b[1;33m,\u001b[0m \u001b[0mkwargs\u001b[0m\u001b[1;33m)\u001b[0m\u001b[1;33m\u001b[0m\u001b[1;33m\u001b[0m\u001b[0m\n\u001b[0;32m   1181\u001b[0m         \u001b[1;32mif\u001b[0m \u001b[0mresult\u001b[0m \u001b[1;32mis\u001b[0m \u001b[1;32mnot\u001b[0m \u001b[0mOpDispatcher\u001b[0m\u001b[1;33m.\u001b[0m\u001b[0mNOT_SUPPORTED\u001b[0m\u001b[1;33m:\u001b[0m\u001b[1;33m\u001b[0m\u001b[1;33m\u001b[0m\u001b[0m\n\u001b[0;32m   1182\u001b[0m           \u001b[1;32mreturn\u001b[0m \u001b[0mresult\u001b[0m\u001b[1;33m\u001b[0m\u001b[1;33m\u001b[0m\u001b[0m\n\u001b[0;32m   1183\u001b[0m         \u001b[1;32melse\u001b[0m\u001b[1;33m:\u001b[0m\u001b[1;33m\u001b[0m\u001b[1;33m\u001b[0m\u001b[0m\n\u001b[1;32m-> 1184\u001b[1;33m           \u001b[1;32mraise\u001b[0m\u001b[1;33m\u001b[0m\u001b[1;33m\u001b[0m\u001b[0m\n\u001b[0m",
      "\u001b[1;32md:\\program_files\\anaconda3\\envs\\tf_gpu\\lib\\site-packages\\tensorflow\\python\\ops\\array_ops.py\u001b[0m in \u001b[0;36m?\u001b[1;34m(input, name)\u001b[0m\n\u001b[0;32m    290\u001b[0m   \u001b[1;32mif\u001b[0m \u001b[0mcontext\u001b[0m\u001b[1;33m.\u001b[0m\u001b[0mexecuting_eagerly\u001b[0m\u001b[1;33m(\u001b[0m\u001b[1;33m)\u001b[0m \u001b[1;32mand\u001b[0m \u001b[1;32mnot\u001b[0m \u001b[0mhasattr\u001b[0m\u001b[1;33m(\u001b[0m\u001b[0minput\u001b[0m\u001b[1;33m,\u001b[0m \u001b[1;34m\"graph\"\u001b[0m\u001b[1;33m)\u001b[0m\u001b[1;33m:\u001b[0m\u001b[1;33m\u001b[0m\u001b[1;33m\u001b[0m\u001b[0m\n\u001b[0;32m    291\u001b[0m     \u001b[1;31m# Make sure we get an input with handle data attached from resource\u001b[0m\u001b[1;33m\u001b[0m\u001b[1;33m\u001b[0m\u001b[1;33m\u001b[0m\u001b[0m\n\u001b[0;32m    292\u001b[0m     \u001b[1;31m# variables. Variables have correct handle data when graph building.\u001b[0m\u001b[1;33m\u001b[0m\u001b[1;33m\u001b[0m\u001b[1;33m\u001b[0m\u001b[0m\n\u001b[0;32m    293\u001b[0m     \u001b[0minput\u001b[0m \u001b[1;33m=\u001b[0m \u001b[0mops\u001b[0m\u001b[1;33m.\u001b[0m\u001b[0mconvert_to_tensor\u001b[0m\u001b[1;33m(\u001b[0m\u001b[0minput\u001b[0m\u001b[1;33m)\u001b[0m\u001b[1;33m\u001b[0m\u001b[1;33m\u001b[0m\u001b[0m\n\u001b[1;32m--> 294\u001b[1;33m   \u001b[0mret\u001b[0m \u001b[1;33m=\u001b[0m \u001b[0mgen_array_ops\u001b[0m\u001b[1;33m.\u001b[0m\u001b[0midentity\u001b[0m\u001b[1;33m(\u001b[0m\u001b[0minput\u001b[0m\u001b[1;33m,\u001b[0m \u001b[0mname\u001b[0m\u001b[1;33m=\u001b[0m\u001b[0mname\u001b[0m\u001b[1;33m)\u001b[0m\u001b[1;33m\u001b[0m\u001b[1;33m\u001b[0m\u001b[0m\n\u001b[0m\u001b[0;32m    295\u001b[0m   \u001b[1;31m# Propagate handle data for happier shape inference for resource variables.\u001b[0m\u001b[1;33m\u001b[0m\u001b[1;33m\u001b[0m\u001b[1;33m\u001b[0m\u001b[0m\n\u001b[0;32m    296\u001b[0m   \u001b[1;32mif\u001b[0m \u001b[0mhasattr\u001b[0m\u001b[1;33m(\u001b[0m\u001b[0minput\u001b[0m\u001b[1;33m,\u001b[0m \u001b[1;34m\"_handle_data\"\u001b[0m\u001b[1;33m)\u001b[0m\u001b[1;33m:\u001b[0m\u001b[1;33m\u001b[0m\u001b[1;33m\u001b[0m\u001b[0m\n\u001b[0;32m    297\u001b[0m     \u001b[0mret\u001b[0m\u001b[1;33m.\u001b[0m\u001b[0m_handle_data\u001b[0m \u001b[1;33m=\u001b[0m \u001b[0minput\u001b[0m\u001b[1;33m.\u001b[0m\u001b[0m_handle_data\u001b[0m  \u001b[1;31m# pylint: disable=protected-access\u001b[0m\u001b[1;33m\u001b[0m\u001b[1;33m\u001b[0m\u001b[0m\n",
      "\u001b[1;32md:\\program_files\\anaconda3\\envs\\tf_gpu\\lib\\site-packages\\tensorflow\\python\\ops\\gen_array_ops.py\u001b[0m in \u001b[0;36m?\u001b[1;34m(input, name)\u001b[0m\n\u001b[0;32m   4070\u001b[0m       \u001b[1;32mreturn\u001b[0m \u001b[0m_result\u001b[0m\u001b[1;33m\u001b[0m\u001b[1;33m\u001b[0m\u001b[0m\n\u001b[0;32m   4071\u001b[0m     \u001b[1;32mexcept\u001b[0m \u001b[0m_core\u001b[0m\u001b[1;33m.\u001b[0m\u001b[0m_NotOkStatusException\u001b[0m \u001b[1;32mas\u001b[0m \u001b[0me\u001b[0m\u001b[1;33m:\u001b[0m\u001b[1;33m\u001b[0m\u001b[1;33m\u001b[0m\u001b[0m\n\u001b[0;32m   4072\u001b[0m       \u001b[0m_ops\u001b[0m\u001b[1;33m.\u001b[0m\u001b[0mraise_from_not_ok_status\u001b[0m\u001b[1;33m(\u001b[0m\u001b[0me\u001b[0m\u001b[1;33m,\u001b[0m \u001b[0mname\u001b[0m\u001b[1;33m)\u001b[0m\u001b[1;33m\u001b[0m\u001b[1;33m\u001b[0m\u001b[0m\n\u001b[0;32m   4073\u001b[0m     \u001b[1;32mexcept\u001b[0m \u001b[0m_core\u001b[0m\u001b[1;33m.\u001b[0m\u001b[0m_FallbackException\u001b[0m\u001b[1;33m:\u001b[0m\u001b[1;33m\u001b[0m\u001b[1;33m\u001b[0m\u001b[0m\n\u001b[1;32m-> 4074\u001b[1;33m       \u001b[1;32mpass\u001b[0m\u001b[1;33m\u001b[0m\u001b[1;33m\u001b[0m\u001b[0m\n\u001b[0m\u001b[0;32m   4075\u001b[0m     \u001b[1;32mtry\u001b[0m\u001b[1;33m:\u001b[0m\u001b[1;33m\u001b[0m\u001b[1;33m\u001b[0m\u001b[0m\n\u001b[0;32m   4076\u001b[0m       return identity_eager_fallback(\n\u001b[0;32m   4077\u001b[0m           input, name=name, ctx=_ctx)\n",
      "\u001b[1;31mKeyboardInterrupt\u001b[0m: "
     ]
    }
   ],
   "source": [
    "model.compile(optimizer=tf.keras.optimizers.Adam(learning_rate=best_params['learning_rate']), \n",
    "              loss='sparse_categorical_crossentropy', \n",
    "              metrics=['accuracy', F1Score()])\n",
    "\n",
    "model.fit(train_ds, epochs=100, validation_data=(val_ds), verbose=2, \n",
    "          callbacks=[WandbMetricsLogger(), early_stopping])"
   ]
  },
  {
   "cell_type": "code",
   "execution_count": null,
   "metadata": {},
   "outputs": [],
   "source": []
  }
 ],
 "metadata": {
  "kernelspec": {
   "display_name": "tf_gpu",
   "language": "python",
   "name": "python3"
  },
  "language_info": {
   "codemirror_mode": {
    "name": "ipython",
    "version": 3
   },
   "file_extension": ".py",
   "mimetype": "text/x-python",
   "name": "python",
   "nbconvert_exporter": "python",
   "pygments_lexer": "ipython3",
   "version": "3.8.19"
  }
 },
 "nbformat": 4,
 "nbformat_minor": 2
}
