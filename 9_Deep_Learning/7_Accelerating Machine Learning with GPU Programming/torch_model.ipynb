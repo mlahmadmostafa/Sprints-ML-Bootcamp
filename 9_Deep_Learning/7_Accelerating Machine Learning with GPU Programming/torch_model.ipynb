{
 "cells": [
  {
   "cell_type": "markdown",
   "metadata": {},
   "source": [
    "Torch Model:"
   ]
  },
  {
   "cell_type": "code",
   "execution_count": 1,
   "metadata": {},
   "outputs": [],
   "source": [
    "from torchvision import transforms\n",
    "import torch\n",
    "transform_train = transforms.Compose([\n",
    "    transforms.RandomCrop(32, padding=4),\n",
    "    transforms.RandomHorizontalFlip(),\n",
    "    transforms.ToTensor(),\n",
    "    transforms.Normalize(mean=[0.4914, 0.4822, 0.4471], std=[0.2023, 0.1994, 0.2010]) # CIFAR-10 stats\n",
    "])\n",
    "\n",
    "transform_test = transforms.Compose([\n",
    "    transforms.ToTensor(),\n",
    "    transforms.Normalize(mean=[0.4914, 0.4822, 0.4471], std=[0.2023, 0.1994, 0.2010]) # CIFAR-10 stats\n",
    "])"
   ]
  },
  {
   "cell_type": "code",
   "execution_count": 2,
   "metadata": {},
   "outputs": [
    {
     "name": "stdout",
     "output_type": "stream",
     "text": [
      "Files already downloaded and verified\n",
      "Files already downloaded and verified\n"
     ]
    }
   ],
   "source": [
    "# load cifar10 for torch\n",
    "from torchvision.datasets import CIFAR10\n",
    "from torch.utils.data import DataLoader\n",
    "\n",
    "train_dataset = CIFAR10(root='./data', train=True, download=True, transform=transform_train)\n",
    "test_dataset = CIFAR10(root='./data', train=False, download=True, transform=transform_test)\n",
    "\n",
    "train_dataloader = DataLoader(train_dataset, batch_size=32, shuffle=True)\n",
    "test_dataloader = DataLoader(test_dataset, batch_size=32, shuffle=False)"
   ]
  },
  {
   "cell_type": "code",
   "execution_count": 3,
   "metadata": {},
   "outputs": [],
   "source": [
    "from torch import nn\n",
    "# using distillation\n",
    "class ResidualBlock(nn.Module):\n",
    "    def __init__(self, in_channels, out_channels, stride=1):\n",
    "        super(ResidualBlock, self).__init__()\n",
    "        self.conv1 = nn.Conv2d(in_channels, out_channels, kernel_size=3, stride=stride, padding=1, bias=False)\n",
    "        self.bn1 = nn.BatchNorm2d(out_channels)\n",
    "        self.relu = nn.ReLU()\n",
    "        self.conv2 = nn.Conv2d(out_channels, out_channels, kernel_size=3, stride=1, padding=1, bias=False)\n",
    "        self.bn2 = nn.BatchNorm2d(out_channels)\n",
    "\n",
    "        self.shortcut = nn.Sequential()\n",
    "        if stride != 1 or in_channels != out_channels:\n",
    "            self.shortcut = nn.Sequential(\n",
    "                nn.Conv2d(in_channels, out_channels, kernel_size=1, stride=stride, bias=False),\n",
    "                nn.BatchNorm2d(out_channels)\n",
    "            )\n",
    "\n",
    "    def forward(self, x):\n",
    "        out = self.relu(self.bn1(self.conv1(x)))\n",
    "        out = self.bn2(self.conv2(out))\n",
    "        out += self.shortcut(x)\n",
    "        out = self.relu(out)\n",
    "        return out\n",
    "\n",
    "    \n",
    "class ResNet6(nn.Module):\n",
    "    def __init__(self, num_classes=10):\n",
    "        super(ResNet6, self).__init__()\n",
    "        self.conv1 = nn.Conv2d(3, 16, kernel_size=3, stride=1, padding=1, bias=False)\n",
    "        self.bn1 = nn.BatchNorm2d(16)\n",
    "        self.layer1 = ResidualBlock(16, 16, stride=1)  # 32x32 → 32x32\n",
    "        self.layer2 = ResidualBlock(16, 32, stride=2)  # 32x32 → 16x16\n",
    "        self.relu = nn.ReLU()\n",
    "        self.fc = nn.Linear(32 * 16 * 16, num_classes)\n",
    "\n",
    "    def forward(self, x):\n",
    "        out = self.relu(self.bn1(self.conv1(x)))\n",
    "        out = self.layer1(out)\n",
    "        out = self.layer2(out)\n",
    "        out = out.view(out.size(0), -1)\n",
    "        return self.fc(out)\n",
    "    "
   ]
  },
  {
   "cell_type": "code",
   "execution_count": 4,
   "metadata": {},
   "outputs": [],
   "source": [
    "from torch.optim import Adam\n",
    "criterion = nn.CrossEntropyLoss()\n",
    "\n",
    "def train(model, dataloader, device, ):\n",
    "    for batch_idx, (data, target) in enumerate(dataloader):\n",
    "        model.train()\n",
    "        data, target = data.to(device), target.to(device)\n",
    "        optimizer.zero_grad()\n",
    "        output = model(data)\n",
    "        \n",
    "        loss = criterion(output, target)\n",
    "        loss.backward()\n",
    "        optimizer.step()\n",
    "        \n",
    "        if batch_idx % 10 == 0:\n",
    "            print(f\"\\rBatch: { batch_idx}/{len(dataloader)}, Loss: {loss.item():.4f}                           \", end = '')\n",
    "    train_loss, train_acc = test(model, dataloader, device)\n",
    "    return train_loss, train_acc\n",
    "\n",
    "def test(model, dataloader, device):\n",
    "    model.eval()\n",
    "    test_loss = 0\n",
    "    correct = 0\n",
    "    with torch.no_grad():\n",
    "        for data, target in dataloader:\n",
    "            data, target = data.to(device), target.to(device)\n",
    "            output = model(data)\n",
    "            \n",
    "            test_loss += criterion(output, target).item()  # sum up batch loss\n",
    "\n",
    "            pred = output.argmax(dim=1, keepdim=True)  # get the index of the max log-probability\n",
    "            correct += pred.eq(target.view_as(pred)).sum().item()\n",
    "\n",
    "    test_loss /= len(dataloader.dataset)\n",
    "\n",
    "    return test_loss, 100. * correct / len(dataloader.dataset)\n"
   ]
  },
  {
   "cell_type": "code",
   "execution_count": 5,
   "metadata": {},
   "outputs": [
    {
     "name": "stdout",
     "output_type": "stream",
     "text": [
      "Batch: 1560/1563, Loss: 1.1564                           Time with GPU: 51.175527572631836\n",
      "Batch: 1560/1563, Loss: 2.5904                           Time with CPU: 78.76960921287537\n"
     ]
    }
   ],
   "source": [
    "import time\n",
    "# Training \n",
    "\n",
    "\n",
    "model_gpu = ResNet6(num_classes=10)\n",
    "model_gpu = model_gpu.to('cuda')\n",
    "optimizer = Adam(model_gpu.parameters(), lr=0.001)\n",
    "\n",
    "device = 'cuda'\n",
    "start_time = time.time()\n",
    "for epoch in range(1):\n",
    "    train_loss, train_acc = train(model_gpu, train_dataloader, device)\n",
    "    test_loss, test_acc = test(model_gpu, test_dataloader, device)\n",
    "\n",
    "end_time = time.time()\n",
    "\n",
    "gpu_time_torch = end_time - start_time\n",
    "print(\"Time with GPU:\", gpu_time_torch)\n",
    "\n",
    "\n",
    "model_cpu = ResNet6(num_classes=10)\n",
    "optimizer = Adam(model_gpu.parameters(), lr=0.001)\n",
    "\n",
    "device = 'cpu'\n",
    "start_time = time.time()\n",
    "for epoch in range(1):\n",
    "    train_loss, train_acc = train(model_cpu, train_dataloader, device)\n",
    "    test_loss, test_acc = test(model_cpu, test_dataloader, device)\n",
    "end_time = time.time()\n",
    "\n",
    "cpu_time_torch = end_time - start_time\n",
    "print(\"Time with CPU:\", cpu_time_torch)"
   ]
  }
 ],
 "metadata": {
  "kernelspec": {
   "display_name": "torch_gpu",
   "language": "python",
   "name": "python3"
  },
  "language_info": {
   "codemirror_mode": {
    "name": "ipython",
    "version": 3
   },
   "file_extension": ".py",
   "mimetype": "text/x-python",
   "name": "python",
   "nbconvert_exporter": "python",
   "pygments_lexer": "ipython3",
   "version": "3.11.10"
  }
 },
 "nbformat": 4,
 "nbformat_minor": 2
}
