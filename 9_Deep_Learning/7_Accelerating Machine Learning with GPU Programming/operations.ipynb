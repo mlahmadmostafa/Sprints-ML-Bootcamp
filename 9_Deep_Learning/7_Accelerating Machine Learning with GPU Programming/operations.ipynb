{
 "cells": [
  {
   "cell_type": "code",
   "execution_count": 1,
   "metadata": {},
   "outputs": [
    {
     "name": "stdout",
     "output_type": "stream",
     "text": [
      "Time with CPU: 0.14174723625183105\n",
      "Time with GPU: 0.03289461135864258\n",
      "cpu time: 0.14174723625183105, gpu time: 0.03289461135864258\n"
     ]
    }
   ],
   "source": [
    "# multiplying a Matrix by a Matrix\n",
    "import torch\n",
    "import time\n",
    "\n",
    "# with cpu\n",
    "A = torch.rand(10000, 3)\n",
    "B = torch.rand(3, 10000)\n",
    "\n",
    "A = A.to(\"cpu\")\n",
    "B = B.to(\"cpu\")\n",
    "\n",
    "start = time.time()\n",
    "torch.matmul(A, B)\n",
    "end = time.time()\n",
    "\n",
    "cpu_time = end - start\n",
    "print(\"Time with CPU:\", cpu_time)\n",
    "\n",
    "# with gpu\n",
    "A = A.to(\"cuda\")\n",
    "B = B.to(\"cuda\")\n",
    "\n",
    "start = time.time()\n",
    "torch.matmul(A, B)\n",
    "end = time.time()\n",
    "\n",
    "gpu_time = end - start\n",
    "print(\"Time with GPU:\", gpu_time)\n",
    "\n",
    "print(f\"cpu time: {cpu_time}, gpu time: {gpu_time}\", )\n",
    "del A, B"
   ]
  },
  {
   "cell_type": "code",
   "execution_count": 2,
   "metadata": {},
   "outputs": [
    {
     "name": "stdout",
     "output_type": "stream",
     "text": [
      "Time with CPU: 0.0\n",
      "Time with GPU: 0.042241573333740234\n",
      "cpu time: 0.0, gpu time: 0.042241573333740234\n"
     ]
    }
   ],
   "source": [
    "# adding a Matrix by itself\n",
    "import torch\n",
    "import time\n",
    "\n",
    "# with cpu\n",
    "A = torch.rand(10000, 3)\n",
    "B = torch.rand(10000, 3)\n",
    "\n",
    "A = A.to(\"cpu\")\n",
    "B = B.to(\"cpu\")\n",
    "\n",
    "start = time.time()\n",
    "torch.add(A, B)\n",
    "end = time.time()\n",
    "\n",
    "cpu_time = end - start\n",
    "print(\"Time with CPU:\", cpu_time)\n",
    "\n",
    "# with gpu\n",
    "A = A.to(\"cuda\")\n",
    "B = B.to(\"cuda\")\n",
    "\n",
    "start = time.time()\n",
    "torch.add(A, B)\n",
    "end = time.time()\n",
    "\n",
    "gpu_time = end - start\n",
    "print(\"Time with GPU:\", gpu_time)\n",
    "\n",
    "print(f\"cpu time: {cpu_time}, gpu time: {gpu_time}\", )\n",
    "del A, B"
   ]
  }
 ],
 "metadata": {
  "kernelspec": {
   "display_name": "torch_gpu",
   "language": "python",
   "name": "python3"
  },
  "language_info": {
   "codemirror_mode": {
    "name": "ipython",
    "version": 3
   },
   "file_extension": ".py",
   "mimetype": "text/x-python",
   "name": "python",
   "nbconvert_exporter": "python",
   "pygments_lexer": "ipython3",
   "version": "3.11.10"
  }
 },
 "nbformat": 4,
 "nbformat_minor": 2
}
