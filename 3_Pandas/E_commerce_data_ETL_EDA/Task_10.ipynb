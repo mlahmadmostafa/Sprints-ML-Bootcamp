{
 "cells": [
  {
   "cell_type": "code",
   "execution_count": 1,
   "metadata": {},
   "outputs": [],
   "source": [
    "import numpy as np\n",
    "import pandas as pd\n",
    "import matplotlib.pyplot as plt\n",
    "import seaborn as sns\n",
    "from time import time"
   ]
  },
  {
   "cell_type": "code",
   "execution_count": 2,
   "metadata": {},
   "outputs": [],
   "source": [
    "# Importing cleaned data from task 1\n",
    "df = pd.read_csv(\"cleaned_data.csv\", encoding='latin1')"
   ]
  },
  {
   "cell_type": "code",
   "execution_count": 3,
   "metadata": {},
   "outputs": [
    {
     "data": {
      "text/html": [
       "<div>\n",
       "<style scoped>\n",
       "    .dataframe tbody tr th:only-of-type {\n",
       "        vertical-align: middle;\n",
       "    }\n",
       "\n",
       "    .dataframe tbody tr th {\n",
       "        vertical-align: top;\n",
       "    }\n",
       "\n",
       "    .dataframe thead th {\n",
       "        text-align: right;\n",
       "    }\n",
       "</style>\n",
       "<table border=\"1\" class=\"dataframe\">\n",
       "  <thead>\n",
       "    <tr style=\"text-align: right;\">\n",
       "      <th></th>\n",
       "      <th>InvoiceNo</th>\n",
       "      <th>StockCode</th>\n",
       "      <th>Description</th>\n",
       "      <th>Quantity</th>\n",
       "      <th>InvoiceDate</th>\n",
       "      <th>UnitPrice</th>\n",
       "      <th>CustomerID</th>\n",
       "      <th>Country</th>\n",
       "      <th>TotalPrice</th>\n",
       "    </tr>\n",
       "  </thead>\n",
       "  <tbody>\n",
       "    <tr>\n",
       "      <th>0</th>\n",
       "      <td>536365</td>\n",
       "      <td>85123A</td>\n",
       "      <td>WHITE HANGING HEART T-LIGHT HOLDER</td>\n",
       "      <td>6</td>\n",
       "      <td>2010-12-01 08:26:00</td>\n",
       "      <td>2.55</td>\n",
       "      <td>17850.0</td>\n",
       "      <td>United Kingdom</td>\n",
       "      <td>15.30</td>\n",
       "    </tr>\n",
       "    <tr>\n",
       "      <th>1</th>\n",
       "      <td>536365</td>\n",
       "      <td>71053</td>\n",
       "      <td>WHITE METAL LANTERN</td>\n",
       "      <td>6</td>\n",
       "      <td>2010-12-01 08:26:00</td>\n",
       "      <td>3.39</td>\n",
       "      <td>17850.0</td>\n",
       "      <td>United Kingdom</td>\n",
       "      <td>20.34</td>\n",
       "    </tr>\n",
       "  </tbody>\n",
       "</table>\n",
       "</div>"
      ],
      "text/plain": [
       "   InvoiceNo StockCode                         Description  Quantity  \\\n",
       "0     536365    85123A  WHITE HANGING HEART T-LIGHT HOLDER         6   \n",
       "1     536365     71053                 WHITE METAL LANTERN         6   \n",
       "\n",
       "           InvoiceDate  UnitPrice  CustomerID         Country  TotalPrice  \n",
       "0  2010-12-01 08:26:00       2.55     17850.0  United Kingdom       15.30  \n",
       "1  2010-12-01 08:26:00       3.39     17850.0  United Kingdom       20.34  "
      ]
     },
     "execution_count": 3,
     "metadata": {},
     "output_type": "execute_result"
    }
   ],
   "source": [
    "df.head(2) # Showing top 2 rows"
   ]
  },
  {
   "cell_type": "markdown",
   "metadata": {},
   "source": [
    "So, I will try to calculate z-score for TotalPrice with:\n",
    "\n",
    "1 - Loops\n",
    "\n",
    "2 - vectorization\n",
    "\n",
    "3 - Apply method"
   ]
  },
  {
   "cell_type": "code",
   "execution_count": 4,
   "metadata": {},
   "outputs": [
    {
     "name": "stdout",
     "output_type": "stream",
     "text": [
      "Time elapsed 46.65147686004639 Seconds\n",
      "Time elapsed 47.015746116638184 Seconds\n",
      "Time elapsed 47.13903307914734 Seconds\n",
      "Time elapsed 46.397616147994995 Seconds\n",
      "Time elapsed 46.67224359512329 Seconds\n",
      "Average time = 46.77522315979004 Seconds\n"
     ]
    }
   ],
   "source": [
    "# Using For loop\n",
    "mean = np.mean(df['TotalPrice'])  # for z-score calculation \n",
    "std_dev = np.std(df['TotalPrice']) # for z-score calculation \n",
    "\n",
    "for_sum = 0 # For time sum init to find average later\n",
    "for i in range(5): # Finding the average time to beat processor state\n",
    "    start = time() # Marking the start of the time\n",
    "    for i in range(len(df)):\n",
    "        # Z = (X - mean)/std\n",
    "        df.loc[i,'Standarized TotalPrice'] = (df.loc[i,'TotalPrice'] - mean)/std_dev\n",
    "    end = time() # Marking the end of the time\n",
    "    for_time = end - start\n",
    "    for_sum+= for_time\n",
    "    print(\"Time elapsed\", for_time,\"Seconds\")\n",
    "for_average_time = for_sum/5\n",
    "print(\"Average time =\",for_average_time,\"Seconds\")\n"
   ]
  },
  {
   "cell_type": "code",
   "execution_count": 5,
   "metadata": {},
   "outputs": [
    {
     "name": "stdout",
     "output_type": "stream",
     "text": [
      "Time elapsed 0.0035414695739746094 Seconds\n",
      "Time elapsed 0.00312042236328125 Seconds\n",
      "Time elapsed 0.002566814422607422 Seconds\n",
      "Time elapsed 0.0020284652709960938 Seconds\n",
      "Time elapsed 0.0020232200622558594 Seconds\n",
      "Average time = 0.002656078338623047 Seconds\n"
     ]
    }
   ],
   "source": [
    "# Using Vectorization\n",
    "vec_sum = 0 # Vectorization time sum init to find average later\n",
    "for i in range(5): # Finding the average time to beat processor state\n",
    "    start = time()\n",
    "    df['Standarized TotalPrice'] = (df['TotalPrice'] - mean)/std_dev\n",
    "    end = time()\n",
    "    vectorization_time = end - start\n",
    "    print(\"Time elapsed\", vectorization_time,\"Seconds\")\n",
    "    vec_sum += vectorization_time\n",
    "vec_average_time = vec_sum/5\n",
    "print(\"Average time =\",vec_average_time,\"Seconds\")"
   ]
  },
  {
   "cell_type": "code",
   "execution_count": 6,
   "metadata": {},
   "outputs": [
    {
     "name": "stdout",
     "output_type": "stream",
     "text": [
      "Time elapsed 0.1635739803314209 Seconds\n",
      "Time elapsed 0.1312711238861084 Seconds\n",
      "Time elapsed 0.1288306713104248 Seconds\n",
      "Time elapsed 0.13824892044067383 Seconds\n",
      "Time elapsed 0.11987829208374023 Seconds\n",
      "Average time = 0.13636059761047364 Seconds\n"
     ]
    }
   ],
   "source": [
    "# Using Apply method\n",
    "\n",
    "def standarize(num): # Creating function for Apply method to use\n",
    "    return (num - mean)/std_dev\n",
    "\n",
    "apply_sum = 0 # Apply method time sum init to find average later\n",
    "for i in range(5):\n",
    "    start = time()\n",
    "    df['Standarized TotalPrice'] = df['TotalPrice'].apply(standarize)\n",
    "    end = time()\n",
    "    apply_time = end - start\n",
    "    apply_sum+= apply_time\n",
    "    print(\"Time elapsed\", apply_time,\"Seconds\")\n",
    "apply_average_time = apply_sum/5\n",
    "print(\"Average time =\",apply_average_time,\"Seconds\")"
   ]
  },
  {
   "cell_type": "code",
   "execution_count": 7,
   "metadata": {},
   "outputs": [
    {
     "name": "stderr",
     "output_type": "stream",
     "text": [
      "C:\\Users\\ahmad\\AppData\\Local\\Temp\\ipykernel_22900\\3232390593.py:7: FutureWarning: \n",
      "\n",
      "Passing `palette` without assigning `hue` is deprecated and will be removed in v0.14.0. Assign the `x` variable to `hue` and set `legend=False` for the same effect.\n",
      "\n",
      "  sns.barplot(x='Method', y='Time', data=df, palette=['red', 'blue', 'green'], edgecolor='black')\n",
      "C:\\Users\\ahmad\\AppData\\Local\\Temp\\ipykernel_22900\\3232390593.py:10: FutureWarning: \n",
      "\n",
      "Passing `palette` without assigning `hue` is deprecated and will be removed in v0.14.0. Assign the `x` variable to `hue` and set `legend=False` for the same effect.\n",
      "\n",
      "  sns.barplot(x='Method', y='Time', data=df, palette=['red', 'blue', 'green'], edgecolor='black')\n"
     ]
    },
    {
     "data": {
      "image/png": "[encoded data removed]",
      "text/plain": [
       "<Figure size 1000x500 with 2 Axes>"
      ]
     },
     "metadata": {},
     "output_type": "display_data"
    }
   ],
   "source": [
    "df = pd.DataFrame([[\"For loop\",for_average_time],\n",
    "                  [\"Vectorization\",vec_average_time],\n",
    "                  [\"Apply\",apply_average_time]],\n",
    "                  columns = [\"Method\",\"Time\"])\n",
    "plt.figure(figsize=(10,5))\n",
    "plt.subplot(1, 2, 1)\n",
    "sns.barplot(x='Method', y='Time', data=df, palette=['red', 'blue', 'green'], edgecolor='black')\n",
    "plt.title(\"Comparison without log scale\")\n",
    "plt.subplot(1, 2, 2) \n",
    "sns.barplot(x='Method', y='Time', data=df, palette=['red', 'blue', 'green'], edgecolor='black')\n",
    "plt.title(\"Comparison with log scale\")\n",
    "plt.yscale(\"log\")"
   ]
  },
  {
   "cell_type": "code",
   "execution_count": null,
   "metadata": {},
   "outputs": [],
   "source": []
  }
 ],
 "metadata": {
  "kernelspec": {
   "display_name": "Python 3",
   "language": "python",
   "name": "python3"
  },
  "language_info": {
   "codemirror_mode": {
    "name": "ipython",
    "version": 3
   },
   "file_extension": ".py",
   "mimetype": "text/x-python",
   "name": "python",
   "nbconvert_exporter": "python",
   "pygments_lexer": "ipython3",
   "version": "3.12.4"
  }
 },
 "nbformat": 4,
 "nbformat_minor": 2
}
