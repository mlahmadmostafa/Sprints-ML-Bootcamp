{
 "cells": [
  {
   "cell_type": "code",
   "execution_count": 1,
   "metadata": {},
   "outputs": [],
   "source": [
    "import numpy as np\n",
    "import pandas as pd\n",
    "import matplotlib.pyplot as plt\n",
    "import seaborn as sns"
   ]
  },
  {
   "cell_type": "code",
   "execution_count": 2,
   "metadata": {},
   "outputs": [],
   "source": [
    "# Importing cleaned data from task 1\n",
    "df = pd.read_csv(\"cleaned_data.csv\", encoding='latin1')"
   ]
  },
  {
   "cell_type": "markdown",
   "metadata": {},
   "source": [
    "### So, to extract category from description column we can either:\n",
    "1 - Extract the last 2 words from the description column and use them as category\n",
    "\n",
    "2 - Over kill it with an LLM\n",
    "\n",
    "The first approach is much faster but less precise, Though I would recommend it as it is less costly"
   ]
  },
  {
   "cell_type": "markdown",
   "metadata": {},
   "source": [
    "## Using the first approach:"
   ]
  },
  {
   "cell_type": "code",
   "execution_count": 3,
   "metadata": {},
   "outputs": [],
   "source": [
    "import re\n",
    "\n",
    "# Cleaning Description and removing extra spaces\n",
    "def clean_text(text):\n",
    "    # Cleaning text from non-Alphabet words\n",
    "    text = re.sub(r'[^a-zA-Z\\s]', '', text)\n",
    "    # using last 2 words as category\n",
    "    return \" \".join(text.split()[-2:]).lower() # This could also be done by using the last word\n",
    "df[\"Categories\"] = df[\"Description\"].apply(clean_text)"
   ]
  },
  {
   "cell_type": "code",
   "execution_count": 4,
   "metadata": {},
   "outputs": [
    {
     "data": {
      "text/plain": [
       "2273"
      ]
     },
     "execution_count": 4,
     "metadata": {},
     "output_type": "execute_result"
    }
   ],
   "source": [
    "# Counting unique Categories\n",
    "len(df[\"Categories\"].unique())"
   ]
  },
  {
   "cell_type": "code",
   "execution_count": 5,
   "metadata": {},
   "outputs": [
    {
     "data": {
      "text/html": [
       "<div>\n",
       "<style scoped>\n",
       "    .dataframe tbody tr th:only-of-type {\n",
       "        vertical-align: middle;\n",
       "    }\n",
       "\n",
       "    .dataframe tbody tr th {\n",
       "        vertical-align: top;\n",
       "    }\n",
       "\n",
       "    .dataframe thead th {\n",
       "        text-align: right;\n",
       "    }\n",
       "</style>\n",
       "<table border=\"1\" class=\"dataframe\">\n",
       "  <thead>\n",
       "    <tr style=\"text-align: right;\">\n",
       "      <th></th>\n",
       "      <th>InvoiceNo</th>\n",
       "      <th>StockCode</th>\n",
       "      <th>Description</th>\n",
       "      <th>Quantity</th>\n",
       "      <th>InvoiceDate</th>\n",
       "      <th>UnitPrice</th>\n",
       "      <th>CustomerID</th>\n",
       "      <th>Country</th>\n",
       "      <th>TotalPrice</th>\n",
       "      <th>Categories</th>\n",
       "    </tr>\n",
       "  </thead>\n",
       "  <tbody>\n",
       "    <tr>\n",
       "      <th>0</th>\n",
       "      <td>536365</td>\n",
       "      <td>85123A</td>\n",
       "      <td>WHITE HANGING HEART T-LIGHT HOLDER</td>\n",
       "      <td>6</td>\n",
       "      <td>2010-12-01 08:26:00</td>\n",
       "      <td>2.55</td>\n",
       "      <td>17850.0</td>\n",
       "      <td>United Kingdom</td>\n",
       "      <td>15.30</td>\n",
       "      <td>tlight holder</td>\n",
       "    </tr>\n",
       "    <tr>\n",
       "      <th>1</th>\n",
       "      <td>536365</td>\n",
       "      <td>71053</td>\n",
       "      <td>WHITE METAL LANTERN</td>\n",
       "      <td>6</td>\n",
       "      <td>2010-12-01 08:26:00</td>\n",
       "      <td>3.39</td>\n",
       "      <td>17850.0</td>\n",
       "      <td>United Kingdom</td>\n",
       "      <td>20.34</td>\n",
       "      <td>metal lantern</td>\n",
       "    </tr>\n",
       "  </tbody>\n",
       "</table>\n",
       "</div>"
      ],
      "text/plain": [
       "   InvoiceNo StockCode                         Description  Quantity  \\\n",
       "0     536365    85123A  WHITE HANGING HEART T-LIGHT HOLDER         6   \n",
       "1     536365     71053                 WHITE METAL LANTERN         6   \n",
       "\n",
       "           InvoiceDate  UnitPrice  CustomerID         Country  TotalPrice  \\\n",
       "0  2010-12-01 08:26:00       2.55     17850.0  United Kingdom       15.30   \n",
       "1  2010-12-01 08:26:00       3.39     17850.0  United Kingdom       20.34   \n",
       "\n",
       "      Categories  \n",
       "0  tlight holder  \n",
       "1  metal lantern  "
      ]
     },
     "execution_count": 5,
     "metadata": {},
     "output_type": "execute_result"
    }
   ],
   "source": [
    "df.head(2)"
   ]
  },
  {
   "cell_type": "code",
   "execution_count": 6,
   "metadata": {},
   "outputs": [
    {
     "data": {
      "text/html": [
       "<div>\n",
       "<style scoped>\n",
       "    .dataframe tbody tr th:only-of-type {\n",
       "        vertical-align: middle;\n",
       "    }\n",
       "\n",
       "    .dataframe tbody tr th {\n",
       "        vertical-align: top;\n",
       "    }\n",
       "\n",
       "    .dataframe thead th {\n",
       "        text-align: right;\n",
       "    }\n",
       "</style>\n",
       "<table border=\"1\" class=\"dataframe\">\n",
       "  <thead>\n",
       "    <tr style=\"text-align: right;\">\n",
       "      <th></th>\n",
       "      <th>TotalPrice</th>\n",
       "    </tr>\n",
       "    <tr>\n",
       "      <th>Categories</th>\n",
       "      <th></th>\n",
       "    </tr>\n",
       "  </thead>\n",
       "  <tbody>\n",
       "    <tr>\n",
       "      <th>tlight holder</th>\n",
       "      <td>229471.09</td>\n",
       "    </tr>\n",
       "    <tr>\n",
       "      <th>metal sign</th>\n",
       "      <td>182766.16</td>\n",
       "    </tr>\n",
       "    <tr>\n",
       "      <th>little birdie</th>\n",
       "      <td>168469.60</td>\n",
       "    </tr>\n",
       "    <tr>\n",
       "      <th>red retrospot</th>\n",
       "      <td>164710.65</td>\n",
       "    </tr>\n",
       "    <tr>\n",
       "      <th>cakestand tier</th>\n",
       "      <td>150969.55</td>\n",
       "    </tr>\n",
       "  </tbody>\n",
       "</table>\n",
       "</div>"
      ],
      "text/plain": [
       "                TotalPrice\n",
       "Categories                \n",
       "tlight holder    229471.09\n",
       "metal sign       182766.16\n",
       "little birdie    168469.60\n",
       "red retrospot    164710.65\n",
       "cakestand tier   150969.55"
      ]
     },
     "execution_count": 6,
     "metadata": {},
     "output_type": "execute_result"
    }
   ],
   "source": [
    "# creating an aggregation for Total price of categories\n",
    "# ordering from largest revenue to smallest \n",
    "df_Cat_total_price = df[['Categories', 'TotalPrice']].groupby('Categories').sum().sort_values(by='TotalPrice', ascending=False)\n",
    "df_Cat_total_price.head()"
   ]
  },
  {
   "cell_type": "code",
   "execution_count": 7,
   "metadata": {},
   "outputs": [
    {
     "name": "stderr",
     "output_type": "stream",
     "text": [
      "C:\\Users\\ahmad\\AppData\\Local\\Temp\\ipykernel_13572\\3129089179.py:4: FutureWarning: \n",
      "\n",
      "Passing `palette` without assigning `hue` is deprecated and will be removed in v0.14.0. Assign the `x` variable to `hue` and set `legend=False` for the same effect.\n",
      "\n",
      "  ax = sns.barplot(x='Categories',\n"
     ]
    },
    {
     "data": {
      "image/png": "[encoded data removed]",
      "text/plain": [
       "<Figure size 640x480 with 1 Axes>"
      ]
     },
     "metadata": {},
     "output_type": "display_data"
    }
   ],
   "source": [
    "# only keeping top 5 categories, could use .head() too\n",
    "df_Cat_total_price_top_5 = df_Cat_total_price.iloc[:5].reset_index()\n",
    "# The bar plot for top 5 categories of revenue\n",
    "ax = sns.barplot(x='Categories', \n",
    "            y='TotalPrice', \n",
    "            data=df_Cat_total_price_top_5, \n",
    "            palette='rainbow',\n",
    "            edgecolor='black')\n",
    "# Changing the label to be more readable\n",
    "plt.ylabel(\"Total revenue\")\n",
    "\n",
    "# Adding annotation for top sold\n",
    "top_bar_index = df_Cat_total_price_top_5['TotalPrice'].idxmax()\n",
    "top_bar_value = df_Cat_total_price_top_5['TotalPrice'].max()\n",
    "ax.text(\n",
    "    top_bar_index, \n",
    "    top_bar_value + 5,\n",
    "    'Most sold', \n",
    "    ha='center', \n",
    "    va='bottom', \n",
    "    fontsize=8, \n",
    "    color='red', \n",
    "    fontweight='bold',\n",
    ")\n",
    "plt.grid()"
   ]
  },
  {
   "cell_type": "code",
   "execution_count": 8,
   "metadata": {},
   "outputs": [
    {
     "name": "stderr",
     "output_type": "stream",
     "text": [
      "C:\\Users\\ahmad\\AppData\\Local\\Temp\\ipykernel_13572\\747562760.py:5: FutureWarning: \n",
      "\n",
      "Passing `palette` without assigning `hue` is deprecated and will be removed in v0.14.0. Assign the `x` variable to `hue` and set `legend=False` for the same effect.\n",
      "\n",
      "  ax = sns.barplot(x='Categories',\n"
     ]
    },
    {
     "data": {
      "image/png": "[encoded data removed]",
      "text/plain": [
       "<Figure size 640x480 with 1 Axes>"
      ]
     },
     "metadata": {},
     "output_type": "display_data"
    }
   ],
   "source": [
    "threshhold = 110\n",
    "top_n = df_Cat_total_price.iloc[:threshhold].sum().values[0]\n",
    "other = df_Cat_total_price.iloc[threshhold:].sum().values[0]\n",
    "df_top_n_vs_other = pd.DataFrame([[\"Top 110 categories\",top_n],[\"Other categories\",other]],columns = ['Categories','TotalPrice'])\n",
    "ax = sns.barplot(x='Categories', \n",
    "            y='TotalPrice', \n",
    "            data=df_top_n_vs_other, \n",
    "            palette='rainbow',\n",
    "            edgecolor='black')"
   ]
  },
  {
   "cell_type": "markdown",
   "metadata": {},
   "source": [
    "# From the last plot we conclude that only top 110 categories have revenue as much as the rest of the 2273 categories"
   ]
  },
  {
   "cell_type": "markdown",
   "metadata": {},
   "source": [
    "### Showcasing the second approach\n",
    "### This approach has to be finetuned first"
   ]
  },
  {
   "cell_type": "code",
   "execution_count": 9,
   "metadata": {},
   "outputs": [
    {
     "name": "stderr",
     "output_type": "stream",
     "text": [
      "Device set to use cuda:0\n"
     ]
    }
   ],
   "source": [
    "from transformers import pipeline\n",
    "\n",
    "generator = pipeline(\"text-generation\", model=\"EleutherAI/gpt-neo-125M\") # Creating Model instance"
   ]
  },
  {
   "cell_type": "code",
   "execution_count": 10,
   "metadata": {},
   "outputs": [
    {
     "name": "stdout",
     "output_type": "stream",
     "text": [
      "WHITE HANGING HEART T-LIGHT HOLDER -> 'Hair Healing Hair'\n",
      "WHITE METAL LANTERN -> 'The World's Most Beautiful Metal Layers' and is available\n",
      "CREAM CUPID HEARTS COAT HANGER -> 'CREAM CUPID\n",
      "KNITTED UNION FLAG HOT WATER BOTTLE -> 'Korean Water Bottles\n",
      "RED WOOLLY HOTTIE WHITE HEART. -> 'Red WOOLLY HOTT\n",
      "Time elapsed 1.1262357234954834 seconds\n"
     ]
    }
   ],
   "source": [
    "from time import time\n",
    "import logging\n",
    "logging.getLogger('transformers').setLevel(logging.ERROR) # To remove unnecessary loggings\n",
    "\n",
    "start = time() # Calculating time\n",
    "# Extracting Categories from Description text using LLM\n",
    "for desc in df['Description'][:5]:\n",
    "    prompt = f\"This product description: '{desc}' belongs to the category:\"\n",
    "    result = generator(prompt, max_length=30, num_return_sequences=1)\n",
    "    output = f\"{result[0]['generated_text'].split(':')[-1].strip()}\"\n",
    "    print(f\"{desc} -> {output}\")\n",
    "print(\"Time elapsed\",(time()-start), 'seconds') # Printing time elapsed"
   ]
  },
  {
   "cell_type": "code",
   "execution_count": 11,
   "metadata": {},
   "outputs": [
    {
     "data": {
      "text/plain": [
       "22.10688888888889"
      ]
     },
     "execution_count": 11,
     "metadata": {},
     "output_type": "execute_result"
    }
   ],
   "source": [
    "((len(df)/5)/60)/60 # Calculating time to figure out the whole dataset"
   ]
  },
  {
   "cell_type": "markdown",
   "metadata": {},
   "source": [
    "### That means that it would take the model 22 hours to classify the entire dataset on my machine.\n",
    "### Smaller models could be useful with finetuning, but this was a showcase of what I think is the right way to do it."
   ]
  },
  {
   "cell_type": "markdown",
   "metadata": {},
   "source": []
  }
 ],
 "metadata": {
  "kernelspec": {
   "display_name": "Python 3",
   "language": "python",
   "name": "python3"
  },
  "language_info": {
   "codemirror_mode": {
    "name": "ipython",
    "version": 3
   },
   "file_extension": ".py",
   "mimetype": "text/x-python",
   "name": "python",
   "nbconvert_exporter": "python",
   "pygments_lexer": "ipython3",
   "version": "3.11.10"
  }
 },
 "nbformat": 4,
 "nbformat_minor": 2
}
