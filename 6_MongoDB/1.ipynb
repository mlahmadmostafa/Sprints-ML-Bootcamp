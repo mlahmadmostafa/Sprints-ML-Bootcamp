{
 "cells": [
  {
   "cell_type": "code",
   "execution_count": 2,
   "metadata": {},
   "outputs": [
    {
     "data": {
      "text/plain": [
       "InsertManyResult([ObjectId('678170fca1800f019e9cc243'), ObjectId('678170fca1800f019e9cc244'), ObjectId('678170fca1800f019e9cc245'), ObjectId('678170fca1800f019e9cc246'), ObjectId('678170fca1800f019e9cc247')], acknowledged=True)"
      ]
     },
     "execution_count": 2,
     "metadata": {},
     "output_type": "execute_result"
    }
   ],
   "source": [
    "from pymongo import MongoClient\n",
    "client = MongoClient('localhost:27017')\n",
    "db = client['testdb']\n",
    "collection = db['users']\n",
    "# Adding documents to the collection\n",
    "collection.insert_many([\n",
    "    {'name': 'Ahmad', 'age': 24, 'email': 'dH6lM@example.com'},\n",
    "    {'name': 'Jane', 'age': 25, 'email': 'jane@example'},\n",
    "    {'name': 'Bob', 'age': 35, 'email': 'bK8oK@example.com'},\n",
    "    {'name': 'Alice', 'age': 40, 'email': 'bK8oK@example.com'},\n",
    "    {'name': 'Harry', 'age': 45, 'email': 'bK8oK@example.com'},\n",
    "])"
   ]
  },
  {
   "cell_type": "code",
   "execution_count": 4,
   "metadata": {},
   "outputs": [
    {
     "name": "stdout",
     "output_type": "stream",
     "text": [
      "{'_id': ObjectId('678170fca1800f019e9cc243'), 'name': 'Ahmad', 'age': 24, 'email': 'dH6lM@example.com'}\n",
      "{'_id': ObjectId('678170fca1800f019e9cc244'), 'name': 'Jane', 'age': 25, 'email': 'jane@example'}\n",
      "{'_id': ObjectId('678170fca1800f019e9cc245'), 'name': 'Bob', 'age': 35, 'email': 'bK8oK@example.com'}\n",
      "{'_id': ObjectId('678170fca1800f019e9cc246'), 'name': 'Alice', 'age': 40, 'email': 'bK8oK@example.com'}\n",
      "{'_id': ObjectId('678170fca1800f019e9cc247'), 'name': 'Harry', 'age': 45, 'email': 'bK8oK@example.com'}\n"
     ]
    }
   ],
   "source": [
    "# Reading data\n",
    "for user in collection.find():\n",
    "    print(user)"
   ]
  },
  {
   "cell_type": "code",
   "execution_count": 5,
   "metadata": {},
   "outputs": [
    {
     "data": {
      "text/plain": [
       "UpdateResult({'n': 1, 'nModified': 1, 'ok': 1.0, 'updatedExisting': True}, acknowledged=True)"
      ]
     },
     "execution_count": 5,
     "metadata": {},
     "output_type": "execute_result"
    }
   ],
   "source": [
    "# updating data\n",
    "collection.update_one({'name': 'Ahmad'}, {'$set': {'age': 25}})"
   ]
  },
  {
   "cell_type": "code",
   "execution_count": 6,
   "metadata": {},
   "outputs": [
    {
     "data": {
      "text/plain": [
       "DeleteResult({'n': 0, 'ok': 1.0}, acknowledged=True)"
      ]
     },
     "execution_count": 6,
     "metadata": {},
     "output_type": "execute_result"
    }
   ],
   "source": [
    "# deleting users less than 18 years old\n",
    "collection.delete_many({'age': {'$lt': 18}})"
   ]
  },
  {
   "cell_type": "code",
   "execution_count": 10,
   "metadata": {},
   "outputs": [
    {
     "name": "stdout",
     "output_type": "stream",
     "text": [
      "{'_id': None, 'average_age': 34.0}\n"
     ]
    }
   ],
   "source": [
    "# finding average ages for users\n",
    "output = collection.aggregate([\n",
    "    {'$group': {'_id': None, 'average_age': {'$avg': '$age'}}}\n",
    "    ])\n",
    "\n",
    "for doc in output:\n",
    "    print(doc)"
   ]
  },
  {
   "cell_type": "code",
   "execution_count": 11,
   "metadata": {},
   "outputs": [
    {
     "name": "stdout",
     "output_type": "stream",
     "text": [
      "{'_id': ObjectId('678170fca1800f019e9cc245'), 'name': 'Bob', 'age': 35, 'email': 'bK8oK@example.com'}\n",
      "{'_id': ObjectId('678170fca1800f019e9cc246'), 'name': 'Alice', 'age': 40, 'email': 'bK8oK@example.com'}\n",
      "{'_id': ObjectId('678170fca1800f019e9cc247'), 'name': 'Harry', 'age': 45, 'email': 'bK8oK@example.com'}\n"
     ]
    }
   ],
   "source": [
    "# Finding users above 30 years old\n",
    "output = collection.aggregate([\n",
    "    {'$match': {'age': {'$gt': 30}}},\n",
    "    ])\n",
    "\n",
    "for doc in output:\n",
    "    print(doc)"
   ]
  },
  {
   "cell_type": "code",
   "execution_count": 12,
   "metadata": {},
   "outputs": [
    {
     "name": "stdout",
     "output_type": "stream",
     "text": [
      "{'_id': 35, 'count': 1}\n",
      "{'_id': 40, 'count': 1}\n",
      "{'_id': 25, 'count': 2}\n",
      "{'_id': 45, 'count': 1}\n"
     ]
    }
   ],
   "source": [
    "# Grouping users by age\n",
    "output = collection.aggregate([\n",
    "    {'$group': {'_id': '$age', 'count': {'$sum': 1}}},\n",
    "    ])\n",
    "\n",
    "for doc in output:\n",
    "    print(doc)"
   ]
  },
  {
   "cell_type": "code",
   "execution_count": null,
   "metadata": {},
   "outputs": [],
   "source": []
  }
 ],
 "metadata": {
  "kernelspec": {
   "display_name": "tf_gpu",
   "language": "python",
   "name": "python3"
  },
  "language_info": {
   "codemirror_mode": {
    "name": "ipython",
    "version": 3
   },
   "file_extension": ".py",
   "mimetype": "text/x-python",
   "name": "python",
   "nbconvert_exporter": "python",
   "pygments_lexer": "ipython3",
   "version": "3.8.19"
  }
 },
 "nbformat": 4,
 "nbformat_minor": 2
}
