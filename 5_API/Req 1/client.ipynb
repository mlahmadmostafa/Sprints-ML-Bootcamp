{
 "cells": [
  {
   "cell_type": "code",
   "execution_count": 12,
   "metadata": {},
   "outputs": [
    {
     "name": "stdout",
     "output_type": "stream",
     "text": [
      "Response Status Code: 200\n",
      "Response JSON: {'message': 'This is a POST request', 'received_data': {'1': {'email': 'bBtq8@example.com', 'name': 'John Doe'}}}\n",
      "Response Status Code: 200\n",
      "Response JSON: {'message': 'This is a POST request', 'received_data': {'2': {'email': 'bBtq8@example.com', 'name': 'John Doe'}}}\n",
      "Response Status Code: 200\n",
      "Response JSON: {'message': 'This is a GET request', 'received_data': {'1': {'email': 'bBtq8@example.com', 'name': 'John Doe'}, '2': {'email': 'bBtq8@example.com', 'name': 'John Doe'}}}\n"
     ]
    }
   ],
   "source": [
    "import requests\n",
    "import json\n",
    "\n",
    "url = 'http://127.0.0.1:5000/'\n",
    "\n",
    "data = {1:{\"name\": \"John Doe\", \"email\": \"bBtq8@example.com\"}}\n",
    "\n",
    "response = requests.post(url, json=data)\n",
    "\n",
    "print(\"Response Status Code:\", response.status_code)\n",
    "print(\"Response JSON:\", response.json())\n",
    "\n",
    "data = {2:{\"name\": \"John Doe\", \"email\": \"bBtq8@example.com\"}}\n",
    "\n",
    "response = requests.post(url, json=data)\n",
    "\n",
    "print(\"Response Status Code:\", response.status_code)\n",
    "print(\"Response JSON:\", response.json())\n",
    "\n",
    "response = requests.get(url)\n",
    "print(\"Response Status Code:\", response.status_code)\n",
    "print(\"Response JSON:\", response.json())\n"
   ]
  },
  {
   "cell_type": "code",
   "execution_count": null,
   "metadata": {},
   "outputs": [],
   "source": []
  }
 ],
 "metadata": {
  "kernelspec": {
   "display_name": "base",
   "language": "python",
   "name": "python3"
  },
  "language_info": {
   "codemirror_mode": {
    "name": "ipython",
    "version": 3
   },
   "file_extension": ".py",
   "mimetype": "text/x-python",
   "name": "python",
   "nbconvert_exporter": "python",
   "pygments_lexer": "ipython3",
   "version": "3.12.3"
  }
 },
 "nbformat": 4,
 "nbformat_minor": 2
}
