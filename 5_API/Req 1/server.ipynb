{
 "cells": [
  {
   "cell_type": "code",
   "execution_count": 6,
   "metadata": {},
   "outputs": [
    {
     "name": "stdout",
     "output_type": "stream",
     "text": [
      " * Serving Flask app '__main__'\n",
      " * Debug mode: on\n"
     ]
    },
    {
     "name": "stderr",
     "output_type": "stream",
     "text": [
      "WARNING: This is a development server. Do not use it in a production deployment. Use a production WSGI server instead.\n",
      " * Running on http://127.0.0.1:5000\n",
      "Press CTRL+C to quit\n",
      "127.0.0.1 - - [10/Jan/2025 18:02:45] \"POST / HTTP/1.1\" 200 -\n",
      "127.0.0.1 - - [10/Jan/2025 18:02:45] \"POST / HTTP/1.1\" 200 -\n",
      "127.0.0.1 - - [10/Jan/2025 18:02:45] \"GET / HTTP/1.1\" 200 -\n"
     ]
    }
   ],
   "source": [
    "from flask import Flask, request, jsonify\n",
    "\n",
    "app = Flask(__name__) # Passing the current python module, app if imported and __main__ if not imported\n",
    "\n",
    "database= {\n",
    "    \n",
    "}\n",
    "\n",
    "@app.route('/', methods=['GET'])\n",
    "def get_data():\n",
    "    response = {\"message\": \"This is a GET request\", \"received_data\": database}\n",
    "    return jsonify(response)\n",
    "\n",
    "@app.route('/', methods=['POST'])\n",
    "def post_data():\n",
    "    data = request.get_json()  # Get JSON data sent in the POST request\n",
    "    database.update(data)\n",
    "    response = {\"message\": \"This is a POST request\", \"received_data\": data}\n",
    "    return jsonify(response)\n",
    "\n",
    "if __name__ == \"__main__\":\n",
    "    app.run(debug=True, use_reloader=False)"
   ]
  },
  {
   "cell_type": "code",
   "execution_count": null,
   "metadata": {},
   "outputs": [],
   "source": []
  }
 ],
 "metadata": {
  "kernelspec": {
   "display_name": "base",
   "language": "python",
   "name": "python3"
  },
  "language_info": {
   "codemirror_mode": {
    "name": "ipython",
    "version": 3
   },
   "file_extension": ".py",
   "mimetype": "text/x-python",
   "name": "python",
   "nbconvert_exporter": "python",
   "pygments_lexer": "ipython3",
   "version": "3.12.3"
  }
 },
 "nbformat": 4,
 "nbformat_minor": 2
}
